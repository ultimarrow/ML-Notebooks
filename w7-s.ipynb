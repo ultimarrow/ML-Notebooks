{
  "cells": [
    {
      "cell_type": "markdown",
      "id": "7d95183f",
      "metadata": {
        "id": "7d95183f"
      },
      "source": [
        "# COMP5318 Week 7: Introduction to Keras and Multilayer Perceptrons"
      ]
    },
    {
      "cell_type": "markdown",
      "id": "c2361070",
      "metadata": {
        "id": "c2361070"
      },
      "source": [
        "Though an old idea, interest in Artificial Neural Networks has dramatically increased in recent times alongside an increase in available training data and computing power. Research has spawned a multitude of different network types and improvements which build on the ideas of the multilayer perceptron, and neural networks currently exhibit the best performance on many problems. The attraction is clear: neural networks are versatile and very powerful, with the ability to approximate any possible mapping of inputs to outputs given a sufficient number of neurons. \n",
        "\n",
        "However, despite their popularity, NNs are not always the most appropriate solution to every problem. They have limited interpretability (contrary to algorithms such as decision trees), are prone to overfitting due to their high complexity and number of parameters, can be difficult to design and tune hyperparameters (as we will see in today's lab), and can have very long runtimes if we utilise large networks. Like any powerful tool, their use should be carefully considered before deployment. \n",
        "\n",
        "In this lab, we will introduce you to the implementation of multilayer percepton (MLP) networks using the Keras library and explore the hyperparameters of multilayer perceptrons."
      ]
    },
    {
      "cell_type": "markdown",
      "id": "4ee98eeb",
      "metadata": {
        "id": "4ee98eeb"
      },
      "source": [
        "## 1. Setup"
      ]
    },
    {
      "cell_type": "markdown",
      "id": "e2f33863",
      "metadata": {
        "id": "e2f33863"
      },
      "source": [
        "We begin by importing commonly used packages and setting up our plotting environment."
      ]
    },
    {
      "cell_type": "code",
      "execution_count": 28,
      "id": "53fbbf9f",
      "metadata": {
        "id": "53fbbf9f"
      },
      "outputs": [],
      "source": [
        "import sys\n",
        "import numpy as np\n",
        "import pandas as pd\n",
        "import matplotlib.pyplot as plt\n",
        "import sklearn\n",
        "import time\n",
        "\n",
        "# Make the notebook's output stable across runs\n",
        "np.random.seed(42)\n",
        "\n",
        "# Set up inline plotting and figure/axis labels\n",
        "%matplotlib inline\n",
        "import matplotlib as mpl\n",
        "import matplotlib.pyplot as plt\n",
        "mpl.rc('axes', labelsize=14)\n",
        "mpl.rc('xtick', labelsize=12)\n",
        "mpl.rc('ytick', labelsize=12)"
      ]
    },
    {
      "cell_type": "markdown",
      "id": "36737db1",
      "metadata": {
        "id": "36737db1"
      },
      "source": [
        "## 2. Keras: A Simple Deep Learning API"
      ]
    },
    {
      "cell_type": "markdown",
      "id": "7e543737",
      "metadata": {
        "id": "7e543737"
      },
      "source": [
        "So far in the course, we have implemented various algorithms using the sklearn library. Today, we would like to introduce **Keras** as the core deep learning library we will use in the course. \n",
        "\n",
        "[Keras](https://keras.io) is very flexible and feature-rich, but in large part retains the simplicity of sklearn (and even shares some of its syntax). Technically, it is an easy-to-use frontend which typically relies on the [TensorFlow](https://www.tensorflow.org) library to handle the matrix-heavy computations underlying neural networks. TensorFlow and similar libraries such as [PyTorch](https://pytorch.org) also have the ability to run computations on GPU hardware, which can drastically decrease runtimes by exploiting their many cores for parallel calculations.\n",
        "\n",
        "Let's now handle the setup of Keras and TensorFlow."
      ]
    },
    {
      "cell_type": "markdown",
      "id": "bc4d0d60",
      "metadata": {
        "id": "bc4d0d60"
      },
      "source": [
        "### Installing TensorFlow and Keras\n",
        "\n",
        "If tensorflow is not already installed on your system, you can utilise pip (the python package installer) to easily download and install the package. This command will also take care of the Keras installation."
      ]
    },
    {
      "cell_type": "code",
      "execution_count": null,
      "id": "87d35c86",
      "metadata": {
        "id": "87d35c86"
      },
      "outputs": [],
      "source": [
        "# Run this cell to install tensorflow in the same python install as the kernel\n",
        "!{sys.executable} -m pip install -U tensorflow==2.7.0"
      ]
    },
    {
      "cell_type": "markdown",
      "id": "257caf46",
      "metadata": {
        "id": "257caf46"
      },
      "source": [
        "For these tutorials, we will not require a GPU. However, in case you wish to experiment with larger neural networks and thus desire GPU support, please note that the installation process will be more involved, and you will need to install extra libraries such as CUDA. This [installation guide](https://www.tensorflow.org/install/gpu) may be a useful reference. Another option for GPU support is to utilise preconfigured cloud instances (many different providers - usually paid), or an online GPU python notebook service such as [Google Colaboratory](https://colab.research.google.com) (free and paid tiers).\n",
        "\n",
        "While we are in the process of setting things up, we will also install the [SciKeras](https://github.com/adriangb/scikeras) library, which can make our Keras models directly compatible with sklearn grid searches, ensembles, and other functionality with which we are already familiar."
      ]
    },
    {
      "cell_type": "code",
      "execution_count": null,
      "id": "56e25637",
      "metadata": {
        "id": "56e25637"
      },
      "outputs": [],
      "source": [
        "!{sys.executable} -m pip install -U scikeras"
      ]
    },
    {
      "cell_type": "markdown",
      "id": "f31e36c3",
      "metadata": {
        "id": "f31e36c3"
      },
      "source": [
        "With the installation handled, we can now proceed to import tensorflow and keras."
      ]
    },
    {
      "cell_type": "code",
      "execution_count": 31,
      "id": "1d8d8143",
      "metadata": {
        "id": "1d8d8143"
      },
      "outputs": [],
      "source": [
        "import tensorflow as tf\n",
        "from tensorflow import keras\n",
        "\n",
        "# Ensure stability across runs\n",
        "keras.backend.clear_session()\n",
        "tf.random.set_seed(42)"
      ]
    },
    {
      "cell_type": "markdown",
      "id": "fa4539ae",
      "metadata": {
        "id": "fa4539ae"
      },
      "source": [
        "## 3. Building an MLP Image Classifier"
      ]
    },
    {
      "cell_type": "markdown",
      "id": "1ca2d6e2",
      "metadata": {
        "id": "1ca2d6e2"
      },
      "source": [
        "To introduce you to defining and using MLP models in the Keras library, we will build an image classifier. Image classification is a popular application of neural networks, and one in which performance often greatly exceeds that of the traditional ML models we have covered so far due to the complex mapping required from pixel inputs to classes.\n",
        "\n",
        "Let's begin by loading our dataset, inspecting it, and performing any required preprocessing. It is important to begin with this step as it will influence how we wish to design the network. For example, it will determine how we need to encode the outputs, and the difficulty of the task will roughly guide us on a reasonable initial size for the network."
      ]
    },
    {
      "cell_type": "markdown",
      "id": "1bc99a5c",
      "metadata": {
        "id": "1bc99a5c"
      },
      "source": [
        "### Data loading, exploration and preprocessing\n",
        "\n",
        "You may recall the MNIST dataset from the PCA task at the end of last week's tutorial.\n",
        "\n",
        "The [MNIST](http://yann.lecun.com/exdb/mnist/) dataset of handwritten digit images is frequently used by machine learning tutorials and developers who wish to prototype their models before deploying to other datasets. It is widely available and, morevoer, the task is simple and the images are low dimensional, which is important for training and testing models/ideas out quickly.\n",
        "\n",
        "Keras provides a convenience module ```keras.datasets``` ([documentation](https://keras.io/api/datasets/)) to quickly load several of these 'prototyping' datasets, including MNIST. Let's load the data now.\n",
        "\n"
      ]
    },
    {
      "cell_type": "code",
      "execution_count": 32,
      "id": "1ee0e77d",
      "metadata": {
        "id": "1ee0e77d"
      },
      "outputs": [],
      "source": [
        "# Load the MNIST data\n",
        "(X_train_full, y_train_full), (X_test, y_test) = keras.datasets.mnist.load_data()"
      ]
    },
    {
      "cell_type": "markdown",
      "id": "2231979a",
      "metadata": {
        "id": "2231979a"
      },
      "source": [
        "The data comes already split into a train and test set. To find the number of samples in each set, we can examine the shape of the data arrays."
      ]
    },
    {
      "cell_type": "code",
      "execution_count": 33,
      "id": "d200a1e9",
      "metadata": {
        "colab": {
          "base_uri": "https://localhost:8080/"
        },
        "id": "d200a1e9",
        "outputId": "0dd3a1e4-0c73-443d-b3d6-c0b6ac19a016"
      },
      "outputs": [
        {
          "output_type": "stream",
          "name": "stdout",
          "text": [
            "Shape of X_train_full: (60000, 28, 28)\n",
            "Shape of y_train_full: (60000,)\n",
            "Shape of X_test: (10000, 28, 28)\n",
            "Shape of y_test: (10000,)\n"
          ]
        }
      ],
      "source": [
        "print(f\"Shape of X_train_full: {X_train_full.shape}\")\n",
        "print(f\"Shape of y_train_full: {y_train_full.shape}\")\n",
        "print(f\"Shape of X_test: {X_test.shape}\")\n",
        "print(f\"Shape of y_test: {y_test.shape}\")"
      ]
    },
    {
      "cell_type": "markdown",
      "id": "aa115fe5",
      "metadata": {
        "id": "aa115fe5"
      },
      "source": [
        "We have a training set of 60000 examples and a test set of 10000 examples. From this output we can also deduce that the images are represented as a 28x28 grid, meaning after flattening there will be $28*28=784$ input features for our network. The MNIST images are black and white, since there is only one value per pixel (rather than 3 channels for an RGB image)."
      ]
    },
    {
      "cell_type": "markdown",
      "id": "9c855a3d",
      "metadata": {
        "id": "9c855a3d"
      },
      "source": [
        "Looking at the data type informs us that each pixel intensity is represented as a byte (```uint8```), which can take values from 0 to 255."
      ]
    },
    {
      "cell_type": "code",
      "execution_count": 34,
      "id": "90d86fd8",
      "metadata": {
        "colab": {
          "base_uri": "https://localhost:8080/"
        },
        "id": "90d86fd8",
        "outputId": "c570b383-75af-40eb-d474-14634416927e"
      },
      "outputs": [
        {
          "output_type": "execute_result",
          "data": {
            "text/plain": [
              "dtype('uint8')"
            ]
          },
          "metadata": {},
          "execution_count": 34
        }
      ],
      "source": [
        "X_train_full.dtype"
      ]
    },
    {
      "cell_type": "markdown",
      "id": "6d87b7a0",
      "metadata": {
        "id": "6d87b7a0"
      },
      "source": [
        "Without delving into too much detail, it is often a good idea to normalise or scale the input features to a 0-1 range. Most weight initialisation methods make such assumptions, and large inputs can cause gradients very close to 0 after passing the neuron output through an activation function, hindering your training process.\n",
        "\n",
        "Let's simply divide the pixel values by 255, converting them to floats in the process."
      ]
    },
    {
      "cell_type": "code",
      "execution_count": 35,
      "id": "a9f3b65f",
      "metadata": {
        "id": "a9f3b65f"
      },
      "outputs": [],
      "source": [
        "# Scale the data to the range 0-1\n",
        "X_train_full = X_train_full / 255.\n",
        "X_test = X_test / 255."
      ]
    },
    {
      "cell_type": "markdown",
      "id": "2fc59016",
      "metadata": {
        "id": "2fc59016"
      },
      "source": [
        "We can now visualise some images to better understand the problem our model will aim to solve.\n",
        "\n",
        "The numpy array for one example can be plotted using ```plt.imshow```."
      ]
    },
    {
      "cell_type": "code",
      "execution_count": 36,
      "id": "ecdcf9b3",
      "metadata": {
        "colab": {
          "base_uri": "https://localhost:8080/",
          "height": 0
        },
        "id": "ecdcf9b3",
        "outputId": "18ecbb50-46d5-430f-fb94-7ce1abd9612c"
      },
      "outputs": [
        {
          "output_type": "display_data",
          "data": {
            "image/png": "[encoded data removed]",
            "text/plain": [
              "<Figure size 432x288 with 1 Axes>"
            ]
          },
          "metadata": {
            "needs_background": "light"
          }
        }
      ],
      "source": [
        "plt.imshow(X_train_full[0], cmap=\"binary\")\n",
        "plt.show()"
      ]
    },
    {
      "cell_type": "markdown",
      "id": "23752db8",
      "metadata": {
        "id": "23752db8"
      },
      "source": [
        "Let's visualise more examples in a grid to get a better idea of their characteristics."
      ]
    },
    {
      "cell_type": "code",
      "execution_count": 37,
      "id": "343b1dcc",
      "metadata": {
        "colab": {
          "base_uri": "https://localhost:8080/",
          "height": 0
        },
        "id": "343b1dcc",
        "outputId": "bca1c445-abb8-4c0a-e0ce-7c5f655f52f2"
      },
      "outputs": [
        {
          "output_type": "display_data",
          "data": {
            "image/png": "[encoded data removed]",
            "text/plain": [
              "<Figure size 864x345.6 with 40 Axes>"
            ]
          },
          "metadata": {
            "needs_background": "light"
          }
        }
      ],
      "source": [
        "def plot_examples(data, n_rows=4, n_cols=10):\n",
        "    \"\"\"Plot a grid of MNIST examples of a specified size.\"\"\"\n",
        "    \n",
        "    # Size figure depending on the size of the grid\n",
        "    plt.figure(figsize=(n_cols * 1.2, n_rows * 1.2))\n",
        "    \n",
        "    for row in range(n_rows):\n",
        "        for col in range(n_cols):\n",
        "            \n",
        "            # Get next index of image\n",
        "            index = n_cols * row + col\n",
        "            \n",
        "            # Plot the image at appropriate place in grid\n",
        "            plt.subplot(n_rows, n_cols, index + 1)\n",
        "            plt.imshow(data[index], cmap=\"binary\")\n",
        "            plt.axis('off')\n",
        "            \n",
        "    plt.show()\n",
        "\n",
        "plot_examples(X_train_full)"
      ]
    },
    {
      "cell_type": "markdown",
      "id": "e582b58e",
      "metadata": {
        "id": "e582b58e"
      },
      "source": [
        "We see that the images are size-normalised and centred. The minimal preprocessing required for this dataset is part of its attraction.\n",
        "\n",
        "Finally, we need to examine the class labels as this will determine the output encoding of our network."
      ]
    },
    {
      "cell_type": "code",
      "execution_count": 38,
      "id": "d74a5c7d",
      "metadata": {
        "colab": {
          "base_uri": "https://localhost:8080/"
        },
        "id": "d74a5c7d",
        "outputId": "ab463c8a-5eac-46eb-aff5-394fc1c6ff55"
      },
      "outputs": [
        {
          "output_type": "stream",
          "name": "stdout",
          "text": [
            "[5 0 4 1 9]\n",
            "[0 1 2 3 4 5 6 7 8 9]\n"
          ]
        }
      ],
      "source": [
        "# Check the format of the label by looking at the first five examples\n",
        "print(y_train_full[0:5])\n",
        "\n",
        "# List all unique labels in the training set\n",
        "print(np.unique(y_train_full))"
      ]
    },
    {
      "cell_type": "markdown",
      "id": "a3ab37fe",
      "metadata": {
        "id": "a3ab37fe"
      },
      "source": [
        "As expected, we have ten labels corresponding to the different digits. The labels are provided as indices, as opposed to one hot vectors (where 3 would be represented as ```[0001000000]```)."
      ]
    },
    {
      "cell_type": "markdown",
      "id": "564b6dde",
      "metadata": {
        "id": "564b6dde"
      },
      "source": [
        "### Creating a validation set\n",
        "\n",
        "When training and tuning neural networks, having a third data split called the validation set is very useful. During training we will need to determine the appropriate point to stop training to minimise overfitting, however we should not use the test set to do this, as we may bias our training process to this particular test set, and it would no longer be a fair measure of the generalisation ability of the network. Hence, we can use the validation set for this purpose. Additionally, if we wish to tune hyperparameters it is often infeasible to use k-fold cross validation due to its long runtime, so we are sometimes forced to evaluate a single training run using the validation set instead.\n",
        "\n",
        "Let's set aside 10% of the original training data for this purpose using sklearn's ```train_test_split```."
      ]
    },
    {
      "cell_type": "code",
      "execution_count": 39,
      "id": "a69839bd",
      "metadata": {
        "id": "a69839bd"
      },
      "outputs": [],
      "source": [
        "from sklearn.model_selection import train_test_split\n",
        "X_train, X_valid, y_train, y_valid = train_test_split(X_train_full, y_train_full, train_size=0.9)"
      ]
    },
    {
      "cell_type": "markdown",
      "id": "4a1825c9",
      "metadata": {
        "id": "4a1825c9"
      },
      "source": [
        "### Defining the model\n",
        "\n",
        "With our data fully prepared, it is now time to design our multilayer perceptron network. Neural network design can be difficult, with infinite possible combinations of hidden layers and numbers of neurons in each. While an MLP with one hidden layer can model any problem with enough neurons, deeper networks with multiple layers often have much higher parameter efficiency, using less weights (and hence less computation) to solve the same problem.\n",
        "\n",
        "Although there are few firm rules, with practice and exposure to neural networks in different contexts, you will develop an intuition for the appropriate starting design for your network's hidden layers depending on your problem and computational constraints. Tuning these design parameters and stopping training early to avoid overfitting can also help allevaite concern over the initial design.\n",
        "\n",
        "Today, we aim to solve a relatively simple task, and importantly, we aim to use a network which we can train and evaluate in a feasible time during today's lab. We have defined the following feedforward network below using Keras' Sequential framework ([documentation](https://keras.io/api/models/)), suitable for models where there is a single stack of layers connected sequentially."
      ]
    },
    {
      "cell_type": "code",
      "execution_count": 40,
      "id": "b0cacea2",
      "metadata": {
        "id": "b0cacea2"
      },
      "outputs": [],
      "source": [
        "# Define our MLP layer by layer\n",
        "model = keras.models.Sequential([\n",
        "    keras.layers.Flatten(input_shape=[28, 28]),\n",
        "    keras.layers.Dense(300, activation=\"tanh\"),\n",
        "    keras.layers.Dense(100, activation=\"tanh\"),\n",
        "    keras.layers.Dense(10, activation=\"softmax\")\n",
        "])"
      ]
    },
    {
      "cell_type": "markdown",
      "id": "1c826bb6",
      "metadata": {
        "id": "1c826bb6"
      },
      "source": [
        "Note that our first layer simply flattens our input for the next layer. Here, we also define the size of the input, which will determine the number of weights between the input layer and first hidden layer. If you do not specify the input shape, Keras will simply wait until you begin to pass data to the model to actually build it.\n",
        "\n",
        "For our hidden layers, we have utilised the ReLU activation function (different activation functions are discussed below). Each of these dense layers maintains the weight (and bias) matrix for the connections between the neurons and their inputs.\n",
        "\n",
        "The final layer is determined by the nature of our classification problem. We have ten classes, so we require 10 output neurons, and we utilise the softmax function ($\\frac{e^{z_{i}}}{\\sum_{j=1}^{K} e^{z_{j}}}$) to convert the raw outputs of this layer into a probability distribution over the classes. "
      ]
    },
    {
      "cell_type": "markdown",
      "id": "d891d7c0",
      "metadata": {
        "id": "d891d7c0"
      },
      "source": [
        "With so many connections between the neurons in each layer, we can end up with a lot of parameters. Let's take a look at our model using ```model.summary()```."
      ]
    },
    {
      "cell_type": "code",
      "execution_count": 41,
      "id": "140be956",
      "metadata": {
        "colab": {
          "base_uri": "https://localhost:8080/"
        },
        "id": "140be956",
        "outputId": "6d2dda38-64c5-40b6-cc94-69884d20d614"
      },
      "outputs": [
        {
          "output_type": "stream",
          "name": "stdout",
          "text": [
            "Model: \"sequential\"\n",
            "_________________________________________________________________\n",
            " Layer (type)                Output Shape              Param #   \n",
            "=================================================================\n",
            " flatten (Flatten)           (None, 784)               0         \n",
            "                                                                 \n",
            " dense (Dense)               (None, 300)               235500    \n",
            "                                                                 \n",
            " dense_1 (Dense)             (None, 100)               30100     \n",
            "                                                                 \n",
            " dense_2 (Dense)             (None, 10)                1010      \n",
            "                                                                 \n",
            "=================================================================\n",
            "Total params: 266,610\n",
            "Trainable params: 266,610\n",
            "Non-trainable params: 0\n",
            "_________________________________________________________________\n"
          ]
        }
      ],
      "source": [
        "model.summary()"
      ]
    },
    {
      "cell_type": "markdown",
      "id": "879aa3a5",
      "metadata": {
        "id": "879aa3a5"
      },
      "source": [
        "We can also access the model weights directly and inspect them."
      ]
    },
    {
      "cell_type": "code",
      "execution_count": 42,
      "id": "fbb5609b",
      "metadata": {
        "id": "fbb5609b"
      },
      "outputs": [],
      "source": [
        "weights, biases = model.layers[1].get_weights()"
      ]
    },
    {
      "cell_type": "code",
      "execution_count": 43,
      "id": "ee0b9cce",
      "metadata": {
        "colab": {
          "base_uri": "https://localhost:8080/"
        },
        "id": "ee0b9cce",
        "outputId": "50933d8b-ad11-4ec1-c155-1500f4205b56"
      },
      "outputs": [
        {
          "output_type": "stream",
          "name": "stdout",
          "text": [
            "(784, 300)\n",
            "(300,)\n"
          ]
        }
      ],
      "source": [
        "print(weights.shape)\n",
        "print(biases.shape)"
      ]
    },
    {
      "cell_type": "code",
      "execution_count": 44,
      "id": "4b778230",
      "metadata": {
        "colab": {
          "base_uri": "https://localhost:8080/"
        },
        "id": "4b778230",
        "outputId": "031d911d-310c-46b0-ca9a-b93445c0d0ba"
      },
      "outputs": [
        {
          "output_type": "execute_result",
          "data": {
            "text/plain": [
              "array([[ 0.02448617, -0.00877795, -0.02189048, ..., -0.02766046,\n",
              "         0.03859074, -0.06889391],\n",
              "       [ 0.00476504, -0.03105379, -0.0586676 , ...,  0.00602964,\n",
              "        -0.02763776, -0.04165364],\n",
              "       [-0.06189284, -0.06901957,  0.07102345, ..., -0.04238207,\n",
              "         0.07121518, -0.07331658],\n",
              "       ...,\n",
              "       [-0.03048757,  0.02155137, -0.05400612, ..., -0.00113463,\n",
              "         0.00228987,  0.05581069],\n",
              "       [ 0.07061854, -0.06960931,  0.07038955, ..., -0.00384101,\n",
              "         0.00034875,  0.02878492],\n",
              "       [-0.06022581,  0.01577859, -0.02585464, ..., -0.00527829,\n",
              "         0.00272203, -0.06793761]], dtype=float32)"
            ]
          },
          "metadata": {},
          "execution_count": 44
        }
      ],
      "source": [
        "weights"
      ]
    },
    {
      "cell_type": "code",
      "execution_count": 45,
      "id": "13a02edc",
      "metadata": {
        "colab": {
          "base_uri": "https://localhost:8080/"
        },
        "id": "13a02edc",
        "outputId": "ed8497fe-8628-4f1c-d3b4-c893d1a2cdfb"
      },
      "outputs": [
        {
          "output_type": "execute_result",
          "data": {
            "text/plain": [
              "array([0., 0., 0., 0., 0., 0., 0., 0., 0., 0., 0., 0., 0., 0., 0., 0., 0.,\n",
              "       0., 0., 0., 0., 0., 0., 0., 0., 0., 0., 0., 0., 0., 0., 0., 0., 0.,\n",
              "       0., 0., 0., 0., 0., 0., 0., 0., 0., 0., 0., 0., 0., 0., 0., 0., 0.,\n",
              "       0., 0., 0., 0., 0., 0., 0., 0., 0., 0., 0., 0., 0., 0., 0., 0., 0.,\n",
              "       0., 0., 0., 0., 0., 0., 0., 0., 0., 0., 0., 0., 0., 0., 0., 0., 0.,\n",
              "       0., 0., 0., 0., 0., 0., 0., 0., 0., 0., 0., 0., 0., 0., 0., 0., 0.,\n",
              "       0., 0., 0., 0., 0., 0., 0., 0., 0., 0., 0., 0., 0., 0., 0., 0., 0.,\n",
              "       0., 0., 0., 0., 0., 0., 0., 0., 0., 0., 0., 0., 0., 0., 0., 0., 0.,\n",
              "       0., 0., 0., 0., 0., 0., 0., 0., 0., 0., 0., 0., 0., 0., 0., 0., 0.,\n",
              "       0., 0., 0., 0., 0., 0., 0., 0., 0., 0., 0., 0., 0., 0., 0., 0., 0.,\n",
              "       0., 0., 0., 0., 0., 0., 0., 0., 0., 0., 0., 0., 0., 0., 0., 0., 0.,\n",
              "       0., 0., 0., 0., 0., 0., 0., 0., 0., 0., 0., 0., 0., 0., 0., 0., 0.,\n",
              "       0., 0., 0., 0., 0., 0., 0., 0., 0., 0., 0., 0., 0., 0., 0., 0., 0.,\n",
              "       0., 0., 0., 0., 0., 0., 0., 0., 0., 0., 0., 0., 0., 0., 0., 0., 0.,\n",
              "       0., 0., 0., 0., 0., 0., 0., 0., 0., 0., 0., 0., 0., 0., 0., 0., 0.,\n",
              "       0., 0., 0., 0., 0., 0., 0., 0., 0., 0., 0., 0., 0., 0., 0., 0., 0.,\n",
              "       0., 0., 0., 0., 0., 0., 0., 0., 0., 0., 0., 0., 0., 0., 0., 0., 0.,\n",
              "       0., 0., 0., 0., 0., 0., 0., 0., 0., 0., 0.], dtype=float32)"
            ]
          },
          "metadata": {},
          "execution_count": 45
        }
      ],
      "source": [
        "biases"
      ]
    },
    {
      "cell_type": "markdown",
      "id": "89db6122",
      "metadata": {
        "id": "89db6122"
      },
      "source": [
        "#### Discussion Question\n",
        "\n",
        "Note that the biases are initially zero, but the weights are initialised to small values. What would happen if the weights were also initialised to zero?"
      ]
    },
    {
      "cell_type": "markdown",
      "id": "2b825979",
      "metadata": {
        "id": "2b825979"
      },
      "source": [
        "#### Solution\n",
        "Geron explains this well in \"Hands-On Machine Learning with Scikit-Learn, Keras, and TensorFlow : Concepts, Tools, and Techniques to Build Intelligent Systems\" (pp 291):\n",
        "\n",
        "\"If you initialize all weights and biases to zero, then all neurons in a given layer will be perfectly identical, and thus backpropagation will affect them in exactly the same way, so they will remain identical. In other words, despite having hundreds of neurons per layer, your model will act as if it had only one neuron per layer: it won’t be too smart. If instead you randomly initialize the weights, you break the symmetry and allow backpropagation to train a diverse team of neurons.\""
      ]
    },
    {
      "cell_type": "markdown",
      "id": "3f3c9c77",
      "metadata": {
        "id": "3f3c9c77"
      },
      "source": [
        "### Specifying the optimiser and loss function\n",
        "\n",
        "Before we can use our model, we need to specify some important training parameters and 'compile' the model.\n",
        "\n",
        "Here, we will use the basic SGD learning algorithm, with a learning rate of 0.1. Our loss function depends on our problem. For a classification task such as ours, we can score the probability distribution output from the softmax layer of our model against the known labels using Cross Entropy loss. Since our labels are in index form rather than encoded as one-hot vectors, as we discussed earlier, we utilise the ```sparse_categorical_crossentropy``` loss. See [here](https://www.tensorflow.org/api_docs/python/tf/keras/losses) for documentation on the available loss functions in Keras. It is important to ensure the loss function you are using is compatible with the format of your labels.\n",
        "\n",
        "Finally, we need to tell our model that our metric of interest is accuracy, so that this is reported during training and when we evaluate the model."
      ]
    },
    {
      "cell_type": "code",
      "execution_count": 46,
      "id": "53ceb7bb",
      "metadata": {
        "id": "53ceb7bb"
      },
      "outputs": [],
      "source": [
        "# Instantiate optimiser and compile the model.\n",
        "opt = keras.optimizers.SGD(learning_rate=5e-2)\n",
        "model.compile(loss='sparse_categorical_crossentropy',\n",
        "              optimizer=opt,\n",
        "              metrics=['accuracy'])"
      ]
    },
    {
      "cell_type": "markdown",
      "id": "b4b418ff",
      "metadata": {
        "id": "b4b418ff"
      },
      "source": [
        "### Training and evaluating the model\n",
        "\n",
        "Simple model training in Keras is essentially as easy as in sklearn, which is in stark contrast to many other neural network libraries.\n",
        "\n",
        "The training process may take several minutes to run depending on your hardware. As training progresses, watch carefully how the training and validation accuracy change and spot if the model begins to overfit the training data."
      ]
    },
    {
      "cell_type": "code",
      "execution_count": 47,
      "id": "48ee676b",
      "metadata": {
        "colab": {
          "base_uri": "https://localhost:8080/"
        },
        "id": "48ee676b",
        "outputId": "ab4ba97b-b3ec-44c7-d857-f895d3c5a62e"
      },
      "outputs": [
        {
          "output_type": "stream",
          "name": "stdout",
          "text": [
            "Epoch 1/20\n",
            "1688/1688 [==============================] - 11s 6ms/step - loss: 0.3494 - accuracy: 0.9010 - val_loss: 0.2285 - val_accuracy: 0.9312\n",
            "Epoch 2/20\n",
            "1688/1688 [==============================] - 11s 6ms/step - loss: 0.1987 - accuracy: 0.9428 - val_loss: 0.1676 - val_accuracy: 0.9510\n",
            "Epoch 3/20\n",
            "1688/1688 [==============================] - 8s 5ms/step - loss: 0.1491 - accuracy: 0.9566 - val_loss: 0.1372 - val_accuracy: 0.9608\n",
            "Epoch 4/20\n",
            "1688/1688 [==============================] - 6s 4ms/step - loss: 0.1201 - accuracy: 0.9650 - val_loss: 0.1255 - val_accuracy: 0.9653\n",
            "Epoch 5/20\n",
            "1688/1688 [==============================] - 6s 4ms/step - loss: 0.0994 - accuracy: 0.9714 - val_loss: 0.1060 - val_accuracy: 0.9688\n",
            "Epoch 6/20\n",
            "1688/1688 [==============================] - 6s 4ms/step - loss: 0.0846 - accuracy: 0.9755 - val_loss: 0.1022 - val_accuracy: 0.9695\n",
            "Epoch 7/20\n",
            "1688/1688 [==============================] - 6s 4ms/step - loss: 0.0729 - accuracy: 0.9791 - val_loss: 0.0913 - val_accuracy: 0.9732\n",
            "Epoch 8/20\n",
            "1688/1688 [==============================] - 6s 3ms/step - loss: 0.0635 - accuracy: 0.9821 - val_loss: 0.0884 - val_accuracy: 0.9728\n",
            "Epoch 9/20\n",
            "1688/1688 [==============================] - 6s 4ms/step - loss: 0.0551 - accuracy: 0.9846 - val_loss: 0.0809 - val_accuracy: 0.9757\n",
            "Epoch 10/20\n",
            "1688/1688 [==============================] - 6s 4ms/step - loss: 0.0489 - accuracy: 0.9864 - val_loss: 0.0766 - val_accuracy: 0.9768\n",
            "Epoch 11/20\n",
            "1688/1688 [==============================] - 6s 4ms/step - loss: 0.0433 - accuracy: 0.9885 - val_loss: 0.0738 - val_accuracy: 0.9767\n",
            "Epoch 12/20\n",
            "1688/1688 [==============================] - 6s 4ms/step - loss: 0.0382 - accuracy: 0.9903 - val_loss: 0.0728 - val_accuracy: 0.9780\n",
            "Epoch 13/20\n",
            "1688/1688 [==============================] - 6s 4ms/step - loss: 0.0340 - accuracy: 0.9910 - val_loss: 0.0742 - val_accuracy: 0.9772\n",
            "Epoch 14/20\n",
            "1688/1688 [==============================] - 6s 4ms/step - loss: 0.0302 - accuracy: 0.9932 - val_loss: 0.0680 - val_accuracy: 0.9788\n",
            "Epoch 15/20\n",
            "1688/1688 [==============================] - 6s 4ms/step - loss: 0.0265 - accuracy: 0.9935 - val_loss: 0.0699 - val_accuracy: 0.9797\n",
            "Epoch 16/20\n",
            "1688/1688 [==============================] - 6s 4ms/step - loss: 0.0233 - accuracy: 0.9949 - val_loss: 0.0684 - val_accuracy: 0.9792\n",
            "Epoch 17/20\n",
            "1688/1688 [==============================] - 7s 4ms/step - loss: 0.0208 - accuracy: 0.9955 - val_loss: 0.0672 - val_accuracy: 0.9798\n",
            "Epoch 18/20\n",
            "1688/1688 [==============================] - 6s 4ms/step - loss: 0.0183 - accuracy: 0.9966 - val_loss: 0.0641 - val_accuracy: 0.9808\n",
            "Epoch 19/20\n",
            "1688/1688 [==============================] - 6s 4ms/step - loss: 0.0163 - accuracy: 0.9975 - val_loss: 0.0649 - val_accuracy: 0.9812\n",
            "Epoch 20/20\n",
            "1688/1688 [==============================] - 6s 4ms/step - loss: 0.0145 - accuracy: 0.9978 - val_loss: 0.0658 - val_accuracy: 0.9810\n"
          ]
        }
      ],
      "source": [
        "# Train the classifier.\n",
        "history = model.fit(X_train, y_train, epochs=20,\n",
        "                    validation_data=(X_valid, y_valid))"
      ]
    },
    {
      "cell_type": "markdown",
      "id": "b1e3c519",
      "metadata": {
        "id": "b1e3c519"
      },
      "source": [
        "Calling the ```fit``` method returns a dictionary of the training history, which we can utilise to visualise the change in training and validation accuracy over time."
      ]
    },
    {
      "cell_type": "code",
      "execution_count": 48,
      "id": "49b597f1",
      "metadata": {
        "colab": {
          "base_uri": "https://localhost:8080/",
          "height": 346
        },
        "id": "49b597f1",
        "outputId": "9dc67568-4acf-4618-daa1-0fbf750de321"
      },
      "outputs": [
        {
          "output_type": "display_data",
          "data": {
            "image/png": "[encoded data removed]",
            "text/plain": [
              "<Figure size 576x360 with 1 Axes>"
            ]
          },
          "metadata": {
            "needs_background": "light"
          }
        }
      ],
      "source": [
        "import pandas as pd\n",
        "\n",
        "# Convert the history dictionary to a Pandas dataframe and extract the accuracies\n",
        "accuracies = pd.DataFrame(history.history)[['accuracy', 'val_accuracy']]\n",
        "\n",
        "# Plot the accuracies\n",
        "accuracies.plot(figsize=(8, 5))\n",
        "plt.grid(True)\n",
        "plt.gca().set_ylim(0.8, 1)\n",
        "plt.xlabel('Epoch')\n",
        "plt.show()"
      ]
    },
    {
      "cell_type": "markdown",
      "id": "31b9f889",
      "metadata": {
        "id": "31b9f889"
      },
      "source": [
        "Evidently, choosing the appropriate place to stop our training is important. While this can be done manually, there are also different methods (such as [Keras callbacks](https://www.tensorflow.org/api_docs/python/tf/keras/callbacks/EarlyStopping)) to automate 'early stopping' from the validation accuracy trends."
      ]
    },
    {
      "cell_type": "markdown",
      "id": "b16b21df",
      "metadata": {
        "id": "b16b21df"
      },
      "source": [
        "To ultimately check the model's generalisation ability, we should evaluate on the test set, which had no influence in the training process."
      ]
    },
    {
      "cell_type": "code",
      "execution_count": 49,
      "id": "3b17eff7",
      "metadata": {
        "colab": {
          "base_uri": "https://localhost:8080/"
        },
        "id": "3b17eff7",
        "outputId": "fadc2e26-a315-48f6-b9df-6eaa170ccb96"
      },
      "outputs": [
        {
          "output_type": "stream",
          "name": "stdout",
          "text": [
            "313/313 [==============================] - 1s 3ms/step - loss: 0.0638 - accuracy: 0.9795\n",
            "Accuracy on test data: 0.9795\n"
          ]
        }
      ],
      "source": [
        "# Evaluate the classifier on the test data.\n",
        "loss, accuracy = model.evaluate(X_test, y_test)\n",
        "print(f\"Accuracy on test data: {accuracy:.4f}\")"
      ]
    },
    {
      "cell_type": "markdown",
      "id": "d5e30b6a",
      "metadata": {
        "id": "d5e30b6a"
      },
      "source": [
        "We can also look directly at our model's predictions. The ```predict``` method will return the final outputs from our model - recall this was a probability distribution over the different classes."
      ]
    },
    {
      "cell_type": "code",
      "execution_count": 50,
      "id": "9605bb97",
      "metadata": {
        "colab": {
          "base_uri": "https://localhost:8080/"
        },
        "id": "9605bb97",
        "outputId": "205dfce6-6598-49e1-b801-1808dd27ae7f"
      },
      "outputs": [
        {
          "output_type": "stream",
          "name": "stdout",
          "text": [
            "[[0. 0. 0. 0. 0. 0. 0. 1. 0. 0.]\n",
            " [0. 0. 1. 0. 0. 0. 0. 0. 0. 0.]\n",
            " [0. 1. 0. 0. 0. 0. 0. 0. 0. 0.]]\n"
          ]
        }
      ],
      "source": [
        "# Sample several test examples\n",
        "X_test_sample = X_test[:3]\n",
        "\n",
        "# Get probability of each class from model\n",
        "y_proba = model.predict(X_test_sample).round(2)\n",
        "print(y_proba)"
      ]
    },
    {
      "cell_type": "markdown",
      "id": "6c7e5b7c",
      "metadata": {
        "id": "6c7e5b7c"
      },
      "source": [
        "To get the index of the class with the maximum probability (our model's class prediction), we can use the following snippet:"
      ]
    },
    {
      "cell_type": "code",
      "execution_count": 51,
      "id": "91766f29",
      "metadata": {
        "colab": {
          "base_uri": "https://localhost:8080/"
        },
        "id": "91766f29",
        "outputId": "b52ce223-9cc6-41d2-99d8-53399a1960e0"
      },
      "outputs": [
        {
          "output_type": "stream",
          "name": "stdout",
          "text": [
            "[7 2 1]\n"
          ]
        }
      ],
      "source": [
        "y_pred = np.argmax(y_proba, axis=-1)\n",
        "print(y_pred)"
      ]
    },
    {
      "cell_type": "markdown",
      "id": "34ae42cf",
      "metadata": {
        "id": "34ae42cf"
      },
      "source": [
        "Let's verify the predictions by inspecting the corresponding images."
      ]
    },
    {
      "cell_type": "code",
      "execution_count": 52,
      "id": "cc0f63f9",
      "metadata": {
        "colab": {
          "base_uri": "https://localhost:8080/",
          "height": 90
        },
        "id": "cc0f63f9",
        "outputId": "73730a0a-7eb7-4c52-a85c-9e1c9ee16ccb"
      },
      "outputs": [
        {
          "output_type": "display_data",
          "data": {
            "image/png": "[encoded data removed]",
            "text/plain": [
              "<Figure size 259.2x86.4 with 3 Axes>"
            ]
          },
          "metadata": {
            "needs_background": "light"
          }
        }
      ],
      "source": [
        "plot_examples(X_test, n_rows=1, n_cols=3)"
      ]
    },
    {
      "cell_type": "markdown",
      "id": "1e8f58f8",
      "metadata": {
        "id": "1e8f58f8"
      },
      "source": [
        "## 4. Parameter Search for Neural Networks\n",
        "\n",
        "Hyperparameter tuning is especially difficult for neural networks due to two factors. \n",
        "\n",
        "Firstly, the flexibility of neural networks means there are many possible hyperparameters to tweak. In a basic MLP implementation, parameters we can possibly tune include:\n",
        "- number of hidden layers\n",
        "- number of neurons in each layer\n",
        "- activation functions\n",
        "- learning rate\n",
        "- optimiser\n",
        "- batch size \n",
        "\n",
        "The second difficulty is that the runtime of neural networks is generally much higher than traditional ML algorithms unless we run our algorithms on powerful GPUs (which can better parallelise the computations).\n",
        "\n",
        "The result is that we often have to tradeoff between an exhaustive parameter search and a long runtime."
      ]
    },
    {
      "cell_type": "markdown",
      "id": "cfae3d05",
      "metadata": {
        "id": "cfae3d05"
      },
      "source": [
        "Let's define a function which allows us to quickly build a Keras model with our desired parameters. We can use this to try out different parameter combinations!"
      ]
    },
    {
      "cell_type": "code",
      "execution_count": 53,
      "id": "469ccfae",
      "metadata": {
        "id": "469ccfae"
      },
      "outputs": [],
      "source": [
        "def build_mlp(\n",
        "    n_hidden_layers=2, n_hidden_neurons=50,\n",
        "    activation_function=\"relu\", input_shape=[28,28]\n",
        "):\n",
        "    \"\"\"Build a Keras MLP for 10 class classification with desired parameters.\"\"\"\n",
        "    \n",
        "    model = keras.models.Sequential()\n",
        "    \n",
        "    # Add the input layer\n",
        "    model.add(keras.layers.Flatten(input_shape=[28, 28]))\n",
        "    \n",
        "    # Add the hidden layers with desired size and activation function\n",
        "    for layer in range(n_hidden_layers):\n",
        "        model.add(keras.layers.Dense(n_hidden_neurons, activation=\"relu\"))\n",
        "        \n",
        "    # Add the output layer for 10 class classification\n",
        "    model.add(keras.layers.Dense(10, activation=\"softmax\"))\n",
        "    \n",
        "    return model"
      ]
    },
    {
      "cell_type": "markdown",
      "id": "26379f25",
      "metadata": {
        "id": "26379f25"
      },
      "source": [
        "### Using sklearn grid searches with Keras models\n",
        "\n",
        "We could conduct a parameter search by writing our own loop over parameter values and simply using the validation set to approximate the performance of the different combinations.\n",
        "\n",
        "However, it is also possible to use sklearn's parameter search utilities with Keras models. Previously, this functionality was included in Keras as ```keras.wrappers.scikit_learn```, however the functionality has now been taken over by SciKeras\n",
        "\n",
        "Using SciKeras, we can use a wrapper which allows our Keras classifier to act like a typical sklearn classifier. The wrapper will handle the compilation of our model, and we need to pass the parameters we wish to tune as arguments to its constructor. From there, we can set up a grid search just like we have in the previous weeks!"
      ]
    },
    {
      "cell_type": "code",
      "execution_count": 62,
      "id": "f9ad2fc0",
      "metadata": {
        "id": "f9ad2fc0"
      },
      "outputs": [],
      "source": [
        "from scikeras.wrappers import KerasClassifier\n",
        "\n",
        "# Create a KerasClassifier object which works with sklearn grid searches\n",
        "# We need to pass default values of arguments in build_mlp if we wish to tune them\n",
        "keras_classifier = KerasClassifier(build_mlp,\n",
        "                                   n_hidden_layers=2,\n",
        "                                   n_hidden_neurons=50,\n",
        "                                   activation_function=\"relu\",\n",
        "                                   loss=\"sparse_categorical_crossentropy\",\n",
        "                                   optimizer=\"sgd\",\n",
        "                                   optimizer__lr=0.01,\n",
        "                                   metrics=[\"accuracy\"]\n",
        "                                  )"
      ]
    },
    {
      "cell_type": "markdown",
      "id": "b2621352",
      "metadata": {
        "id": "b2621352"
      },
      "source": [
        "For now, let's consider models with two hidden layers and tune over several other parameters.\n",
        "\n",
        "The following cell will take a long time to run (possibly several hours depending on your hardware), and it is **not recommended to run it during the lab**."
      ]
    },
    {
      "cell_type": "code",
      "execution_count": 63,
      "id": "fa19f5ef",
      "metadata": {
        "colab": {
          "base_uri": "https://localhost:8080/"
        },
        "id": "fa19f5ef",
        "outputId": "7cff9675-ea98-4a16-9c0f-e4b423f43e56"
      },
      "outputs": [
        {
          "output_type": "stream",
          "name": "stdout",
          "text": [
            "Fitting 3 folds for each of 18 candidates, totalling 54 fits\n"
          ]
        },
        {
          "output_type": "stream",
          "name": "stderr",
          "text": [
            "/usr/local/lib/python3.7/dist-packages/keras/optimizer_v2/gradient_descent.py:102: UserWarning: The `lr` argument is deprecated, use `learning_rate` instead.\n",
            "  super(SGD, self).__init__(name, **kwargs)\n"
          ]
        },
        {
          "output_type": "stream",
          "name": "stdout",
          "text": [
            "Epoch 1/20\n",
            "1125/1125 [==============================] - 3s 3ms/step - loss: 0.3484 - accuracy: 0.8974\n",
            "Epoch 2/20\n",
            "1125/1125 [==============================] - 3s 3ms/step - loss: 0.1578 - accuracy: 0.9544\n",
            "Epoch 3/20\n",
            "1125/1125 [==============================] - 3s 3ms/step - loss: 0.1116 - accuracy: 0.9671\n",
            "Epoch 4/20\n",
            "1125/1125 [==============================] - 3s 3ms/step - loss: 0.0850 - accuracy: 0.9749\n",
            "Epoch 5/20\n",
            "1125/1125 [==============================] - 3s 3ms/step - loss: 0.0670 - accuracy: 0.9800\n",
            "Epoch 6/20\n",
            "1125/1125 [==============================] - 3s 3ms/step - loss: 0.0544 - accuracy: 0.9829\n",
            "Epoch 7/20\n",
            "1125/1125 [==============================] - 3s 3ms/step - loss: 0.0423 - accuracy: 0.9861\n",
            "Epoch 8/20\n",
            "1125/1125 [==============================] - 3s 3ms/step - loss: 0.0342 - accuracy: 0.9891\n",
            "Epoch 9/20\n",
            "1125/1125 [==============================] - 3s 3ms/step - loss: 0.0286 - accuracy: 0.9908\n",
            "Epoch 10/20\n",
            "1125/1125 [==============================] - 3s 3ms/step - loss: 0.0197 - accuracy: 0.9945\n",
            "Epoch 11/20\n",
            "1125/1125 [==============================] - 3s 3ms/step - loss: 0.0159 - accuracy: 0.9960\n",
            "Epoch 12/20\n",
            "1125/1125 [==============================] - 3s 3ms/step - loss: 0.0130 - accuracy: 0.9964\n",
            "Epoch 13/20\n",
            "1125/1125 [==============================] - 3s 3ms/step - loss: 0.0092 - accuracy: 0.9981\n",
            "Epoch 14/20\n",
            "1125/1125 [==============================] - 3s 3ms/step - loss: 0.0059 - accuracy: 0.9991\n",
            "Epoch 15/20\n",
            "1125/1125 [==============================] - 3s 3ms/step - loss: 0.0042 - accuracy: 0.9996\n",
            "Epoch 16/20\n",
            "1125/1125 [==============================] - 3s 3ms/step - loss: 0.0032 - accuracy: 0.9998\n",
            "Epoch 17/20\n",
            "1125/1125 [==============================] - 4s 3ms/step - loss: 0.0024 - accuracy: 0.9998\n",
            "Epoch 18/20\n",
            "1125/1125 [==============================] - 3s 3ms/step - loss: 0.0019 - accuracy: 0.9999\n",
            "Epoch 19/20\n",
            "1125/1125 [==============================] - 3s 3ms/step - loss: 0.0019 - accuracy: 0.9998\n",
            "Epoch 20/20\n",
            "1125/1125 [==============================] - 3s 3ms/step - loss: 0.0013 - accuracy: 1.0000\n",
            "563/563 [==============================] - 1s 2ms/step\n",
            "[CV] END activation_function=relu, n_hidden_neurons=100, optimizer__lr=0.1; total time= 1.1min\n"
          ]
        },
        {
          "output_type": "stream",
          "name": "stderr",
          "text": [
            "/usr/local/lib/python3.7/dist-packages/keras/optimizer_v2/gradient_descent.py:102: UserWarning: The `lr` argument is deprecated, use `learning_rate` instead.\n",
            "  super(SGD, self).__init__(name, **kwargs)\n"
          ]
        },
        {
          "output_type": "stream",
          "name": "stdout",
          "text": [
            "Epoch 1/20\n",
            "1125/1125 [==============================] - 4s 3ms/step - loss: 0.3636 - accuracy: 0.8890\n",
            "Epoch 2/20\n",
            "1125/1125 [==============================] - 3s 3ms/step - loss: 0.1601 - accuracy: 0.9501\n",
            "Epoch 3/20\n",
            "1125/1125 [==============================] - 3s 3ms/step - loss: 0.1126 - accuracy: 0.9654\n",
            "Epoch 4/20\n",
            "1125/1125 [==============================] - 3s 3ms/step - loss: 0.0860 - accuracy: 0.9736\n",
            "Epoch 5/20\n",
            "1125/1125 [==============================] - 3s 3ms/step - loss: 0.0685 - accuracy: 0.9779\n",
            "Epoch 6/20\n",
            "1125/1125 [==============================] - 3s 3ms/step - loss: 0.0547 - accuracy: 0.9825\n",
            "Epoch 7/20\n",
            "1125/1125 [==============================] - 3s 3ms/step - loss: 0.0435 - accuracy: 0.9868\n",
            "Epoch 8/20\n",
            "1125/1125 [==============================] - 3s 3ms/step - loss: 0.0355 - accuracy: 0.9887\n",
            "Epoch 9/20\n",
            "1125/1125 [==============================] - 3s 3ms/step - loss: 0.0287 - accuracy: 0.9908\n",
            "Epoch 10/20\n",
            "1125/1125 [==============================] - 3s 3ms/step - loss: 0.0237 - accuracy: 0.9930\n",
            "Epoch 11/20\n",
            "1125/1125 [==============================] - 3s 3ms/step - loss: 0.0175 - accuracy: 0.9954\n",
            "Epoch 12/20\n",
            "1125/1125 [==============================] - 3s 3ms/step - loss: 0.0148 - accuracy: 0.9962\n",
            "Epoch 13/20\n",
            "1125/1125 [==============================] - 3s 3ms/step - loss: 0.0098 - accuracy: 0.9979\n",
            "Epoch 14/20\n",
            "1125/1125 [==============================] - 3s 3ms/step - loss: 0.0089 - accuracy: 0.9977\n",
            "Epoch 15/20\n",
            "1125/1125 [==============================] - 3s 3ms/step - loss: 0.0071 - accuracy: 0.9983\n",
            "Epoch 16/20\n",
            "1125/1125 [==============================] - 3s 3ms/step - loss: 0.0057 - accuracy: 0.9987\n",
            "Epoch 17/20\n",
            "1125/1125 [==============================] - 3s 3ms/step - loss: 0.0029 - accuracy: 0.9998\n",
            "Epoch 18/20\n",
            "1125/1125 [==============================] - 3s 3ms/step - loss: 0.0023 - accuracy: 0.9999\n",
            "Epoch 19/20\n",
            "1125/1125 [==============================] - 3s 3ms/step - loss: 0.0019 - accuracy: 0.9999\n",
            "Epoch 20/20\n",
            "1125/1125 [==============================] - 3s 3ms/step - loss: 0.0014 - accuracy: 1.0000\n",
            "563/563 [==============================] - 1s 2ms/step\n",
            "[CV] END activation_function=relu, n_hidden_neurons=100, optimizer__lr=0.1; total time= 1.4min\n"
          ]
        },
        {
          "output_type": "stream",
          "name": "stderr",
          "text": [
            "/usr/local/lib/python3.7/dist-packages/keras/optimizer_v2/gradient_descent.py:102: UserWarning: The `lr` argument is deprecated, use `learning_rate` instead.\n",
            "  super(SGD, self).__init__(name, **kwargs)\n"
          ]
        },
        {
          "output_type": "stream",
          "name": "stdout",
          "text": [
            "Epoch 1/20\n",
            "1125/1125 [==============================] - 4s 3ms/step - loss: 0.3656 - accuracy: 0.8914\n",
            "Epoch 2/20\n",
            "1125/1125 [==============================] - 3s 3ms/step - loss: 0.1618 - accuracy: 0.9508\n",
            "Epoch 3/20\n",
            "1125/1125 [==============================] - 3s 3ms/step - loss: 0.1118 - accuracy: 0.9660\n",
            "Epoch 4/20\n",
            "1125/1125 [==============================] - 3s 3ms/step - loss: 0.0878 - accuracy: 0.9732\n",
            "Epoch 5/20\n",
            "1125/1125 [==============================] - 3s 3ms/step - loss: 0.0675 - accuracy: 0.9788\n",
            "Epoch 6/20\n",
            "1125/1125 [==============================] - 3s 3ms/step - loss: 0.0547 - accuracy: 0.9829\n",
            "Epoch 7/20\n",
            "1125/1125 [==============================] - 3s 3ms/step - loss: 0.0444 - accuracy: 0.9861\n",
            "Epoch 8/20\n",
            "1125/1125 [==============================] - 3s 3ms/step - loss: 0.0360 - accuracy: 0.9891\n",
            "Epoch 9/20\n",
            "1125/1125 [==============================] - 3s 3ms/step - loss: 0.0278 - accuracy: 0.9920\n",
            "Epoch 10/20\n",
            "1125/1125 [==============================] - 3s 3ms/step - loss: 0.0205 - accuracy: 0.9940\n",
            "Epoch 11/20\n",
            "1125/1125 [==============================] - 3s 3ms/step - loss: 0.0174 - accuracy: 0.9950\n",
            "Epoch 12/20\n",
            "1125/1125 [==============================] - 3s 3ms/step - loss: 0.0132 - accuracy: 0.9967\n",
            "Epoch 13/20\n",
            "1125/1125 [==============================] - 3s 3ms/step - loss: 0.0102 - accuracy: 0.9979\n",
            "Epoch 14/20\n",
            "1125/1125 [==============================] - 3s 3ms/step - loss: 0.0073 - accuracy: 0.9987\n",
            "Epoch 15/20\n",
            "1125/1125 [==============================] - 3s 3ms/step - loss: 0.0052 - accuracy: 0.9993\n",
            "Epoch 16/20\n",
            "1125/1125 [==============================] - 3s 3ms/step - loss: 0.0036 - accuracy: 0.9996\n",
            "Epoch 17/20\n",
            "1125/1125 [==============================] - 3s 3ms/step - loss: 0.0025 - accuracy: 0.9999\n",
            "Epoch 18/20\n",
            "1125/1125 [==============================] - 3s 3ms/step - loss: 0.0018 - accuracy: 1.0000\n",
            "Epoch 19/20\n",
            "1125/1125 [==============================] - 3s 3ms/step - loss: 0.0014 - accuracy: 1.0000\n",
            "Epoch 20/20\n",
            "1125/1125 [==============================] - 3s 3ms/step - loss: 0.0013 - accuracy: 1.0000\n",
            "563/563 [==============================] - 1s 2ms/step\n",
            "[CV] END activation_function=relu, n_hidden_neurons=100, optimizer__lr=0.1; total time= 1.1min\n"
          ]
        },
        {
          "output_type": "stream",
          "name": "stderr",
          "text": [
            "/usr/local/lib/python3.7/dist-packages/keras/optimizer_v2/gradient_descent.py:102: UserWarning: The `lr` argument is deprecated, use `learning_rate` instead.\n",
            "  super(SGD, self).__init__(name, **kwargs)\n"
          ]
        },
        {
          "output_type": "stream",
          "name": "stdout",
          "text": [
            "Epoch 1/20\n",
            "1125/1125 [==============================] - 4s 3ms/step - loss: 0.8092 - accuracy: 0.7968\n",
            "Epoch 2/20\n",
            "1125/1125 [==============================] - 3s 3ms/step - loss: 0.3523 - accuracy: 0.9008\n",
            "Epoch 3/20\n",
            "1125/1125 [==============================] - 3s 3ms/step - loss: 0.2966 - accuracy: 0.9156\n",
            "Epoch 4/20\n",
            "1125/1125 [==============================] - 3s 3ms/step - loss: 0.2618 - accuracy: 0.9251\n",
            "Epoch 5/20\n",
            "1125/1125 [==============================] - 3s 3ms/step - loss: 0.2361 - accuracy: 0.9342\n",
            "Epoch 6/20\n",
            "1125/1125 [==============================] - 3s 3ms/step - loss: 0.2150 - accuracy: 0.9396\n",
            "Epoch 7/20\n",
            "1125/1125 [==============================] - 3s 3ms/step - loss: 0.1976 - accuracy: 0.9439\n",
            "Epoch 8/20\n",
            "1125/1125 [==============================] - 3s 3ms/step - loss: 0.1822 - accuracy: 0.9486\n",
            "Epoch 9/20\n",
            "1125/1125 [==============================] - 3s 3ms/step - loss: 0.1696 - accuracy: 0.9519\n",
            "Epoch 10/20\n",
            "1125/1125 [==============================] - 3s 3ms/step - loss: 0.1580 - accuracy: 0.9553\n",
            "Epoch 11/20\n",
            "1125/1125 [==============================] - 3s 3ms/step - loss: 0.1475 - accuracy: 0.9583\n",
            "Epoch 12/20\n",
            "1125/1125 [==============================] - 3s 3ms/step - loss: 0.1381 - accuracy: 0.9614\n",
            "Epoch 13/20\n",
            "1125/1125 [==============================] - 3s 3ms/step - loss: 0.1303 - accuracy: 0.9638\n",
            "Epoch 14/20\n",
            "1125/1125 [==============================] - 3s 3ms/step - loss: 0.1229 - accuracy: 0.9654\n",
            "Epoch 15/20\n",
            "1125/1125 [==============================] - 3s 3ms/step - loss: 0.1160 - accuracy: 0.9681\n",
            "Epoch 16/20\n",
            "1125/1125 [==============================] - 3s 3ms/step - loss: 0.1097 - accuracy: 0.9692\n",
            "Epoch 17/20\n",
            "1125/1125 [==============================] - 3s 3ms/step - loss: 0.1038 - accuracy: 0.9714\n",
            "Epoch 18/20\n",
            "1125/1125 [==============================] - 3s 3ms/step - loss: 0.0984 - accuracy: 0.9729\n",
            "Epoch 19/20\n",
            "1125/1125 [==============================] - 3s 3ms/step - loss: 0.0935 - accuracy: 0.9744\n",
            "Epoch 20/20\n",
            "1125/1125 [==============================] - 3s 3ms/step - loss: 0.0896 - accuracy: 0.9751\n",
            "563/563 [==============================] - 1s 2ms/step\n",
            "[CV] END activation_function=relu, n_hidden_neurons=100, optimizer__lr=0.01; total time= 1.1min\n"
          ]
        },
        {
          "output_type": "stream",
          "name": "stderr",
          "text": [
            "/usr/local/lib/python3.7/dist-packages/keras/optimizer_v2/gradient_descent.py:102: UserWarning: The `lr` argument is deprecated, use `learning_rate` instead.\n",
            "  super(SGD, self).__init__(name, **kwargs)\n"
          ]
        },
        {
          "output_type": "stream",
          "name": "stdout",
          "text": [
            "Epoch 1/20\n",
            "1125/1125 [==============================] - 4s 3ms/step - loss: 0.8908 - accuracy: 0.7729\n",
            "Epoch 2/20\n",
            "1125/1125 [==============================] - 3s 3ms/step - loss: 0.3564 - accuracy: 0.8988\n",
            "Epoch 3/20\n",
            "1125/1125 [==============================] - 3s 3ms/step - loss: 0.2924 - accuracy: 0.9161\n",
            "Epoch 4/20\n",
            "1125/1125 [==============================] - 3s 3ms/step - loss: 0.2560 - accuracy: 0.9258\n",
            "Epoch 5/20\n",
            "1125/1125 [==============================] - 3s 3ms/step - loss: 0.2297 - accuracy: 0.9339\n",
            "Epoch 6/20\n",
            "1125/1125 [==============================] - 3s 3ms/step - loss: 0.2094 - accuracy: 0.9395\n",
            "Epoch 7/20\n",
            "1125/1125 [==============================] - 3s 3ms/step - loss: 0.1923 - accuracy: 0.9445\n",
            "Epoch 8/20\n",
            "1125/1125 [==============================] - 3s 3ms/step - loss: 0.1794 - accuracy: 0.9491\n",
            "Epoch 9/20\n",
            "1125/1125 [==============================] - 3s 3ms/step - loss: 0.1676 - accuracy: 0.9521\n",
            "Epoch 10/20\n",
            "1125/1125 [==============================] - 3s 3ms/step - loss: 0.1575 - accuracy: 0.9546\n",
            "Epoch 11/20\n",
            "1125/1125 [==============================] - 3s 3ms/step - loss: 0.1490 - accuracy: 0.9569\n",
            "Epoch 12/20\n",
            "1125/1125 [==============================] - 3s 3ms/step - loss: 0.1408 - accuracy: 0.9599\n",
            "Epoch 13/20\n",
            "1125/1125 [==============================] - 3s 3ms/step - loss: 0.1330 - accuracy: 0.9614\n",
            "Epoch 14/20\n",
            "1125/1125 [==============================] - 3s 3ms/step - loss: 0.1263 - accuracy: 0.9643\n",
            "Epoch 15/20\n",
            "1125/1125 [==============================] - 3s 3ms/step - loss: 0.1204 - accuracy: 0.9657\n",
            "Epoch 16/20\n",
            "1125/1125 [==============================] - 3s 3ms/step - loss: 0.1142 - accuracy: 0.9676\n",
            "Epoch 17/20\n",
            "1125/1125 [==============================] - 3s 3ms/step - loss: 0.1093 - accuracy: 0.9689\n",
            "Epoch 18/20\n",
            "1125/1125 [==============================] - 3s 3ms/step - loss: 0.1035 - accuracy: 0.9711\n",
            "Epoch 19/20\n",
            "1125/1125 [==============================] - 3s 3ms/step - loss: 0.0988 - accuracy: 0.9723\n",
            "Epoch 20/20\n",
            "1125/1125 [==============================] - 3s 3ms/step - loss: 0.0942 - accuracy: 0.9735\n",
            "563/563 [==============================] - 1s 2ms/step\n",
            "[CV] END activation_function=relu, n_hidden_neurons=100, optimizer__lr=0.01; total time= 1.1min\n"
          ]
        },
        {
          "output_type": "stream",
          "name": "stderr",
          "text": [
            "/usr/local/lib/python3.7/dist-packages/keras/optimizer_v2/gradient_descent.py:102: UserWarning: The `lr` argument is deprecated, use `learning_rate` instead.\n",
            "  super(SGD, self).__init__(name, **kwargs)\n"
          ]
        },
        {
          "output_type": "stream",
          "name": "stdout",
          "text": [
            "Epoch 1/20\n",
            "1125/1125 [==============================] - 4s 3ms/step - loss: 0.8489 - accuracy: 0.7874\n",
            "Epoch 2/20\n",
            "1125/1125 [==============================] - 3s 3ms/step - loss: 0.3543 - accuracy: 0.8996\n",
            "Epoch 3/20\n",
            "1125/1125 [==============================] - 3s 3ms/step - loss: 0.2962 - accuracy: 0.9153\n",
            "Epoch 4/20\n",
            "1125/1125 [==============================] - 3s 3ms/step - loss: 0.2631 - accuracy: 0.9250\n",
            "Epoch 5/20\n",
            "1125/1125 [==============================] - 3s 3ms/step - loss: 0.2378 - accuracy: 0.9333\n",
            "Epoch 6/20\n",
            "1125/1125 [==============================] - 3s 3ms/step - loss: 0.2180 - accuracy: 0.9375\n",
            "Epoch 7/20\n",
            "1125/1125 [==============================] - 3s 3ms/step - loss: 0.2007 - accuracy: 0.9426\n",
            "Epoch 8/20\n",
            "1125/1125 [==============================] - 3s 3ms/step - loss: 0.1866 - accuracy: 0.9468\n",
            "Epoch 9/20\n",
            "1125/1125 [==============================] - 3s 3ms/step - loss: 0.1739 - accuracy: 0.9504\n",
            "Epoch 10/20\n",
            "1125/1125 [==============================] - 3s 3ms/step - loss: 0.1625 - accuracy: 0.9543\n",
            "Epoch 11/20\n",
            "1125/1125 [==============================] - 3s 3ms/step - loss: 0.1527 - accuracy: 0.9564\n",
            "Epoch 12/20\n",
            "1125/1125 [==============================] - 3s 3ms/step - loss: 0.1439 - accuracy: 0.9589\n",
            "Epoch 13/20\n",
            "1125/1125 [==============================] - 3s 3ms/step - loss: 0.1353 - accuracy: 0.9618\n",
            "Epoch 14/20\n",
            "1125/1125 [==============================] - 3s 3ms/step - loss: 0.1284 - accuracy: 0.9636\n",
            "Epoch 15/20\n",
            "1125/1125 [==============================] - 3s 3ms/step - loss: 0.1216 - accuracy: 0.9665\n",
            "Epoch 16/20\n",
            "1125/1125 [==============================] - 3s 3ms/step - loss: 0.1153 - accuracy: 0.9677\n",
            "Epoch 17/20\n",
            "1125/1125 [==============================] - 3s 3ms/step - loss: 0.1094 - accuracy: 0.9692\n",
            "Epoch 18/20\n",
            "1125/1125 [==============================] - 3s 3ms/step - loss: 0.1043 - accuracy: 0.9708\n",
            "Epoch 19/20\n",
            "1125/1125 [==============================] - 3s 3ms/step - loss: 0.0992 - accuracy: 0.9734\n",
            "Epoch 20/20\n",
            "1125/1125 [==============================] - 3s 3ms/step - loss: 0.0943 - accuracy: 0.9740\n",
            "563/563 [==============================] - 1s 2ms/step\n",
            "[CV] END activation_function=relu, n_hidden_neurons=100, optimizer__lr=0.01; total time= 1.2min\n"
          ]
        },
        {
          "output_type": "stream",
          "name": "stderr",
          "text": [
            "/usr/local/lib/python3.7/dist-packages/keras/optimizer_v2/gradient_descent.py:102: UserWarning: The `lr` argument is deprecated, use `learning_rate` instead.\n",
            "  super(SGD, self).__init__(name, **kwargs)\n"
          ]
        },
        {
          "output_type": "stream",
          "name": "stdout",
          "text": [
            "Epoch 1/20\n",
            "1125/1125 [==============================] - 4s 3ms/step - loss: 2.1128 - accuracy: 0.3264\n",
            "Epoch 2/20\n",
            "1125/1125 [==============================] - 3s 3ms/step - loss: 1.5844 - accuracy: 0.6811\n",
            "Epoch 3/20\n",
            "1125/1125 [==============================] - 3s 3ms/step - loss: 1.0795 - accuracy: 0.7799\n",
            "Epoch 4/20\n",
            "1125/1125 [==============================] - 3s 3ms/step - loss: 0.7893 - accuracy: 0.8206\n",
            "Epoch 5/20\n",
            "1125/1125 [==============================] - 3s 3ms/step - loss: 0.6395 - accuracy: 0.8438\n",
            "Epoch 6/20\n",
            "1125/1125 [==============================] - 3s 3ms/step - loss: 0.5527 - accuracy: 0.8593\n",
            "Epoch 7/20\n",
            "1125/1125 [==============================] - 3s 3ms/step - loss: 0.4968 - accuracy: 0.8692\n",
            "Epoch 8/20\n",
            "1125/1125 [==============================] - 3s 3ms/step - loss: 0.4579 - accuracy: 0.8771\n",
            "Epoch 9/20\n",
            "1125/1125 [==============================] - 3s 3ms/step - loss: 0.4296 - accuracy: 0.8837\n",
            "Epoch 10/20\n",
            "1125/1125 [==============================] - 3s 3ms/step - loss: 0.4076 - accuracy: 0.8877\n",
            "Epoch 11/20\n",
            "1125/1125 [==============================] - 3s 3ms/step - loss: 0.3904 - accuracy: 0.8913\n",
            "Epoch 12/20\n",
            "1125/1125 [==============================] - 3s 3ms/step - loss: 0.3762 - accuracy: 0.8947\n",
            "Epoch 13/20\n",
            "1125/1125 [==============================] - 3s 3ms/step - loss: 0.3643 - accuracy: 0.8976\n",
            "Epoch 14/20\n",
            "1125/1125 [==============================] - 4s 3ms/step - loss: 0.3541 - accuracy: 0.9002\n",
            "Epoch 15/20\n",
            "1125/1125 [==============================] - 3s 3ms/step - loss: 0.3452 - accuracy: 0.9018\n",
            "Epoch 16/20\n",
            "1125/1125 [==============================] - 3s 3ms/step - loss: 0.3371 - accuracy: 0.9040\n",
            "Epoch 17/20\n",
            "1125/1125 [==============================] - 3s 3ms/step - loss: 0.3298 - accuracy: 0.9061\n",
            "Epoch 18/20\n",
            "1125/1125 [==============================] - 3s 3ms/step - loss: 0.3232 - accuracy: 0.9083\n",
            "Epoch 19/20\n",
            "1125/1125 [==============================] - 3s 3ms/step - loss: 0.3169 - accuracy: 0.9100\n",
            "Epoch 20/20\n",
            "1125/1125 [==============================] - 3s 3ms/step - loss: 0.3115 - accuracy: 0.9109\n",
            "563/563 [==============================] - 1s 2ms/step\n",
            "[CV] END activation_function=relu, n_hidden_neurons=100, optimizer__lr=0.001; total time= 1.4min\n"
          ]
        },
        {
          "output_type": "stream",
          "name": "stderr",
          "text": [
            "/usr/local/lib/python3.7/dist-packages/keras/optimizer_v2/gradient_descent.py:102: UserWarning: The `lr` argument is deprecated, use `learning_rate` instead.\n",
            "  super(SGD, self).__init__(name, **kwargs)\n"
          ]
        },
        {
          "output_type": "stream",
          "name": "stdout",
          "text": [
            "Epoch 1/20\n",
            "1125/1125 [==============================] - 4s 3ms/step - loss: 2.0391 - accuracy: 0.4195\n",
            "Epoch 2/20\n",
            "1125/1125 [==============================] - 3s 3ms/step - loss: 1.4472 - accuracy: 0.7043\n",
            "Epoch 3/20\n",
            "1125/1125 [==============================] - 3s 3ms/step - loss: 0.9735 - accuracy: 0.7872\n",
            "Epoch 4/20\n",
            "1125/1125 [==============================] - 3s 3ms/step - loss: 0.7346 - accuracy: 0.8260\n",
            "Epoch 5/20\n",
            "1125/1125 [==============================] - 3s 3ms/step - loss: 0.6119 - accuracy: 0.8470\n",
            "Epoch 6/20\n",
            "1125/1125 [==============================] - 3s 3ms/step - loss: 0.5388 - accuracy: 0.8579\n",
            "Epoch 7/20\n",
            "1125/1125 [==============================] - 3s 3ms/step - loss: 0.4901 - accuracy: 0.8678\n",
            "Epoch 8/20\n",
            "1125/1125 [==============================] - 3s 3ms/step - loss: 0.4553 - accuracy: 0.8753\n",
            "Epoch 9/20\n",
            "1125/1125 [==============================] - 3s 3ms/step - loss: 0.4291 - accuracy: 0.8808\n",
            "Epoch 10/20\n",
            "1125/1125 [==============================] - 3s 3ms/step - loss: 0.4085 - accuracy: 0.8856\n",
            "Epoch 11/20\n",
            "1125/1125 [==============================] - 3s 3ms/step - loss: 0.3917 - accuracy: 0.8899\n",
            "Epoch 12/20\n",
            "1125/1125 [==============================] - 3s 3ms/step - loss: 0.3777 - accuracy: 0.8929\n",
            "Epoch 13/20\n",
            "1125/1125 [==============================] - 3s 3ms/step - loss: 0.3656 - accuracy: 0.8959\n",
            "Epoch 14/20\n",
            "1125/1125 [==============================] - 3s 3ms/step - loss: 0.3553 - accuracy: 0.8981\n",
            "Epoch 15/20\n",
            "1125/1125 [==============================] - 3s 3ms/step - loss: 0.3462 - accuracy: 0.9002\n",
            "Epoch 16/20\n",
            "1125/1125 [==============================] - 3s 3ms/step - loss: 0.3377 - accuracy: 0.9022\n",
            "Epoch 17/20\n",
            "1125/1125 [==============================] - 3s 3ms/step - loss: 0.3304 - accuracy: 0.9046\n",
            "Epoch 18/20\n",
            "1125/1125 [==============================] - 3s 3ms/step - loss: 0.3237 - accuracy: 0.9062\n",
            "Epoch 19/20\n",
            "1125/1125 [==============================] - 3s 3ms/step - loss: 0.3171 - accuracy: 0.9077\n",
            "Epoch 20/20\n",
            "1125/1125 [==============================] - 3s 3ms/step - loss: 0.3114 - accuracy: 0.9100\n",
            "563/563 [==============================] - 1s 2ms/step\n",
            "[CV] END activation_function=relu, n_hidden_neurons=100, optimizer__lr=0.001; total time= 1.4min\n"
          ]
        },
        {
          "output_type": "stream",
          "name": "stderr",
          "text": [
            "/usr/local/lib/python3.7/dist-packages/keras/optimizer_v2/gradient_descent.py:102: UserWarning: The `lr` argument is deprecated, use `learning_rate` instead.\n",
            "  super(SGD, self).__init__(name, **kwargs)\n"
          ]
        },
        {
          "output_type": "stream",
          "name": "stdout",
          "text": [
            "Epoch 1/20\n",
            "1125/1125 [==============================] - 3s 3ms/step - loss: 2.0342 - accuracy: 0.4151\n",
            "Epoch 2/20\n",
            "1125/1125 [==============================] - 3s 3ms/step - loss: 1.4012 - accuracy: 0.7018\n",
            "Epoch 3/20\n",
            "1125/1125 [==============================] - 3s 3ms/step - loss: 0.9326 - accuracy: 0.7933\n",
            "Epoch 4/20\n",
            "1125/1125 [==============================] - 3s 3ms/step - loss: 0.7125 - accuracy: 0.8296\n",
            "Epoch 5/20\n",
            "1125/1125 [==============================] - 3s 3ms/step - loss: 0.5994 - accuracy: 0.8504\n",
            "Epoch 6/20\n",
            "1125/1125 [==============================] - 3s 3ms/step - loss: 0.5310 - accuracy: 0.8635\n",
            "Epoch 7/20\n",
            "1125/1125 [==============================] - 3s 3ms/step - loss: 0.4848 - accuracy: 0.8732\n",
            "Epoch 8/20\n",
            "1125/1125 [==============================] - 3s 3ms/step - loss: 0.4512 - accuracy: 0.8810\n",
            "Epoch 9/20\n",
            "1125/1125 [==============================] - 3s 3ms/step - loss: 0.4260 - accuracy: 0.8859\n",
            "Epoch 10/20\n",
            "1125/1125 [==============================] - 3s 3ms/step - loss: 0.4062 - accuracy: 0.8901\n",
            "Epoch 11/20\n",
            "1125/1125 [==============================] - 3s 3ms/step - loss: 0.3903 - accuracy: 0.8935\n",
            "Epoch 12/20\n",
            "1125/1125 [==============================] - 3s 3ms/step - loss: 0.3771 - accuracy: 0.8960\n",
            "Epoch 13/20\n",
            "1125/1125 [==============================] - 3s 3ms/step - loss: 0.3659 - accuracy: 0.8983\n",
            "Epoch 14/20\n",
            "1125/1125 [==============================] - 3s 3ms/step - loss: 0.3562 - accuracy: 0.9002\n",
            "Epoch 15/20\n",
            "1125/1125 [==============================] - 3s 3ms/step - loss: 0.3477 - accuracy: 0.9023\n",
            "Epoch 16/20\n",
            "1125/1125 [==============================] - 3s 3ms/step - loss: 0.3399 - accuracy: 0.9049\n",
            "Epoch 17/20\n",
            "1125/1125 [==============================] - 3s 3ms/step - loss: 0.3332 - accuracy: 0.9064\n",
            "Epoch 18/20\n",
            "1125/1125 [==============================] - 3s 3ms/step - loss: 0.3267 - accuracy: 0.9082\n",
            "Epoch 19/20\n",
            "1125/1125 [==============================] - 3s 3ms/step - loss: 0.3209 - accuracy: 0.9100\n",
            "Epoch 20/20\n",
            "1125/1125 [==============================] - 3s 3ms/step - loss: 0.3155 - accuracy: 0.9117\n",
            "563/563 [==============================] - 1s 2ms/step\n",
            "[CV] END activation_function=relu, n_hidden_neurons=100, optimizer__lr=0.001; total time= 1.4min\n"
          ]
        },
        {
          "output_type": "stream",
          "name": "stderr",
          "text": [
            "/usr/local/lib/python3.7/dist-packages/keras/optimizer_v2/gradient_descent.py:102: UserWarning: The `lr` argument is deprecated, use `learning_rate` instead.\n",
            "  super(SGD, self).__init__(name, **kwargs)\n"
          ]
        },
        {
          "output_type": "stream",
          "name": "stdout",
          "text": [
            "Epoch 1/20\n",
            "1125/1125 [==============================] - 4s 3ms/step - loss: 0.3316 - accuracy: 0.9021\n",
            "Epoch 2/20\n",
            "1125/1125 [==============================] - 3s 3ms/step - loss: 0.1427 - accuracy: 0.9574\n",
            "Epoch 3/20\n",
            "1125/1125 [==============================] - 3s 3ms/step - loss: 0.0983 - accuracy: 0.9703\n",
            "Epoch 4/20\n",
            "1125/1125 [==============================] - 3s 3ms/step - loss: 0.0706 - accuracy: 0.9790\n",
            "Epoch 5/20\n",
            "1125/1125 [==============================] - 3s 3ms/step - loss: 0.0538 - accuracy: 0.9839\n",
            "Epoch 6/20\n",
            "1125/1125 [==============================] - 3s 3ms/step - loss: 0.0406 - accuracy: 0.9878\n",
            "Epoch 7/20\n",
            "1125/1125 [==============================] - 3s 3ms/step - loss: 0.0293 - accuracy: 0.9916\n",
            "Epoch 8/20\n",
            "1125/1125 [==============================] - 3s 3ms/step - loss: 0.0234 - accuracy: 0.9932\n",
            "Epoch 9/20\n",
            "1125/1125 [==============================] - 3s 3ms/step - loss: 0.0165 - accuracy: 0.9956\n",
            "Epoch 10/20\n",
            "1125/1125 [==============================] - 3s 3ms/step - loss: 0.0125 - accuracy: 0.9969\n",
            "Epoch 11/20\n",
            "1125/1125 [==============================] - 3s 3ms/step - loss: 0.0087 - accuracy: 0.9984\n",
            "Epoch 12/20\n",
            "1125/1125 [==============================] - 3s 3ms/step - loss: 0.0057 - accuracy: 0.9993\n",
            "Epoch 13/20\n",
            "1125/1125 [==============================] - 3s 3ms/step - loss: 0.0035 - accuracy: 0.9996\n",
            "Epoch 14/20\n",
            "1125/1125 [==============================] - 3s 3ms/step - loss: 0.0028 - accuracy: 0.9998\n",
            "Epoch 15/20\n",
            "1125/1125 [==============================] - 3s 3ms/step - loss: 0.0021 - accuracy: 0.9999\n",
            "Epoch 16/20\n",
            "1125/1125 [==============================] - 3s 3ms/step - loss: 0.0018 - accuracy: 0.9999\n",
            "Epoch 17/20\n",
            "1125/1125 [==============================] - 3s 3ms/step - loss: 0.0015 - accuracy: 0.9999\n",
            "Epoch 18/20\n",
            "1125/1125 [==============================] - 3s 3ms/step - loss: 0.0013 - accuracy: 0.9999\n",
            "Epoch 19/20\n",
            "1125/1125 [==============================] - 3s 3ms/step - loss: 0.0011 - accuracy: 0.9999\n",
            "Epoch 20/20\n",
            "1125/1125 [==============================] - 3s 3ms/step - loss: 9.4249e-04 - accuracy: 1.0000\n",
            "563/563 [==============================] - 1s 2ms/step\n",
            "[CV] END activation_function=relu, n_hidden_neurons=200, optimizer__lr=0.1; total time= 1.1min\n"
          ]
        },
        {
          "output_type": "stream",
          "name": "stderr",
          "text": [
            "/usr/local/lib/python3.7/dist-packages/keras/optimizer_v2/gradient_descent.py:102: UserWarning: The `lr` argument is deprecated, use `learning_rate` instead.\n",
            "  super(SGD, self).__init__(name, **kwargs)\n"
          ]
        },
        {
          "output_type": "stream",
          "name": "stdout",
          "text": [
            "Epoch 1/20\n",
            "1125/1125 [==============================] - 4s 3ms/step - loss: 0.3310 - accuracy: 0.9012\n",
            "Epoch 2/20\n",
            "1125/1125 [==============================] - 3s 3ms/step - loss: 0.1387 - accuracy: 0.9570\n",
            "Epoch 3/20\n",
            "1125/1125 [==============================] - 3s 3ms/step - loss: 0.0968 - accuracy: 0.9690\n",
            "Epoch 4/20\n",
            "1125/1125 [==============================] - 3s 3ms/step - loss: 0.0716 - accuracy: 0.9771\n",
            "Epoch 5/20\n",
            "1125/1125 [==============================] - 3s 3ms/step - loss: 0.0538 - accuracy: 0.9833\n",
            "Epoch 6/20\n",
            "1125/1125 [==============================] - 3s 3ms/step - loss: 0.0423 - accuracy: 0.9866\n",
            "Epoch 7/20\n",
            "1125/1125 [==============================] - 3s 3ms/step - loss: 0.0311 - accuracy: 0.9902\n",
            "Epoch 8/20\n",
            "1125/1125 [==============================] - 4s 3ms/step - loss: 0.0229 - accuracy: 0.9933\n",
            "Epoch 9/20\n",
            "1125/1125 [==============================] - 3s 3ms/step - loss: 0.0166 - accuracy: 0.9954\n",
            "Epoch 10/20\n",
            "1125/1125 [==============================] - 3s 3ms/step - loss: 0.0121 - accuracy: 0.9971\n",
            "Epoch 11/20\n",
            "1125/1125 [==============================] - 3s 3ms/step - loss: 0.0088 - accuracy: 0.9980\n",
            "Epoch 12/20\n",
            "1125/1125 [==============================] - 3s 3ms/step - loss: 0.0065 - accuracy: 0.9988\n",
            "Epoch 13/20\n",
            "1125/1125 [==============================] - 3s 3ms/step - loss: 0.0038 - accuracy: 0.9996\n",
            "Epoch 14/20\n",
            "1125/1125 [==============================] - 3s 3ms/step - loss: 0.0031 - accuracy: 0.9996\n",
            "Epoch 15/20\n",
            "1125/1125 [==============================] - 3s 3ms/step - loss: 0.0021 - accuracy: 0.9999\n",
            "Epoch 16/20\n",
            "1125/1125 [==============================] - 3s 3ms/step - loss: 0.0015 - accuracy: 1.0000\n",
            "Epoch 17/20\n",
            "1125/1125 [==============================] - 3s 3ms/step - loss: 0.0013 - accuracy: 1.0000\n",
            "Epoch 18/20\n",
            "1125/1125 [==============================] - 3s 3ms/step - loss: 0.0011 - accuracy: 1.0000\n",
            "Epoch 19/20\n",
            "1125/1125 [==============================] - 3s 3ms/step - loss: 0.0010 - accuracy: 0.9999\n",
            "Epoch 20/20\n",
            "1125/1125 [==============================] - 3s 3ms/step - loss: 8.7718e-04 - accuracy: 1.0000\n",
            "563/563 [==============================] - 1s 2ms/step\n",
            "[CV] END activation_function=relu, n_hidden_neurons=200, optimizer__lr=0.1; total time= 1.4min\n"
          ]
        },
        {
          "output_type": "stream",
          "name": "stderr",
          "text": [
            "/usr/local/lib/python3.7/dist-packages/keras/optimizer_v2/gradient_descent.py:102: UserWarning: The `lr` argument is deprecated, use `learning_rate` instead.\n",
            "  super(SGD, self).__init__(name, **kwargs)\n"
          ]
        },
        {
          "output_type": "stream",
          "name": "stdout",
          "text": [
            "Epoch 1/20\n",
            "1125/1125 [==============================] - 4s 3ms/step - loss: 0.3339 - accuracy: 0.9011\n",
            "Epoch 2/20\n",
            "1125/1125 [==============================] - 3s 3ms/step - loss: 0.1402 - accuracy: 0.9580\n",
            "Epoch 3/20\n",
            "1125/1125 [==============================] - 3s 3ms/step - loss: 0.0950 - accuracy: 0.9713\n",
            "Epoch 4/20\n",
            "1125/1125 [==============================] - 4s 3ms/step - loss: 0.0722 - accuracy: 0.9785\n",
            "Epoch 5/20\n",
            "1125/1125 [==============================] - 3s 3ms/step - loss: 0.0528 - accuracy: 0.9841\n",
            "Epoch 6/20\n",
            "1125/1125 [==============================] - 3s 3ms/step - loss: 0.0421 - accuracy: 0.9877\n",
            "Epoch 7/20\n",
            "1125/1125 [==============================] - 3s 3ms/step - loss: 0.0319 - accuracy: 0.9911\n",
            "Epoch 8/20\n",
            "1125/1125 [==============================] - 3s 3ms/step - loss: 0.0243 - accuracy: 0.9929\n",
            "Epoch 9/20\n",
            "1125/1125 [==============================] - 3s 3ms/step - loss: 0.0177 - accuracy: 0.9956\n",
            "Epoch 10/20\n",
            "1125/1125 [==============================] - 3s 3ms/step - loss: 0.0123 - accuracy: 0.9975\n",
            "Epoch 11/20\n",
            "1125/1125 [==============================] - 3s 3ms/step - loss: 0.0094 - accuracy: 0.9981\n",
            "Epoch 12/20\n",
            "1125/1125 [==============================] - 3s 3ms/step - loss: 0.0067 - accuracy: 0.9990\n",
            "Epoch 13/20\n",
            "1125/1125 [==============================] - 3s 3ms/step - loss: 0.0050 - accuracy: 0.9994\n",
            "Epoch 14/20\n",
            "1125/1125 [==============================] - 3s 3ms/step - loss: 0.0031 - accuracy: 0.9998\n",
            "Epoch 15/20\n",
            "1125/1125 [==============================] - 3s 3ms/step - loss: 0.0023 - accuracy: 0.9999\n",
            "Epoch 16/20\n",
            "1125/1125 [==============================] - 3s 3ms/step - loss: 0.0018 - accuracy: 1.0000\n",
            "Epoch 17/20\n",
            "1125/1125 [==============================] - 3s 3ms/step - loss: 0.0014 - accuracy: 1.0000\n",
            "Epoch 18/20\n",
            "1125/1125 [==============================] - 3s 3ms/step - loss: 0.0012 - accuracy: 1.0000\n",
            "Epoch 19/20\n",
            "1125/1125 [==============================] - 3s 3ms/step - loss: 0.0010 - accuracy: 1.0000\n",
            "Epoch 20/20\n",
            "1125/1125 [==============================] - 3s 3ms/step - loss: 9.5010e-04 - accuracy: 1.0000\n",
            "563/563 [==============================] - 1s 2ms/step\n",
            "[CV] END activation_function=relu, n_hidden_neurons=200, optimizer__lr=0.1; total time= 1.4min\n"
          ]
        },
        {
          "output_type": "stream",
          "name": "stderr",
          "text": [
            "/usr/local/lib/python3.7/dist-packages/keras/optimizer_v2/gradient_descent.py:102: UserWarning: The `lr` argument is deprecated, use `learning_rate` instead.\n",
            "  super(SGD, self).__init__(name, **kwargs)\n"
          ]
        },
        {
          "output_type": "stream",
          "name": "stdout",
          "text": [
            "Epoch 1/20\n",
            "1125/1125 [==============================] - 4s 3ms/step - loss: 0.7816 - accuracy: 0.8013\n",
            "Epoch 2/20\n",
            "1125/1125 [==============================] - 3s 3ms/step - loss: 0.3401 - accuracy: 0.9039\n",
            "Epoch 3/20\n",
            "1125/1125 [==============================] - 3s 3ms/step - loss: 0.2837 - accuracy: 0.9193\n",
            "Epoch 4/20\n",
            "1125/1125 [==============================] - 3s 3ms/step - loss: 0.2493 - accuracy: 0.9302\n",
            "Epoch 5/20\n",
            "1125/1125 [==============================] - 3s 3ms/step - loss: 0.2245 - accuracy: 0.9374\n",
            "Epoch 6/20\n",
            "1125/1125 [==============================] - 3s 3ms/step - loss: 0.2038 - accuracy: 0.9427\n",
            "Epoch 7/20\n",
            "1125/1125 [==============================] - 3s 3ms/step - loss: 0.1869 - accuracy: 0.9471\n",
            "Epoch 8/20\n",
            "1125/1125 [==============================] - 3s 3ms/step - loss: 0.1717 - accuracy: 0.9523\n",
            "Epoch 9/20\n",
            "1125/1125 [==============================] - 3s 3ms/step - loss: 0.1591 - accuracy: 0.9553\n",
            "Epoch 10/20\n",
            "1125/1125 [==============================] - 3s 3ms/step - loss: 0.1480 - accuracy: 0.9592\n",
            "Epoch 11/20\n",
            "1125/1125 [==============================] - 3s 3ms/step - loss: 0.1379 - accuracy: 0.9615\n",
            "Epoch 12/20\n",
            "1125/1125 [==============================] - 3s 3ms/step - loss: 0.1290 - accuracy: 0.9647\n",
            "Epoch 13/20\n",
            "1125/1125 [==============================] - 3s 3ms/step - loss: 0.1212 - accuracy: 0.9664\n",
            "Epoch 14/20\n",
            "1125/1125 [==============================] - 3s 3ms/step - loss: 0.1140 - accuracy: 0.9682\n",
            "Epoch 15/20\n",
            "1125/1125 [==============================] - 3s 3ms/step - loss: 0.1075 - accuracy: 0.9704\n",
            "Epoch 16/20\n",
            "1125/1125 [==============================] - 3s 3ms/step - loss: 0.1012 - accuracy: 0.9726\n",
            "Epoch 17/20\n",
            "1125/1125 [==============================] - 3s 3ms/step - loss: 0.0956 - accuracy: 0.9740\n",
            "Epoch 18/20\n",
            "1125/1125 [==============================] - 3s 3ms/step - loss: 0.0900 - accuracy: 0.9758\n",
            "Epoch 19/20\n",
            "1125/1125 [==============================] - 3s 3ms/step - loss: 0.0853 - accuracy: 0.9766\n",
            "Epoch 20/20\n",
            "1125/1125 [==============================] - 3s 3ms/step - loss: 0.0814 - accuracy: 0.9778\n",
            "563/563 [==============================] - 1s 2ms/step\n",
            "[CV] END activation_function=relu, n_hidden_neurons=200, optimizer__lr=0.01; total time= 1.4min\n"
          ]
        },
        {
          "output_type": "stream",
          "name": "stderr",
          "text": [
            "/usr/local/lib/python3.7/dist-packages/keras/optimizer_v2/gradient_descent.py:102: UserWarning: The `lr` argument is deprecated, use `learning_rate` instead.\n",
            "  super(SGD, self).__init__(name, **kwargs)\n"
          ]
        },
        {
          "output_type": "stream",
          "name": "stdout",
          "text": [
            "Epoch 1/20\n",
            "1125/1125 [==============================] - 3s 3ms/step - loss: 0.7864 - accuracy: 0.8051\n",
            "Epoch 2/20\n",
            "1125/1125 [==============================] - 3s 3ms/step - loss: 0.3382 - accuracy: 0.9038\n",
            "Epoch 3/20\n",
            "1125/1125 [==============================] - 3s 3ms/step - loss: 0.2804 - accuracy: 0.9188\n",
            "Epoch 4/20\n",
            "1125/1125 [==============================] - 3s 3ms/step - loss: 0.2459 - accuracy: 0.9280\n",
            "Epoch 5/20\n",
            "1125/1125 [==============================] - 3s 3ms/step - loss: 0.2199 - accuracy: 0.9363\n",
            "Epoch 6/20\n",
            "1125/1125 [==============================] - 3s 3ms/step - loss: 0.1988 - accuracy: 0.9430\n",
            "Epoch 7/20\n",
            "1125/1125 [==============================] - 3s 3ms/step - loss: 0.1804 - accuracy: 0.9485\n",
            "Epoch 8/20\n",
            "1125/1125 [==============================] - 3s 3ms/step - loss: 0.1661 - accuracy: 0.9528\n",
            "Epoch 9/20\n",
            "1125/1125 [==============================] - 3s 3ms/step - loss: 0.1531 - accuracy: 0.9560\n",
            "Epoch 10/20\n",
            "1125/1125 [==============================] - 3s 3ms/step - loss: 0.1423 - accuracy: 0.9592\n",
            "Epoch 11/20\n",
            "1125/1125 [==============================] - 3s 3ms/step - loss: 0.1326 - accuracy: 0.9625\n",
            "Epoch 12/20\n",
            "1125/1125 [==============================] - 3s 3ms/step - loss: 0.1242 - accuracy: 0.9648\n",
            "Epoch 13/20\n",
            "1125/1125 [==============================] - 3s 3ms/step - loss: 0.1159 - accuracy: 0.9678\n",
            "Epoch 14/20\n",
            "1125/1125 [==============================] - 3s 3ms/step - loss: 0.1091 - accuracy: 0.9691\n",
            "Epoch 15/20\n",
            "1125/1125 [==============================] - 3s 3ms/step - loss: 0.1028 - accuracy: 0.9714\n",
            "Epoch 16/20\n",
            "1125/1125 [==============================] - 3s 3ms/step - loss: 0.0967 - accuracy: 0.9732\n",
            "Epoch 17/20\n",
            "1125/1125 [==============================] - 3s 3ms/step - loss: 0.0915 - accuracy: 0.9744\n",
            "Epoch 18/20\n",
            "1125/1125 [==============================] - 3s 3ms/step - loss: 0.0859 - accuracy: 0.9765\n",
            "Epoch 19/20\n",
            "1125/1125 [==============================] - 3s 3ms/step - loss: 0.0814 - accuracy: 0.9775\n",
            "Epoch 20/20\n",
            "1125/1125 [==============================] - 3s 3ms/step - loss: 0.0768 - accuracy: 0.9788\n",
            "563/563 [==============================] - 1s 2ms/step\n",
            "[CV] END activation_function=relu, n_hidden_neurons=200, optimizer__lr=0.01; total time= 1.4min\n"
          ]
        },
        {
          "output_type": "stream",
          "name": "stderr",
          "text": [
            "/usr/local/lib/python3.7/dist-packages/keras/optimizer_v2/gradient_descent.py:102: UserWarning: The `lr` argument is deprecated, use `learning_rate` instead.\n",
            "  super(SGD, self).__init__(name, **kwargs)\n"
          ]
        },
        {
          "output_type": "stream",
          "name": "stdout",
          "text": [
            "Epoch 1/20\n",
            "1125/1125 [==============================] - 4s 3ms/step - loss: 0.7819 - accuracy: 0.8052\n",
            "Epoch 2/20\n",
            "1125/1125 [==============================] - 3s 3ms/step - loss: 0.3418 - accuracy: 0.9035\n",
            "Epoch 3/20\n",
            "1125/1125 [==============================] - 3s 3ms/step - loss: 0.2845 - accuracy: 0.9197\n",
            "Epoch 4/20\n",
            "1125/1125 [==============================] - 3s 3ms/step - loss: 0.2501 - accuracy: 0.9296\n",
            "Epoch 5/20\n",
            "1125/1125 [==============================] - 3s 3ms/step - loss: 0.2240 - accuracy: 0.9370\n",
            "Epoch 6/20\n",
            "1125/1125 [==============================] - 3s 3ms/step - loss: 0.2035 - accuracy: 0.9421\n",
            "Epoch 7/20\n",
            "1125/1125 [==============================] - 3s 3ms/step - loss: 0.1855 - accuracy: 0.9480\n",
            "Epoch 8/20\n",
            "1125/1125 [==============================] - 3s 3ms/step - loss: 0.1710 - accuracy: 0.9522\n",
            "Epoch 9/20\n",
            "1125/1125 [==============================] - 3s 3ms/step - loss: 0.1583 - accuracy: 0.9557\n",
            "Epoch 10/20\n",
            "1125/1125 [==============================] - 3s 3ms/step - loss: 0.1469 - accuracy: 0.9594\n",
            "Epoch 11/20\n",
            "1125/1125 [==============================] - 3s 3ms/step - loss: 0.1371 - accuracy: 0.9615\n",
            "Epoch 12/20\n",
            "1125/1125 [==============================] - 3s 3ms/step - loss: 0.1284 - accuracy: 0.9646\n",
            "Epoch 13/20\n",
            "1125/1125 [==============================] - 3s 3ms/step - loss: 0.1198 - accuracy: 0.9676\n",
            "Epoch 14/20\n",
            "1125/1125 [==============================] - 3s 3ms/step - loss: 0.1129 - accuracy: 0.9695\n",
            "Epoch 15/20\n",
            "1125/1125 [==============================] - 3s 3ms/step - loss: 0.1062 - accuracy: 0.9707\n",
            "Epoch 16/20\n",
            "1125/1125 [==============================] - 3s 3ms/step - loss: 0.0999 - accuracy: 0.9726\n",
            "Epoch 17/20\n",
            "1125/1125 [==============================] - 3s 3ms/step - loss: 0.0943 - accuracy: 0.9742\n",
            "Epoch 18/20\n",
            "1125/1125 [==============================] - 3s 3ms/step - loss: 0.0889 - accuracy: 0.9757\n",
            "Epoch 19/20\n",
            "1125/1125 [==============================] - 3s 3ms/step - loss: 0.0843 - accuracy: 0.9770\n",
            "Epoch 20/20\n",
            "1125/1125 [==============================] - 3s 3ms/step - loss: 0.0796 - accuracy: 0.9779\n",
            "563/563 [==============================] - 1s 2ms/step\n",
            "[CV] END activation_function=relu, n_hidden_neurons=200, optimizer__lr=0.01; total time= 1.4min\n"
          ]
        },
        {
          "output_type": "stream",
          "name": "stderr",
          "text": [
            "/usr/local/lib/python3.7/dist-packages/keras/optimizer_v2/gradient_descent.py:102: UserWarning: The `lr` argument is deprecated, use `learning_rate` instead.\n",
            "  super(SGD, self).__init__(name, **kwargs)\n"
          ]
        },
        {
          "output_type": "stream",
          "name": "stdout",
          "text": [
            "Epoch 1/20\n",
            "1125/1125 [==============================] - 4s 3ms/step - loss: 2.0409 - accuracy: 0.4215\n",
            "Epoch 2/20\n",
            "1125/1125 [==============================] - 3s 3ms/step - loss: 1.3758 - accuracy: 0.7317\n",
            "Epoch 3/20\n",
            "1125/1125 [==============================] - 3s 3ms/step - loss: 0.9092 - accuracy: 0.8081\n",
            "Epoch 4/20\n",
            "1125/1125 [==============================] - 3s 3ms/step - loss: 0.6924 - accuracy: 0.8404\n",
            "Epoch 5/20\n",
            "1125/1125 [==============================] - 3s 3ms/step - loss: 0.5802 - accuracy: 0.8591\n",
            "Epoch 6/20\n",
            "1125/1125 [==============================] - 3s 3ms/step - loss: 0.5127 - accuracy: 0.8704\n",
            "Epoch 7/20\n",
            "1125/1125 [==============================] - 3s 3ms/step - loss: 0.4679 - accuracy: 0.8789\n",
            "Epoch 8/20\n",
            "1125/1125 [==============================] - 3s 3ms/step - loss: 0.4359 - accuracy: 0.8849\n",
            "Epoch 9/20\n",
            "1125/1125 [==============================] - 3s 3ms/step - loss: 0.4121 - accuracy: 0.8890\n",
            "Epoch 10/20\n",
            "1125/1125 [==============================] - 3s 3ms/step - loss: 0.3932 - accuracy: 0.8928\n",
            "Epoch 11/20\n",
            "1125/1125 [==============================] - 3s 3ms/step - loss: 0.3780 - accuracy: 0.8958\n",
            "Epoch 12/20\n",
            "1125/1125 [==============================] - 3s 3ms/step - loss: 0.3654 - accuracy: 0.8986\n",
            "Epoch 13/20\n",
            "1125/1125 [==============================] - 3s 3ms/step - loss: 0.3546 - accuracy: 0.9012\n",
            "Epoch 14/20\n",
            "1125/1125 [==============================] - 3s 3ms/step - loss: 0.3452 - accuracy: 0.9034\n",
            "Epoch 15/20\n",
            "1125/1125 [==============================] - 3s 3ms/step - loss: 0.3368 - accuracy: 0.9054\n",
            "Epoch 16/20\n",
            "1125/1125 [==============================] - 3s 3ms/step - loss: 0.3292 - accuracy: 0.9070\n",
            "Epoch 17/20\n",
            "1125/1125 [==============================] - 3s 3ms/step - loss: 0.3223 - accuracy: 0.9091\n",
            "Epoch 18/20\n",
            "1125/1125 [==============================] - 3s 3ms/step - loss: 0.3159 - accuracy: 0.9110\n",
            "Epoch 19/20\n",
            "1125/1125 [==============================] - 3s 3ms/step - loss: 0.3100 - accuracy: 0.9130\n",
            "Epoch 20/20\n",
            "1125/1125 [==============================] - 3s 3ms/step - loss: 0.3047 - accuracy: 0.9143\n",
            "563/563 [==============================] - 1s 2ms/step\n",
            "[CV] END activation_function=relu, n_hidden_neurons=200, optimizer__lr=0.001; total time= 1.1min\n"
          ]
        },
        {
          "output_type": "stream",
          "name": "stderr",
          "text": [
            "/usr/local/lib/python3.7/dist-packages/keras/optimizer_v2/gradient_descent.py:102: UserWarning: The `lr` argument is deprecated, use `learning_rate` instead.\n",
            "  super(SGD, self).__init__(name, **kwargs)\n"
          ]
        },
        {
          "output_type": "stream",
          "name": "stdout",
          "text": [
            "Epoch 1/20\n",
            "1125/1125 [==============================] - 3s 3ms/step - loss: 1.9832 - accuracy: 0.4482\n",
            "Epoch 2/20\n",
            "1125/1125 [==============================] - 3s 3ms/step - loss: 1.3005 - accuracy: 0.7281\n",
            "Epoch 3/20\n",
            "1125/1125 [==============================] - 3s 3ms/step - loss: 0.8678 - accuracy: 0.8089\n",
            "Epoch 4/20\n",
            "1125/1125 [==============================] - 3s 3ms/step - loss: 0.6684 - accuracy: 0.8437\n",
            "Epoch 5/20\n",
            "1125/1125 [==============================] - 3s 3ms/step - loss: 0.5633 - accuracy: 0.8624\n",
            "Epoch 6/20\n",
            "1125/1125 [==============================] - 3s 3ms/step - loss: 0.4992 - accuracy: 0.8741\n",
            "Epoch 7/20\n",
            "1125/1125 [==============================] - 3s 3ms/step - loss: 0.4562 - accuracy: 0.8815\n",
            "Epoch 8/20\n",
            "1125/1125 [==============================] - 3s 3ms/step - loss: 0.4254 - accuracy: 0.8869\n",
            "Epoch 9/20\n",
            "1125/1125 [==============================] - 3s 3ms/step - loss: 0.4022 - accuracy: 0.8908\n",
            "Epoch 10/20\n",
            "1125/1125 [==============================] - 3s 3ms/step - loss: 0.3840 - accuracy: 0.8949\n",
            "Epoch 11/20\n",
            "1125/1125 [==============================] - 3s 3ms/step - loss: 0.3692 - accuracy: 0.8982\n",
            "Epoch 12/20\n",
            "1125/1125 [==============================] - 3s 3ms/step - loss: 0.3568 - accuracy: 0.9005\n",
            "Epoch 13/20\n",
            "1125/1125 [==============================] - 3s 3ms/step - loss: 0.3461 - accuracy: 0.9029\n",
            "Epoch 14/20\n",
            "1125/1125 [==============================] - 3s 3ms/step - loss: 0.3371 - accuracy: 0.9054\n",
            "Epoch 15/20\n",
            "1125/1125 [==============================] - 3s 3ms/step - loss: 0.3290 - accuracy: 0.9070\n",
            "Epoch 16/20\n",
            "1125/1125 [==============================] - 3s 3ms/step - loss: 0.3216 - accuracy: 0.9091\n",
            "Epoch 17/20\n",
            "1125/1125 [==============================] - 3s 3ms/step - loss: 0.3151 - accuracy: 0.9095\n",
            "Epoch 18/20\n",
            "1125/1125 [==============================] - 3s 3ms/step - loss: 0.3091 - accuracy: 0.9116\n",
            "Epoch 19/20\n",
            "1125/1125 [==============================] - 3s 3ms/step - loss: 0.3033 - accuracy: 0.9130\n",
            "Epoch 20/20\n",
            "1125/1125 [==============================] - 3s 3ms/step - loss: 0.2982 - accuracy: 0.9146\n",
            "563/563 [==============================] - 1s 2ms/step\n",
            "[CV] END activation_function=relu, n_hidden_neurons=200, optimizer__lr=0.001; total time= 1.4min\n"
          ]
        },
        {
          "output_type": "stream",
          "name": "stderr",
          "text": [
            "/usr/local/lib/python3.7/dist-packages/keras/optimizer_v2/gradient_descent.py:102: UserWarning: The `lr` argument is deprecated, use `learning_rate` instead.\n",
            "  super(SGD, self).__init__(name, **kwargs)\n"
          ]
        },
        {
          "output_type": "stream",
          "name": "stdout",
          "text": [
            "Epoch 1/20\n",
            "1125/1125 [==============================] - 3s 3ms/step - loss: 2.0534 - accuracy: 0.4223\n",
            "Epoch 2/20\n",
            "1125/1125 [==============================] - 3s 3ms/step - loss: 1.4194 - accuracy: 0.7178\n",
            "Epoch 3/20\n",
            "1125/1125 [==============================] - 3s 3ms/step - loss: 0.9442 - accuracy: 0.7943\n",
            "Epoch 4/20\n",
            "1125/1125 [==============================] - 3s 3ms/step - loss: 0.7084 - accuracy: 0.8315\n",
            "Epoch 5/20\n",
            "1125/1125 [==============================] - 3s 3ms/step - loss: 0.5872 - accuracy: 0.8543\n",
            "Epoch 6/20\n",
            "1125/1125 [==============================] - 3s 3ms/step - loss: 0.5151 - accuracy: 0.8675\n",
            "Epoch 7/20\n",
            "1125/1125 [==============================] - 3s 3ms/step - loss: 0.4673 - accuracy: 0.8787\n",
            "Epoch 8/20\n",
            "1125/1125 [==============================] - 3s 3ms/step - loss: 0.4330 - accuracy: 0.8853\n",
            "Epoch 9/20\n",
            "1125/1125 [==============================] - 3s 3ms/step - loss: 0.4075 - accuracy: 0.8913\n",
            "Epoch 10/20\n",
            "1125/1125 [==============================] - 3s 3ms/step - loss: 0.3874 - accuracy: 0.8951\n",
            "Epoch 11/20\n",
            "1125/1125 [==============================] - 3s 3ms/step - loss: 0.3713 - accuracy: 0.8989\n",
            "Epoch 12/20\n",
            "1125/1125 [==============================] - 3s 3ms/step - loss: 0.3579 - accuracy: 0.9017\n",
            "Epoch 13/20\n",
            "1125/1125 [==============================] - 3s 3ms/step - loss: 0.3465 - accuracy: 0.9051\n",
            "Epoch 14/20\n",
            "1125/1125 [==============================] - 3s 3ms/step - loss: 0.3366 - accuracy: 0.9072\n",
            "Epoch 15/20\n",
            "1125/1125 [==============================] - 3s 3ms/step - loss: 0.3279 - accuracy: 0.9094\n",
            "Epoch 16/20\n",
            "1125/1125 [==============================] - 3s 3ms/step - loss: 0.3199 - accuracy: 0.9114\n",
            "Epoch 17/20\n",
            "1125/1125 [==============================] - 3s 3ms/step - loss: 0.3131 - accuracy: 0.9129\n",
            "Epoch 18/20\n",
            "1125/1125 [==============================] - 3s 3ms/step - loss: 0.3065 - accuracy: 0.9146\n",
            "Epoch 19/20\n",
            "1125/1125 [==============================] - 3s 3ms/step - loss: 0.3007 - accuracy: 0.9159\n",
            "Epoch 20/20\n",
            "1125/1125 [==============================] - 3s 3ms/step - loss: 0.2952 - accuracy: 0.9179\n",
            "563/563 [==============================] - 1s 2ms/step\n",
            "[CV] END activation_function=relu, n_hidden_neurons=200, optimizer__lr=0.001; total time= 1.4min\n"
          ]
        },
        {
          "output_type": "stream",
          "name": "stderr",
          "text": [
            "/usr/local/lib/python3.7/dist-packages/keras/optimizer_v2/gradient_descent.py:102: UserWarning: The `lr` argument is deprecated, use `learning_rate` instead.\n",
            "  super(SGD, self).__init__(name, **kwargs)\n"
          ]
        },
        {
          "output_type": "stream",
          "name": "stdout",
          "text": [
            "Epoch 1/20\n",
            "1125/1125 [==============================] - 3s 3ms/step - loss: 0.3527 - accuracy: 0.8961\n",
            "Epoch 2/20\n",
            "1125/1125 [==============================] - 3s 3ms/step - loss: 0.1571 - accuracy: 0.9530\n",
            "Epoch 3/20\n",
            "1125/1125 [==============================] - 3s 3ms/step - loss: 0.1107 - accuracy: 0.9679\n",
            "Epoch 4/20\n",
            "1125/1125 [==============================] - 3s 3ms/step - loss: 0.0843 - accuracy: 0.9753\n",
            "Epoch 5/20\n",
            "1125/1125 [==============================] - 3s 3ms/step - loss: 0.0668 - accuracy: 0.9802\n",
            "Epoch 6/20\n",
            "1125/1125 [==============================] - 3s 3ms/step - loss: 0.0544 - accuracy: 0.9835\n",
            "Epoch 7/20\n",
            "1125/1125 [==============================] - 3s 3ms/step - loss: 0.0436 - accuracy: 0.9865\n",
            "Epoch 8/20\n",
            "1125/1125 [==============================] - 3s 3ms/step - loss: 0.0347 - accuracy: 0.9890\n",
            "Epoch 9/20\n",
            "1125/1125 [==============================] - 3s 3ms/step - loss: 0.0280 - accuracy: 0.9914\n",
            "Epoch 10/20\n",
            "1125/1125 [==============================] - 3s 3ms/step - loss: 0.0234 - accuracy: 0.9928\n",
            "Epoch 11/20\n",
            "1125/1125 [==============================] - 3s 3ms/step - loss: 0.0176 - accuracy: 0.9948\n",
            "Epoch 12/20\n",
            "1125/1125 [==============================] - 3s 3ms/step - loss: 0.0142 - accuracy: 0.9964\n",
            "Epoch 13/20\n",
            "1125/1125 [==============================] - 3s 3ms/step - loss: 0.0091 - accuracy: 0.9981\n",
            "Epoch 14/20\n",
            "1125/1125 [==============================] - 3s 3ms/step - loss: 0.0064 - accuracy: 0.9990\n",
            "Epoch 15/20\n",
            "1125/1125 [==============================] - 3s 3ms/step - loss: 0.0044 - accuracy: 0.9995\n",
            "Epoch 16/20\n",
            "1125/1125 [==============================] - 3s 3ms/step - loss: 0.0030 - accuracy: 0.9998\n",
            "Epoch 17/20\n",
            "1125/1125 [==============================] - 3s 3ms/step - loss: 0.0023 - accuracy: 0.9998\n",
            "Epoch 18/20\n",
            "1125/1125 [==============================] - 3s 3ms/step - loss: 0.0020 - accuracy: 0.9998\n",
            "Epoch 19/20\n",
            "1125/1125 [==============================] - 3s 3ms/step - loss: 0.0017 - accuracy: 0.9998\n",
            "Epoch 20/20\n",
            "1125/1125 [==============================] - 3s 3ms/step - loss: 0.0013 - accuracy: 0.9999\n",
            "563/563 [==============================] - 1s 2ms/step\n",
            "[CV] END activation_function=sigmoid, n_hidden_neurons=100, optimizer__lr=0.1; total time= 1.4min\n"
          ]
        },
        {
          "output_type": "stream",
          "name": "stderr",
          "text": [
            "/usr/local/lib/python3.7/dist-packages/keras/optimizer_v2/gradient_descent.py:102: UserWarning: The `lr` argument is deprecated, use `learning_rate` instead.\n",
            "  super(SGD, self).__init__(name, **kwargs)\n"
          ]
        },
        {
          "output_type": "stream",
          "name": "stdout",
          "text": [
            "Epoch 1/20\n",
            "1125/1125 [==============================] - 4s 3ms/step - loss: 0.3522 - accuracy: 0.8923\n",
            "Epoch 2/20\n",
            "1125/1125 [==============================] - 3s 3ms/step - loss: 0.1518 - accuracy: 0.9529\n",
            "Epoch 3/20\n",
            "1125/1125 [==============================] - 3s 3ms/step - loss: 0.1078 - accuracy: 0.9669\n",
            "Epoch 4/20\n",
            "1125/1125 [==============================] - 3s 3ms/step - loss: 0.0829 - accuracy: 0.9742\n",
            "Epoch 5/20\n",
            "1125/1125 [==============================] - 3s 3ms/step - loss: 0.0660 - accuracy: 0.9786\n",
            "Epoch 6/20\n",
            "1125/1125 [==============================] - 3s 3ms/step - loss: 0.0525 - accuracy: 0.9829\n",
            "Epoch 7/20\n",
            "1125/1125 [==============================] - 3s 3ms/step - loss: 0.0406 - accuracy: 0.9875\n",
            "Epoch 8/20\n",
            "1125/1125 [==============================] - 3s 3ms/step - loss: 0.0336 - accuracy: 0.9897\n",
            "Epoch 9/20\n",
            "1125/1125 [==============================] - 3s 3ms/step - loss: 0.0266 - accuracy: 0.9918\n",
            "Epoch 10/20\n",
            "1125/1125 [==============================] - 3s 3ms/step - loss: 0.0205 - accuracy: 0.9937\n",
            "Epoch 11/20\n",
            "1125/1125 [==============================] - 3s 3ms/step - loss: 0.0166 - accuracy: 0.9953\n",
            "Epoch 12/20\n",
            "1125/1125 [==============================] - 3s 3ms/step - loss: 0.0130 - accuracy: 0.9967\n",
            "Epoch 13/20\n",
            "1125/1125 [==============================] - 3s 3ms/step - loss: 0.0094 - accuracy: 0.9977\n",
            "Epoch 14/20\n",
            "1125/1125 [==============================] - 3s 3ms/step - loss: 0.0067 - accuracy: 0.9988\n",
            "Epoch 15/20\n",
            "1125/1125 [==============================] - 3s 3ms/step - loss: 0.0049 - accuracy: 0.9992\n",
            "Epoch 16/20\n",
            "1125/1125 [==============================] - 3s 3ms/step - loss: 0.0034 - accuracy: 0.9996\n",
            "Epoch 17/20\n",
            "1125/1125 [==============================] - 3s 3ms/step - loss: 0.0023 - accuracy: 0.9999\n",
            "Epoch 18/20\n",
            "1125/1125 [==============================] - 3s 3ms/step - loss: 0.0017 - accuracy: 1.0000\n",
            "Epoch 19/20\n",
            "1125/1125 [==============================] - 3s 3ms/step - loss: 0.0014 - accuracy: 1.0000\n",
            "Epoch 20/20\n",
            "1125/1125 [==============================] - 3s 3ms/step - loss: 0.0012 - accuracy: 1.0000\n",
            "563/563 [==============================] - 1s 2ms/step\n",
            "[CV] END activation_function=sigmoid, n_hidden_neurons=100, optimizer__lr=0.1; total time= 1.2min\n"
          ]
        },
        {
          "output_type": "stream",
          "name": "stderr",
          "text": [
            "/usr/local/lib/python3.7/dist-packages/keras/optimizer_v2/gradient_descent.py:102: UserWarning: The `lr` argument is deprecated, use `learning_rate` instead.\n",
            "  super(SGD, self).__init__(name, **kwargs)\n"
          ]
        },
        {
          "output_type": "stream",
          "name": "stdout",
          "text": [
            "Epoch 1/20\n",
            "1125/1125 [==============================] - 4s 3ms/step - loss: 0.3555 - accuracy: 0.8944\n",
            "Epoch 2/20\n",
            "1125/1125 [==============================] - 3s 3ms/step - loss: 0.1633 - accuracy: 0.9509\n",
            "Epoch 3/20\n",
            "1125/1125 [==============================] - 3s 3ms/step - loss: 0.1141 - accuracy: 0.9650\n",
            "Epoch 4/20\n",
            "1125/1125 [==============================] - 3s 3ms/step - loss: 0.0892 - accuracy: 0.9731\n",
            "Epoch 5/20\n",
            "1125/1125 [==============================] - 3s 3ms/step - loss: 0.0685 - accuracy: 0.9795\n",
            "Epoch 6/20\n",
            "1125/1125 [==============================] - 3s 3ms/step - loss: 0.0556 - accuracy: 0.9824\n",
            "Epoch 7/20\n",
            "1125/1125 [==============================] - 3s 3ms/step - loss: 0.0433 - accuracy: 0.9874\n",
            "Epoch 8/20\n",
            "1125/1125 [==============================] - 3s 3ms/step - loss: 0.0361 - accuracy: 0.9889\n",
            "Epoch 9/20\n",
            "1125/1125 [==============================] - 3s 3ms/step - loss: 0.0292 - accuracy: 0.9909\n",
            "Epoch 10/20\n",
            "1125/1125 [==============================] - 3s 3ms/step - loss: 0.0214 - accuracy: 0.9942\n",
            "Epoch 11/20\n",
            "1125/1125 [==============================] - 3s 3ms/step - loss: 0.0174 - accuracy: 0.9949\n",
            "Epoch 12/20\n",
            "1125/1125 [==============================] - 3s 3ms/step - loss: 0.0143 - accuracy: 0.9964\n",
            "Epoch 13/20\n",
            "1125/1125 [==============================] - 3s 3ms/step - loss: 0.0117 - accuracy: 0.9972\n",
            "Epoch 14/20\n",
            "1125/1125 [==============================] - 3s 3ms/step - loss: 0.0078 - accuracy: 0.9983\n",
            "Epoch 15/20\n",
            "1125/1125 [==============================] - 3s 3ms/step - loss: 0.0052 - accuracy: 0.9994\n",
            "Epoch 16/20\n",
            "1125/1125 [==============================] - 3s 3ms/step - loss: 0.0041 - accuracy: 0.9995\n",
            "Epoch 17/20\n",
            "1125/1125 [==============================] - 3s 3ms/step - loss: 0.0027 - accuracy: 0.9999\n",
            "Epoch 18/20\n",
            "1125/1125 [==============================] - 3s 3ms/step - loss: 0.0020 - accuracy: 0.9999\n",
            "Epoch 19/20\n",
            "1125/1125 [==============================] - 3s 3ms/step - loss: 0.0015 - accuracy: 1.0000\n",
            "Epoch 20/20\n",
            "1125/1125 [==============================] - 3s 3ms/step - loss: 0.0014 - accuracy: 1.0000\n",
            "563/563 [==============================] - 1s 2ms/step\n",
            "[CV] END activation_function=sigmoid, n_hidden_neurons=100, optimizer__lr=0.1; total time= 1.4min\n"
          ]
        },
        {
          "output_type": "stream",
          "name": "stderr",
          "text": [
            "/usr/local/lib/python3.7/dist-packages/keras/optimizer_v2/gradient_descent.py:102: UserWarning: The `lr` argument is deprecated, use `learning_rate` instead.\n",
            "  super(SGD, self).__init__(name, **kwargs)\n"
          ]
        },
        {
          "output_type": "stream",
          "name": "stdout",
          "text": [
            "Epoch 1/20\n",
            "1125/1125 [==============================] - 4s 3ms/step - loss: 0.8601 - accuracy: 0.7714\n",
            "Epoch 2/20\n",
            "1125/1125 [==============================] - 3s 3ms/step - loss: 0.3608 - accuracy: 0.8974\n",
            "Epoch 3/20\n",
            "1125/1125 [==============================] - 3s 3ms/step - loss: 0.3024 - accuracy: 0.9126\n",
            "Epoch 4/20\n",
            "1125/1125 [==============================] - 3s 3ms/step - loss: 0.2670 - accuracy: 0.9240\n",
            "Epoch 5/20\n",
            "1125/1125 [==============================] - 3s 3ms/step - loss: 0.2406 - accuracy: 0.9313\n",
            "Epoch 6/20\n",
            "1125/1125 [==============================] - 3s 3ms/step - loss: 0.2188 - accuracy: 0.9369\n",
            "Epoch 7/20\n",
            "1125/1125 [==============================] - 3s 3ms/step - loss: 0.2009 - accuracy: 0.9420\n",
            "Epoch 8/20\n",
            "1125/1125 [==============================] - 3s 3ms/step - loss: 0.1847 - accuracy: 0.9468\n",
            "Epoch 9/20\n",
            "1125/1125 [==============================] - 3s 3ms/step - loss: 0.1712 - accuracy: 0.9517\n",
            "Epoch 10/20\n",
            "1125/1125 [==============================] - 3s 3ms/step - loss: 0.1593 - accuracy: 0.9543\n",
            "Epoch 11/20\n",
            "1125/1125 [==============================] - 3s 3ms/step - loss: 0.1485 - accuracy: 0.9574\n",
            "Epoch 12/20\n",
            "1125/1125 [==============================] - 3s 3ms/step - loss: 0.1391 - accuracy: 0.9606\n",
            "Epoch 13/20\n",
            "1125/1125 [==============================] - 3s 3ms/step - loss: 0.1310 - accuracy: 0.9633\n",
            "Epoch 14/20\n",
            "1125/1125 [==============================] - 3s 3ms/step - loss: 0.1232 - accuracy: 0.9650\n",
            "Epoch 15/20\n",
            "1125/1125 [==============================] - 3s 3ms/step - loss: 0.1165 - accuracy: 0.9677\n",
            "Epoch 16/20\n",
            "1125/1125 [==============================] - 3s 3ms/step - loss: 0.1101 - accuracy: 0.9691\n",
            "Epoch 17/20\n",
            "1125/1125 [==============================] - 3s 3ms/step - loss: 0.1041 - accuracy: 0.9715\n",
            "Epoch 18/20\n",
            "1125/1125 [==============================] - 3s 3ms/step - loss: 0.0984 - accuracy: 0.9736\n",
            "Epoch 19/20\n",
            "1125/1125 [==============================] - 3s 3ms/step - loss: 0.0937 - accuracy: 0.9744\n",
            "Epoch 20/20\n",
            "1125/1125 [==============================] - 4s 3ms/step - loss: 0.0897 - accuracy: 0.9762\n",
            "563/563 [==============================] - 1s 2ms/step\n",
            "[CV] END activation_function=sigmoid, n_hidden_neurons=100, optimizer__lr=0.01; total time= 1.2min\n"
          ]
        },
        {
          "output_type": "stream",
          "name": "stderr",
          "text": [
            "/usr/local/lib/python3.7/dist-packages/keras/optimizer_v2/gradient_descent.py:102: UserWarning: The `lr` argument is deprecated, use `learning_rate` instead.\n",
            "  super(SGD, self).__init__(name, **kwargs)\n"
          ]
        },
        {
          "output_type": "stream",
          "name": "stdout",
          "text": [
            "Epoch 1/20\n",
            "1125/1125 [==============================] - 4s 3ms/step - loss: 0.8616 - accuracy: 0.7754\n",
            "Epoch 2/20\n",
            "1125/1125 [==============================] - 3s 3ms/step - loss: 0.3557 - accuracy: 0.8982\n",
            "Epoch 3/20\n",
            "1125/1125 [==============================] - 3s 3ms/step - loss: 0.2982 - accuracy: 0.9131\n",
            "Epoch 4/20\n",
            "1125/1125 [==============================] - 3s 3ms/step - loss: 0.2650 - accuracy: 0.9235\n",
            "Epoch 5/20\n",
            "1125/1125 [==============================] - 3s 3ms/step - loss: 0.2404 - accuracy: 0.9308\n",
            "Epoch 6/20\n",
            "1125/1125 [==============================] - 3s 3ms/step - loss: 0.2198 - accuracy: 0.9358\n",
            "Epoch 7/20\n",
            "1125/1125 [==============================] - 3s 3ms/step - loss: 0.2017 - accuracy: 0.9419\n",
            "Epoch 8/20\n",
            "1125/1125 [==============================] - 3s 3ms/step - loss: 0.1875 - accuracy: 0.9465\n",
            "Epoch 9/20\n",
            "1125/1125 [==============================] - 3s 3ms/step - loss: 0.1742 - accuracy: 0.9501\n",
            "Epoch 10/20\n",
            "1125/1125 [==============================] - 3s 3ms/step - loss: 0.1629 - accuracy: 0.9527\n",
            "Epoch 11/20\n",
            "1125/1125 [==============================] - 3s 3ms/step - loss: 0.1530 - accuracy: 0.9568\n",
            "Epoch 12/20\n",
            "1125/1125 [==============================] - 3s 3ms/step - loss: 0.1443 - accuracy: 0.9580\n",
            "Epoch 13/20\n",
            "1125/1125 [==============================] - 3s 3ms/step - loss: 0.1357 - accuracy: 0.9604\n",
            "Epoch 14/20\n",
            "1125/1125 [==============================] - 3s 3ms/step - loss: 0.1285 - accuracy: 0.9629\n",
            "Epoch 15/20\n",
            "1125/1125 [==============================] - 3s 3ms/step - loss: 0.1220 - accuracy: 0.9645\n",
            "Epoch 16/20\n",
            "1125/1125 [==============================] - 3s 3ms/step - loss: 0.1158 - accuracy: 0.9660\n",
            "Epoch 17/20\n",
            "1125/1125 [==============================] - 3s 3ms/step - loss: 0.1103 - accuracy: 0.9682\n",
            "Epoch 18/20\n",
            "1125/1125 [==============================] - 3s 3ms/step - loss: 0.1043 - accuracy: 0.9697\n",
            "Epoch 19/20\n",
            "1125/1125 [==============================] - 3s 3ms/step - loss: 0.0993 - accuracy: 0.9711\n",
            "Epoch 20/20\n",
            "1125/1125 [==============================] - 3s 3ms/step - loss: 0.0945 - accuracy: 0.9729\n",
            "563/563 [==============================] - 1s 2ms/step\n",
            "[CV] END activation_function=sigmoid, n_hidden_neurons=100, optimizer__lr=0.01; total time= 1.2min\n"
          ]
        },
        {
          "output_type": "stream",
          "name": "stderr",
          "text": [
            "/usr/local/lib/python3.7/dist-packages/keras/optimizer_v2/gradient_descent.py:102: UserWarning: The `lr` argument is deprecated, use `learning_rate` instead.\n",
            "  super(SGD, self).__init__(name, **kwargs)\n"
          ]
        },
        {
          "output_type": "stream",
          "name": "stdout",
          "text": [
            "Epoch 1/20\n",
            "1125/1125 [==============================] - 3s 3ms/step - loss: 0.8657 - accuracy: 0.7750\n",
            "Epoch 2/20\n",
            "1125/1125 [==============================] - 3s 3ms/step - loss: 0.3461 - accuracy: 0.9017\n",
            "Epoch 3/20\n",
            "1125/1125 [==============================] - 3s 3ms/step - loss: 0.2899 - accuracy: 0.9169\n",
            "Epoch 4/20\n",
            "1125/1125 [==============================] - 3s 3ms/step - loss: 0.2578 - accuracy: 0.9258\n",
            "Epoch 5/20\n",
            "1125/1125 [==============================] - 3s 3ms/step - loss: 0.2334 - accuracy: 0.9337\n",
            "Epoch 6/20\n",
            "1125/1125 [==============================] - 3s 3ms/step - loss: 0.2137 - accuracy: 0.9385\n",
            "Epoch 7/20\n",
            "1125/1125 [==============================] - 3s 3ms/step - loss: 0.1964 - accuracy: 0.9437\n",
            "Epoch 8/20\n",
            "1125/1125 [==============================] - 3s 3ms/step - loss: 0.1823 - accuracy: 0.9481\n",
            "Epoch 9/20\n",
            "1125/1125 [==============================] - 3s 3ms/step - loss: 0.1698 - accuracy: 0.9522\n",
            "Epoch 10/20\n",
            "1125/1125 [==============================] - 3s 3ms/step - loss: 0.1585 - accuracy: 0.9550\n",
            "Epoch 11/20\n",
            "1125/1125 [==============================] - 3s 3ms/step - loss: 0.1486 - accuracy: 0.9574\n",
            "Epoch 12/20\n",
            "1125/1125 [==============================] - 3s 3ms/step - loss: 0.1400 - accuracy: 0.9595\n",
            "Epoch 13/20\n",
            "1125/1125 [==============================] - 3s 3ms/step - loss: 0.1319 - accuracy: 0.9630\n",
            "Epoch 14/20\n",
            "1125/1125 [==============================] - 3s 3ms/step - loss: 0.1253 - accuracy: 0.9647\n",
            "Epoch 15/20\n",
            "1125/1125 [==============================] - 3s 3ms/step - loss: 0.1188 - accuracy: 0.9664\n",
            "Epoch 16/20\n",
            "1125/1125 [==============================] - 3s 3ms/step - loss: 0.1126 - accuracy: 0.9679\n",
            "Epoch 17/20\n",
            "1125/1125 [==============================] - 3s 3ms/step - loss: 0.1070 - accuracy: 0.9699\n",
            "Epoch 18/20\n",
            "1125/1125 [==============================] - 3s 3ms/step - loss: 0.1020 - accuracy: 0.9712\n",
            "Epoch 19/20\n",
            "1125/1125 [==============================] - 3s 3ms/step - loss: 0.0971 - accuracy: 0.9725\n",
            "Epoch 20/20\n",
            "1125/1125 [==============================] - 3s 3ms/step - loss: 0.0923 - accuracy: 0.9740\n",
            "563/563 [==============================] - 1s 2ms/step\n",
            "[CV] END activation_function=sigmoid, n_hidden_neurons=100, optimizer__lr=0.01; total time= 1.4min\n"
          ]
        },
        {
          "output_type": "stream",
          "name": "stderr",
          "text": [
            "/usr/local/lib/python3.7/dist-packages/keras/optimizer_v2/gradient_descent.py:102: UserWarning: The `lr` argument is deprecated, use `learning_rate` instead.\n",
            "  super(SGD, self).__init__(name, **kwargs)\n"
          ]
        },
        {
          "output_type": "stream",
          "name": "stdout",
          "text": [
            "Epoch 1/20\n",
            "1125/1125 [==============================] - 3s 3ms/step - loss: 2.0099 - accuracy: 0.4032\n",
            "Epoch 2/20\n",
            "1125/1125 [==============================] - 3s 3ms/step - loss: 1.3736 - accuracy: 0.7079\n",
            "Epoch 3/20\n",
            "1125/1125 [==============================] - 3s 3ms/step - loss: 0.9227 - accuracy: 0.7876\n",
            "Epoch 4/20\n",
            "1125/1125 [==============================] - 3s 3ms/step - loss: 0.7059 - accuracy: 0.8284\n",
            "Epoch 5/20\n",
            "1125/1125 [==============================] - 3s 3ms/step - loss: 0.5924 - accuracy: 0.8507\n",
            "Epoch 6/20\n",
            "1125/1125 [==============================] - 3s 3ms/step - loss: 0.5243 - accuracy: 0.8630\n",
            "Epoch 7/20\n",
            "1125/1125 [==============================] - 3s 3ms/step - loss: 0.4794 - accuracy: 0.8728\n",
            "Epoch 8/20\n",
            "1125/1125 [==============================] - 3s 3ms/step - loss: 0.4472 - accuracy: 0.8792\n",
            "Epoch 9/20\n",
            "1125/1125 [==============================] - 3s 3ms/step - loss: 0.4233 - accuracy: 0.8842\n",
            "Epoch 10/20\n",
            "1125/1125 [==============================] - 3s 3ms/step - loss: 0.4042 - accuracy: 0.8882\n",
            "Epoch 11/20\n",
            "1125/1125 [==============================] - 3s 3ms/step - loss: 0.3889 - accuracy: 0.8917\n",
            "Epoch 12/20\n",
            "1125/1125 [==============================] - 3s 3ms/step - loss: 0.3761 - accuracy: 0.8950\n",
            "Epoch 13/20\n",
            "1125/1125 [==============================] - 3s 3ms/step - loss: 0.3652 - accuracy: 0.8970\n",
            "Epoch 14/20\n",
            "1125/1125 [==============================] - 3s 3ms/step - loss: 0.3558 - accuracy: 0.8994\n",
            "Epoch 15/20\n",
            "1125/1125 [==============================] - 3s 3ms/step - loss: 0.3474 - accuracy: 0.9018\n",
            "Epoch 16/20\n",
            "1125/1125 [==============================] - 3s 3ms/step - loss: 0.3398 - accuracy: 0.9036\n",
            "Epoch 17/20\n",
            "1125/1125 [==============================] - 3s 3ms/step - loss: 0.3330 - accuracy: 0.9056\n",
            "Epoch 18/20\n",
            "1125/1125 [==============================] - 3s 3ms/step - loss: 0.3266 - accuracy: 0.9075\n",
            "Epoch 19/20\n",
            "1125/1125 [==============================] - 3s 3ms/step - loss: 0.3207 - accuracy: 0.9089\n",
            "Epoch 20/20\n",
            "1125/1125 [==============================] - 3s 3ms/step - loss: 0.3156 - accuracy: 0.9109\n",
            "563/563 [==============================] - 1s 2ms/step\n",
            "[CV] END activation_function=sigmoid, n_hidden_neurons=100, optimizer__lr=0.001; total time= 1.4min\n"
          ]
        },
        {
          "output_type": "stream",
          "name": "stderr",
          "text": [
            "/usr/local/lib/python3.7/dist-packages/keras/optimizer_v2/gradient_descent.py:102: UserWarning: The `lr` argument is deprecated, use `learning_rate` instead.\n",
            "  super(SGD, self).__init__(name, **kwargs)\n"
          ]
        },
        {
          "output_type": "stream",
          "name": "stdout",
          "text": [
            "Epoch 1/20\n",
            "1125/1125 [==============================] - 3s 3ms/step - loss: 2.0758 - accuracy: 0.3677\n",
            "Epoch 2/20\n",
            "1125/1125 [==============================] - 3s 3ms/step - loss: 1.4909 - accuracy: 0.6592\n",
            "Epoch 3/20\n",
            "1125/1125 [==============================] - 3s 3ms/step - loss: 1.0228 - accuracy: 0.7552\n",
            "Epoch 4/20\n",
            "1125/1125 [==============================] - 3s 3ms/step - loss: 0.7813 - accuracy: 0.8020\n",
            "Epoch 5/20\n",
            "1125/1125 [==============================] - 3s 3ms/step - loss: 0.6486 - accuracy: 0.8338\n",
            "Epoch 6/20\n",
            "1125/1125 [==============================] - 3s 3ms/step - loss: 0.5660 - accuracy: 0.8534\n",
            "Epoch 7/20\n",
            "1125/1125 [==============================] - 3s 3ms/step - loss: 0.5105 - accuracy: 0.8664\n",
            "Epoch 8/20\n",
            "1125/1125 [==============================] - 3s 3ms/step - loss: 0.4711 - accuracy: 0.8745\n",
            "Epoch 9/20\n",
            "1125/1125 [==============================] - 3s 3ms/step - loss: 0.4418 - accuracy: 0.8810\n",
            "Epoch 10/20\n",
            "1125/1125 [==============================] - 3s 3ms/step - loss: 0.4189 - accuracy: 0.8858\n",
            "Epoch 11/20\n",
            "1125/1125 [==============================] - 3s 3ms/step - loss: 0.4008 - accuracy: 0.8903\n",
            "Epoch 12/20\n",
            "1125/1125 [==============================] - 3s 3ms/step - loss: 0.3856 - accuracy: 0.8941\n",
            "Epoch 13/20\n",
            "1125/1125 [==============================] - 3s 3ms/step - loss: 0.3728 - accuracy: 0.8966\n",
            "Epoch 14/20\n",
            "1125/1125 [==============================] - 3s 3ms/step - loss: 0.3618 - accuracy: 0.8992\n",
            "Epoch 15/20\n",
            "1125/1125 [==============================] - 3s 3ms/step - loss: 0.3523 - accuracy: 0.9007\n",
            "Epoch 16/20\n",
            "1125/1125 [==============================] - 3s 3ms/step - loss: 0.3435 - accuracy: 0.9031\n",
            "Epoch 17/20\n",
            "1125/1125 [==============================] - 3s 3ms/step - loss: 0.3359 - accuracy: 0.9053\n",
            "Epoch 18/20\n",
            "1125/1125 [==============================] - 3s 3ms/step - loss: 0.3288 - accuracy: 0.9073\n",
            "Epoch 19/20\n",
            "1125/1125 [==============================] - 4s 3ms/step - loss: 0.3221 - accuracy: 0.9088\n",
            "Epoch 20/20\n",
            "1125/1125 [==============================] - 3s 3ms/step - loss: 0.3163 - accuracy: 0.9101\n",
            "563/563 [==============================] - 1s 2ms/step\n",
            "[CV] END activation_function=sigmoid, n_hidden_neurons=100, optimizer__lr=0.001; total time= 1.4min\n"
          ]
        },
        {
          "output_type": "stream",
          "name": "stderr",
          "text": [
            "/usr/local/lib/python3.7/dist-packages/keras/optimizer_v2/gradient_descent.py:102: UserWarning: The `lr` argument is deprecated, use `learning_rate` instead.\n",
            "  super(SGD, self).__init__(name, **kwargs)\n"
          ]
        },
        {
          "output_type": "stream",
          "name": "stdout",
          "text": [
            "Epoch 1/20\n",
            "1125/1125 [==============================] - 4s 3ms/step - loss: 2.1247 - accuracy: 0.3677\n",
            "Epoch 2/20\n",
            "1125/1125 [==============================] - 3s 3ms/step - loss: 1.5686 - accuracy: 0.6856\n",
            "Epoch 3/20\n",
            "1125/1125 [==============================] - 3s 3ms/step - loss: 1.0522 - accuracy: 0.7747\n",
            "Epoch 4/20\n",
            "1125/1125 [==============================] - 3s 3ms/step - loss: 0.7717 - accuracy: 0.8243\n",
            "Epoch 5/20\n",
            "1125/1125 [==============================] - 3s 3ms/step - loss: 0.6289 - accuracy: 0.8486\n",
            "Epoch 6/20\n",
            "1125/1125 [==============================] - 3s 3ms/step - loss: 0.5474 - accuracy: 0.8632\n",
            "Epoch 7/20\n",
            "1125/1125 [==============================] - 3s 3ms/step - loss: 0.4957 - accuracy: 0.8723\n",
            "Epoch 8/20\n",
            "1125/1125 [==============================] - 3s 3ms/step - loss: 0.4597 - accuracy: 0.8790\n",
            "Epoch 9/20\n",
            "1125/1125 [==============================] - 3s 3ms/step - loss: 0.4333 - accuracy: 0.8838\n",
            "Epoch 10/20\n",
            "1125/1125 [==============================] - 3s 3ms/step - loss: 0.4129 - accuracy: 0.8882\n",
            "Epoch 11/20\n",
            "1125/1125 [==============================] - 3s 3ms/step - loss: 0.3966 - accuracy: 0.8918\n",
            "Epoch 12/20\n",
            "1125/1125 [==============================] - 3s 3ms/step - loss: 0.3831 - accuracy: 0.8949\n",
            "Epoch 13/20\n",
            "1125/1125 [==============================] - 3s 3ms/step - loss: 0.3718 - accuracy: 0.8973\n",
            "Epoch 14/20\n",
            "1125/1125 [==============================] - 3s 3ms/step - loss: 0.3619 - accuracy: 0.8994\n",
            "Epoch 15/20\n",
            "1125/1125 [==============================] - 3s 3ms/step - loss: 0.3532 - accuracy: 0.9015\n",
            "Epoch 16/20\n",
            "1125/1125 [==============================] - 3s 3ms/step - loss: 0.3453 - accuracy: 0.9027\n",
            "Epoch 17/20\n",
            "1125/1125 [==============================] - 3s 3ms/step - loss: 0.3384 - accuracy: 0.9041\n",
            "Epoch 18/20\n",
            "1125/1125 [==============================] - 3s 3ms/step - loss: 0.3318 - accuracy: 0.9062\n",
            "Epoch 19/20\n",
            "1125/1125 [==============================] - 3s 3ms/step - loss: 0.3258 - accuracy: 0.9074\n",
            "Epoch 20/20\n",
            "1125/1125 [==============================] - 3s 3ms/step - loss: 0.3202 - accuracy: 0.9087\n",
            "563/563 [==============================] - 1s 2ms/step\n",
            "[CV] END activation_function=sigmoid, n_hidden_neurons=100, optimizer__lr=0.001; total time= 1.1min\n"
          ]
        },
        {
          "output_type": "stream",
          "name": "stderr",
          "text": [
            "/usr/local/lib/python3.7/dist-packages/keras/optimizer_v2/gradient_descent.py:102: UserWarning: The `lr` argument is deprecated, use `learning_rate` instead.\n",
            "  super(SGD, self).__init__(name, **kwargs)\n"
          ]
        },
        {
          "output_type": "stream",
          "name": "stdout",
          "text": [
            "Epoch 1/20\n",
            "1125/1125 [==============================] - 4s 3ms/step - loss: 0.3277 - accuracy: 0.9041\n",
            "Epoch 2/20\n",
            "1125/1125 [==============================] - 3s 3ms/step - loss: 0.1429 - accuracy: 0.9584\n",
            "Epoch 3/20\n",
            "1125/1125 [==============================] - 3s 3ms/step - loss: 0.0987 - accuracy: 0.9708\n",
            "Epoch 4/20\n",
            "1125/1125 [==============================] - 3s 3ms/step - loss: 0.0712 - accuracy: 0.9798\n",
            "Epoch 5/20\n",
            "1125/1125 [==============================] - 3s 3ms/step - loss: 0.0541 - accuracy: 0.9841\n",
            "Epoch 6/20\n",
            "1125/1125 [==============================] - 3s 3ms/step - loss: 0.0414 - accuracy: 0.9873\n",
            "Epoch 7/20\n",
            "1125/1125 [==============================] - 3s 3ms/step - loss: 0.0317 - accuracy: 0.9906\n",
            "Epoch 8/20\n",
            "1125/1125 [==============================] - 3s 3ms/step - loss: 0.0231 - accuracy: 0.9939\n",
            "Epoch 9/20\n",
            "1125/1125 [==============================] - 3s 3ms/step - loss: 0.0176 - accuracy: 0.9957\n",
            "Epoch 10/20\n",
            "1125/1125 [==============================] - 3s 3ms/step - loss: 0.0132 - accuracy: 0.9967\n",
            "Epoch 11/20\n",
            "1125/1125 [==============================] - 3s 3ms/step - loss: 0.0090 - accuracy: 0.9984\n",
            "Epoch 12/20\n",
            "1125/1125 [==============================] - 3s 3ms/step - loss: 0.0054 - accuracy: 0.9994\n",
            "Epoch 13/20\n",
            "1125/1125 [==============================] - 3s 3ms/step - loss: 0.0038 - accuracy: 0.9997\n",
            "Epoch 14/20\n",
            "1125/1125 [==============================] - 3s 3ms/step - loss: 0.0028 - accuracy: 0.9998\n",
            "Epoch 15/20\n",
            "1125/1125 [==============================] - 3s 3ms/step - loss: 0.0022 - accuracy: 0.9999\n",
            "Epoch 16/20\n",
            "1125/1125 [==============================] - 3s 3ms/step - loss: 0.0017 - accuracy: 0.9999\n",
            "Epoch 17/20\n",
            "1125/1125 [==============================] - 3s 3ms/step - loss: 0.0014 - accuracy: 1.0000\n",
            "Epoch 18/20\n",
            "1125/1125 [==============================] - 3s 3ms/step - loss: 0.0012 - accuracy: 1.0000\n",
            "Epoch 19/20\n",
            "1125/1125 [==============================] - 3s 3ms/step - loss: 0.0010 - accuracy: 1.0000\n",
            "Epoch 20/20\n",
            "1125/1125 [==============================] - 3s 3ms/step - loss: 9.2773e-04 - accuracy: 1.0000\n",
            "563/563 [==============================] - 1s 2ms/step\n",
            "[CV] END activation_function=sigmoid, n_hidden_neurons=200, optimizer__lr=0.1; total time= 1.4min\n"
          ]
        },
        {
          "output_type": "stream",
          "name": "stderr",
          "text": [
            "/usr/local/lib/python3.7/dist-packages/keras/optimizer_v2/gradient_descent.py:102: UserWarning: The `lr` argument is deprecated, use `learning_rate` instead.\n",
            "  super(SGD, self).__init__(name, **kwargs)\n"
          ]
        },
        {
          "output_type": "stream",
          "name": "stdout",
          "text": [
            "Epoch 1/20\n",
            "1125/1125 [==============================] - 4s 3ms/step - loss: 0.3313 - accuracy: 0.9003\n",
            "Epoch 2/20\n",
            "1125/1125 [==============================] - 3s 3ms/step - loss: 0.1361 - accuracy: 0.9587\n",
            "Epoch 3/20\n",
            "1125/1125 [==============================] - 3s 3ms/step - loss: 0.0955 - accuracy: 0.9704\n",
            "Epoch 4/20\n",
            "1125/1125 [==============================] - 3s 3ms/step - loss: 0.0713 - accuracy: 0.9784\n",
            "Epoch 5/20\n",
            "1125/1125 [==============================] - 3s 3ms/step - loss: 0.0517 - accuracy: 0.9841\n",
            "Epoch 6/20\n",
            "1125/1125 [==============================] - 3s 3ms/step - loss: 0.0409 - accuracy: 0.9873\n",
            "Epoch 7/20\n",
            "1125/1125 [==============================] - 3s 3ms/step - loss: 0.0287 - accuracy: 0.9920\n",
            "Epoch 8/20\n",
            "1125/1125 [==============================] - 3s 3ms/step - loss: 0.0234 - accuracy: 0.9936\n",
            "Epoch 9/20\n",
            "1125/1125 [==============================] - 3s 3ms/step - loss: 0.0170 - accuracy: 0.9956\n",
            "Epoch 10/20\n",
            "1125/1125 [==============================] - 3s 3ms/step - loss: 0.0117 - accuracy: 0.9973\n",
            "Epoch 11/20\n",
            "1125/1125 [==============================] - 3s 3ms/step - loss: 0.0079 - accuracy: 0.9986\n",
            "Epoch 12/20\n",
            "1125/1125 [==============================] - 3s 3ms/step - loss: 0.0058 - accuracy: 0.9990\n",
            "Epoch 13/20\n",
            "1125/1125 [==============================] - 3s 3ms/step - loss: 0.0034 - accuracy: 0.9998\n",
            "Epoch 14/20\n",
            "1125/1125 [==============================] - 3s 3ms/step - loss: 0.0024 - accuracy: 0.9999\n",
            "Epoch 15/20\n",
            "1125/1125 [==============================] - 3s 3ms/step - loss: 0.0018 - accuracy: 1.0000\n",
            "Epoch 16/20\n",
            "1125/1125 [==============================] - 3s 3ms/step - loss: 0.0015 - accuracy: 1.0000\n",
            "Epoch 17/20\n",
            "1125/1125 [==============================] - 3s 3ms/step - loss: 0.0013 - accuracy: 1.0000\n",
            "Epoch 18/20\n",
            "1125/1125 [==============================] - 3s 3ms/step - loss: 0.0011 - accuracy: 1.0000\n",
            "Epoch 19/20\n",
            "1125/1125 [==============================] - 3s 3ms/step - loss: 0.0010 - accuracy: 1.0000\n",
            "Epoch 20/20\n",
            "1125/1125 [==============================] - 3s 3ms/step - loss: 9.0618e-04 - accuracy: 1.0000\n",
            "563/563 [==============================] - 1s 2ms/step\n",
            "[CV] END activation_function=sigmoid, n_hidden_neurons=200, optimizer__lr=0.1; total time= 1.1min\n"
          ]
        },
        {
          "output_type": "stream",
          "name": "stderr",
          "text": [
            "/usr/local/lib/python3.7/dist-packages/keras/optimizer_v2/gradient_descent.py:102: UserWarning: The `lr` argument is deprecated, use `learning_rate` instead.\n",
            "  super(SGD, self).__init__(name, **kwargs)\n"
          ]
        },
        {
          "output_type": "stream",
          "name": "stdout",
          "text": [
            "Epoch 1/20\n",
            "1125/1125 [==============================] - 4s 3ms/step - loss: 0.3364 - accuracy: 0.8997\n",
            "Epoch 2/20\n",
            "1125/1125 [==============================] - 3s 3ms/step - loss: 0.1427 - accuracy: 0.9578\n",
            "Epoch 3/20\n",
            "1125/1125 [==============================] - 3s 3ms/step - loss: 0.0970 - accuracy: 0.9708\n",
            "Epoch 4/20\n",
            "1125/1125 [==============================] - 3s 3ms/step - loss: 0.0743 - accuracy: 0.9775\n",
            "Epoch 5/20\n",
            "1125/1125 [==============================] - 3s 3ms/step - loss: 0.0538 - accuracy: 0.9840\n",
            "Epoch 6/20\n",
            "1125/1125 [==============================] - 3s 3ms/step - loss: 0.0421 - accuracy: 0.9879\n",
            "Epoch 7/20\n",
            "1125/1125 [==============================] - 3s 3ms/step - loss: 0.0327 - accuracy: 0.9903\n",
            "Epoch 8/20\n",
            "1125/1125 [==============================] - 3s 3ms/step - loss: 0.0244 - accuracy: 0.9934\n",
            "Epoch 9/20\n",
            "1125/1125 [==============================] - 3s 3ms/step - loss: 0.0167 - accuracy: 0.9959\n",
            "Epoch 10/20\n",
            "1125/1125 [==============================] - 3s 3ms/step - loss: 0.0124 - accuracy: 0.9970\n",
            "Epoch 11/20\n",
            "1125/1125 [==============================] - 3s 3ms/step - loss: 0.0092 - accuracy: 0.9983\n",
            "Epoch 12/20\n",
            "1125/1125 [==============================] - 3s 3ms/step - loss: 0.0070 - accuracy: 0.9988\n",
            "Epoch 13/20\n",
            "1125/1125 [==============================] - 3s 3ms/step - loss: 0.0046 - accuracy: 0.9995\n",
            "Epoch 14/20\n",
            "1125/1125 [==============================] - 3s 3ms/step - loss: 0.0030 - accuracy: 0.9997\n",
            "Epoch 15/20\n",
            "1125/1125 [==============================] - 3s 3ms/step - loss: 0.0023 - accuracy: 0.9999\n",
            "Epoch 16/20\n",
            "1125/1125 [==============================] - 3s 3ms/step - loss: 0.0017 - accuracy: 1.0000\n",
            "Epoch 17/20\n",
            "1125/1125 [==============================] - 3s 3ms/step - loss: 0.0014 - accuracy: 1.0000\n",
            "Epoch 18/20\n",
            "1125/1125 [==============================] - 3s 3ms/step - loss: 0.0012 - accuracy: 1.0000\n",
            "Epoch 19/20\n",
            "1125/1125 [==============================] - 3s 3ms/step - loss: 0.0010 - accuracy: 1.0000\n",
            "Epoch 20/20\n",
            "1125/1125 [==============================] - 3s 3ms/step - loss: 9.5404e-04 - accuracy: 1.0000\n",
            "563/563 [==============================] - 1s 2ms/step\n",
            "[CV] END activation_function=sigmoid, n_hidden_neurons=200, optimizer__lr=0.1; total time= 1.1min\n"
          ]
        },
        {
          "output_type": "stream",
          "name": "stderr",
          "text": [
            "/usr/local/lib/python3.7/dist-packages/keras/optimizer_v2/gradient_descent.py:102: UserWarning: The `lr` argument is deprecated, use `learning_rate` instead.\n",
            "  super(SGD, self).__init__(name, **kwargs)\n"
          ]
        },
        {
          "output_type": "stream",
          "name": "stdout",
          "text": [
            "Epoch 1/20\n",
            "1125/1125 [==============================] - 4s 3ms/step - loss: 0.7833 - accuracy: 0.8028\n",
            "Epoch 2/20\n",
            "1125/1125 [==============================] - 3s 3ms/step - loss: 0.3446 - accuracy: 0.9033\n",
            "Epoch 3/20\n",
            "1125/1125 [==============================] - 3s 3ms/step - loss: 0.2879 - accuracy: 0.9186\n",
            "Epoch 4/20\n",
            "1125/1125 [==============================] - 3s 3ms/step - loss: 0.2525 - accuracy: 0.9289\n",
            "Epoch 5/20\n",
            "1125/1125 [==============================] - 3s 3ms/step - loss: 0.2269 - accuracy: 0.9359\n",
            "Epoch 6/20\n",
            "1125/1125 [==============================] - 3s 3ms/step - loss: 0.2057 - accuracy: 0.9418\n",
            "Epoch 7/20\n",
            "1125/1125 [==============================] - 3s 3ms/step - loss: 0.1883 - accuracy: 0.9462\n",
            "Epoch 8/20\n",
            "1125/1125 [==============================] - 3s 3ms/step - loss: 0.1726 - accuracy: 0.9514\n",
            "Epoch 9/20\n",
            "1125/1125 [==============================] - 3s 3ms/step - loss: 0.1597 - accuracy: 0.9554\n",
            "Epoch 10/20\n",
            "1125/1125 [==============================] - 3s 3ms/step - loss: 0.1481 - accuracy: 0.9585\n",
            "Epoch 11/20\n",
            "1125/1125 [==============================] - 3s 3ms/step - loss: 0.1378 - accuracy: 0.9614\n",
            "Epoch 12/20\n",
            "1125/1125 [==============================] - 3s 3ms/step - loss: 0.1288 - accuracy: 0.9643\n",
            "Epoch 13/20\n",
            "1125/1125 [==============================] - 3s 3ms/step - loss: 0.1209 - accuracy: 0.9658\n",
            "Epoch 14/20\n",
            "1125/1125 [==============================] - 3s 3ms/step - loss: 0.1135 - accuracy: 0.9686\n",
            "Epoch 15/20\n",
            "1125/1125 [==============================] - 3s 3ms/step - loss: 0.1068 - accuracy: 0.9710\n",
            "Epoch 16/20\n",
            "1125/1125 [==============================] - 3s 3ms/step - loss: 0.1006 - accuracy: 0.9719\n",
            "Epoch 17/20\n",
            "1125/1125 [==============================] - 3s 3ms/step - loss: 0.0948 - accuracy: 0.9743\n",
            "Epoch 18/20\n",
            "1125/1125 [==============================] - 3s 3ms/step - loss: 0.0893 - accuracy: 0.9763\n",
            "Epoch 19/20\n",
            "1125/1125 [==============================] - 3s 3ms/step - loss: 0.0845 - accuracy: 0.9770\n",
            "Epoch 20/20\n",
            "1125/1125 [==============================] - 3s 3ms/step - loss: 0.0803 - accuracy: 0.9782\n",
            "563/563 [==============================] - 1s 2ms/step\n",
            "[CV] END activation_function=sigmoid, n_hidden_neurons=200, optimizer__lr=0.01; total time= 1.4min\n"
          ]
        },
        {
          "output_type": "stream",
          "name": "stderr",
          "text": [
            "/usr/local/lib/python3.7/dist-packages/keras/optimizer_v2/gradient_descent.py:102: UserWarning: The `lr` argument is deprecated, use `learning_rate` instead.\n",
            "  super(SGD, self).__init__(name, **kwargs)\n"
          ]
        },
        {
          "output_type": "stream",
          "name": "stdout",
          "text": [
            "Epoch 1/20\n",
            "1125/1125 [==============================] - 4s 3ms/step - loss: 0.7862 - accuracy: 0.7973\n",
            "Epoch 2/20\n",
            "1125/1125 [==============================] - 3s 3ms/step - loss: 0.3341 - accuracy: 0.9043\n",
            "Epoch 3/20\n",
            "1125/1125 [==============================] - 3s 3ms/step - loss: 0.2792 - accuracy: 0.9193\n",
            "Epoch 4/20\n",
            "1125/1125 [==============================] - 3s 3ms/step - loss: 0.2455 - accuracy: 0.9291\n",
            "Epoch 5/20\n",
            "1125/1125 [==============================] - 3s 3ms/step - loss: 0.2202 - accuracy: 0.9374\n",
            "Epoch 6/20\n",
            "1125/1125 [==============================] - 3s 3ms/step - loss: 0.2000 - accuracy: 0.9430\n",
            "Epoch 7/20\n",
            "1125/1125 [==============================] - 3s 3ms/step - loss: 0.1824 - accuracy: 0.9476\n",
            "Epoch 8/20\n",
            "1125/1125 [==============================] - 3s 3ms/step - loss: 0.1685 - accuracy: 0.9516\n",
            "Epoch 9/20\n",
            "1125/1125 [==============================] - 3s 3ms/step - loss: 0.1557 - accuracy: 0.9557\n",
            "Epoch 10/20\n",
            "1125/1125 [==============================] - 3s 3ms/step - loss: 0.1449 - accuracy: 0.9574\n",
            "Epoch 11/20\n",
            "1125/1125 [==============================] - 3s 3ms/step - loss: 0.1352 - accuracy: 0.9611\n",
            "Epoch 12/20\n",
            "1125/1125 [==============================] - 3s 3ms/step - loss: 0.1268 - accuracy: 0.9633\n",
            "Epoch 13/20\n",
            "1125/1125 [==============================] - 3s 3ms/step - loss: 0.1181 - accuracy: 0.9659\n",
            "Epoch 14/20\n",
            "1125/1125 [==============================] - 3s 3ms/step - loss: 0.1112 - accuracy: 0.9683\n",
            "Epoch 15/20\n",
            "1125/1125 [==============================] - 3s 3ms/step - loss: 0.1050 - accuracy: 0.9702\n",
            "Epoch 16/20\n",
            "1125/1125 [==============================] - 3s 3ms/step - loss: 0.0984 - accuracy: 0.9721\n",
            "Epoch 17/20\n",
            "1125/1125 [==============================] - 3s 3ms/step - loss: 0.0933 - accuracy: 0.9729\n",
            "Epoch 18/20\n",
            "1125/1125 [==============================] - 3s 3ms/step - loss: 0.0874 - accuracy: 0.9747\n",
            "Epoch 19/20\n",
            "1125/1125 [==============================] - 3s 3ms/step - loss: 0.0828 - accuracy: 0.9762\n",
            "Epoch 20/20\n",
            "1125/1125 [==============================] - 3s 3ms/step - loss: 0.0785 - accuracy: 0.9774\n",
            "563/563 [==============================] - 1s 2ms/step\n",
            "[CV] END activation_function=sigmoid, n_hidden_neurons=200, optimizer__lr=0.01; total time= 1.2min\n"
          ]
        },
        {
          "output_type": "stream",
          "name": "stderr",
          "text": [
            "/usr/local/lib/python3.7/dist-packages/keras/optimizer_v2/gradient_descent.py:102: UserWarning: The `lr` argument is deprecated, use `learning_rate` instead.\n",
            "  super(SGD, self).__init__(name, **kwargs)\n"
          ]
        },
        {
          "output_type": "stream",
          "name": "stdout",
          "text": [
            "Epoch 1/20\n",
            "1125/1125 [==============================] - 4s 3ms/step - loss: 0.7972 - accuracy: 0.7994\n",
            "Epoch 2/20\n",
            "1125/1125 [==============================] - 3s 3ms/step - loss: 0.3381 - accuracy: 0.9043\n",
            "Epoch 3/20\n",
            "1125/1125 [==============================] - 3s 3ms/step - loss: 0.2804 - accuracy: 0.9205\n",
            "Epoch 4/20\n",
            "1125/1125 [==============================] - 3s 3ms/step - loss: 0.2461 - accuracy: 0.9302\n",
            "Epoch 5/20\n",
            "1125/1125 [==============================] - 3s 3ms/step - loss: 0.2198 - accuracy: 0.9377\n",
            "Epoch 6/20\n",
            "1125/1125 [==============================] - 3s 3ms/step - loss: 0.1995 - accuracy: 0.9424\n",
            "Epoch 7/20\n",
            "1125/1125 [==============================] - 3s 3ms/step - loss: 0.1820 - accuracy: 0.9480\n",
            "Epoch 8/20\n",
            "1125/1125 [==============================] - 3s 3ms/step - loss: 0.1678 - accuracy: 0.9523\n",
            "Epoch 9/20\n",
            "1125/1125 [==============================] - 3s 3ms/step - loss: 0.1553 - accuracy: 0.9554\n",
            "Epoch 10/20\n",
            "1125/1125 [==============================] - 3s 3ms/step - loss: 0.1441 - accuracy: 0.9589\n",
            "Epoch 11/20\n",
            "1125/1125 [==============================] - 3s 3ms/step - loss: 0.1343 - accuracy: 0.9617\n",
            "Epoch 12/20\n",
            "1125/1125 [==============================] - 3s 3ms/step - loss: 0.1257 - accuracy: 0.9641\n",
            "Epoch 13/20\n",
            "1125/1125 [==============================] - 3s 3ms/step - loss: 0.1173 - accuracy: 0.9675\n",
            "Epoch 14/20\n",
            "1125/1125 [==============================] - 3s 3ms/step - loss: 0.1106 - accuracy: 0.9692\n",
            "Epoch 15/20\n",
            "1125/1125 [==============================] - 3s 3ms/step - loss: 0.1038 - accuracy: 0.9706\n",
            "Epoch 16/20\n",
            "1125/1125 [==============================] - 3s 3ms/step - loss: 0.0978 - accuracy: 0.9726\n",
            "Epoch 17/20\n",
            "1125/1125 [==============================] - 3s 3ms/step - loss: 0.0920 - accuracy: 0.9746\n",
            "Epoch 18/20\n",
            "1125/1125 [==============================] - 3s 3ms/step - loss: 0.0869 - accuracy: 0.9762\n",
            "Epoch 19/20\n",
            "1125/1125 [==============================] - 3s 3ms/step - loss: 0.0822 - accuracy: 0.9773\n",
            "Epoch 20/20\n",
            "1125/1125 [==============================] - 3s 3ms/step - loss: 0.0774 - accuracy: 0.9789\n",
            "563/563 [==============================] - 1s 2ms/step\n",
            "[CV] END activation_function=sigmoid, n_hidden_neurons=200, optimizer__lr=0.01; total time= 1.4min\n"
          ]
        },
        {
          "output_type": "stream",
          "name": "stderr",
          "text": [
            "/usr/local/lib/python3.7/dist-packages/keras/optimizer_v2/gradient_descent.py:102: UserWarning: The `lr` argument is deprecated, use `learning_rate` instead.\n",
            "  super(SGD, self).__init__(name, **kwargs)\n"
          ]
        },
        {
          "output_type": "stream",
          "name": "stdout",
          "text": [
            "Epoch 1/20\n",
            "1125/1125 [==============================] - 4s 3ms/step - loss: 2.0700 - accuracy: 0.3901\n",
            "Epoch 2/20\n",
            "1125/1125 [==============================] - 3s 3ms/step - loss: 1.4530 - accuracy: 0.7161\n",
            "Epoch 3/20\n",
            "1125/1125 [==============================] - 3s 3ms/step - loss: 0.9509 - accuracy: 0.7981\n",
            "Epoch 4/20\n",
            "1125/1125 [==============================] - 3s 3ms/step - loss: 0.7063 - accuracy: 0.8351\n",
            "Epoch 5/20\n",
            "1125/1125 [==============================] - 3s 3ms/step - loss: 0.5855 - accuracy: 0.8538\n",
            "Epoch 6/20\n",
            "1125/1125 [==============================] - 3s 3ms/step - loss: 0.5152 - accuracy: 0.8662\n",
            "Epoch 7/20\n",
            "1125/1125 [==============================] - 3s 3ms/step - loss: 0.4692 - accuracy: 0.8752\n",
            "Epoch 8/20\n",
            "1125/1125 [==============================] - 3s 3ms/step - loss: 0.4364 - accuracy: 0.8817\n",
            "Epoch 9/20\n",
            "1125/1125 [==============================] - 3s 3ms/step - loss: 0.4118 - accuracy: 0.8878\n",
            "Epoch 10/20\n",
            "1125/1125 [==============================] - 3s 3ms/step - loss: 0.3921 - accuracy: 0.8922\n",
            "Epoch 11/20\n",
            "1125/1125 [==============================] - 3s 3ms/step - loss: 0.3762 - accuracy: 0.8964\n",
            "Epoch 12/20\n",
            "1125/1125 [==============================] - 3s 3ms/step - loss: 0.3628 - accuracy: 0.9001\n",
            "Epoch 13/20\n",
            "1125/1125 [==============================] - 3s 3ms/step - loss: 0.3514 - accuracy: 0.9025\n",
            "Epoch 14/20\n",
            "1125/1125 [==============================] - 3s 3ms/step - loss: 0.3415 - accuracy: 0.9051\n",
            "Epoch 15/20\n",
            "1125/1125 [==============================] - 3s 3ms/step - loss: 0.3326 - accuracy: 0.9076\n",
            "Epoch 16/20\n",
            "1125/1125 [==============================] - 3s 3ms/step - loss: 0.3246 - accuracy: 0.9094\n",
            "Epoch 17/20\n",
            "1125/1125 [==============================] - 3s 3ms/step - loss: 0.3174 - accuracy: 0.9113\n",
            "Epoch 18/20\n",
            "1125/1125 [==============================] - 3s 3ms/step - loss: 0.3107 - accuracy: 0.9133\n",
            "Epoch 19/20\n",
            "1125/1125 [==============================] - 3s 3ms/step - loss: 0.3044 - accuracy: 0.9146\n",
            "Epoch 20/20\n",
            "1125/1125 [==============================] - 3s 3ms/step - loss: 0.2990 - accuracy: 0.9164\n",
            "563/563 [==============================] - 1s 2ms/step\n",
            "[CV] END activation_function=sigmoid, n_hidden_neurons=200, optimizer__lr=0.001; total time= 1.4min\n"
          ]
        },
        {
          "output_type": "stream",
          "name": "stderr",
          "text": [
            "/usr/local/lib/python3.7/dist-packages/keras/optimizer_v2/gradient_descent.py:102: UserWarning: The `lr` argument is deprecated, use `learning_rate` instead.\n",
            "  super(SGD, self).__init__(name, **kwargs)\n"
          ]
        },
        {
          "output_type": "stream",
          "name": "stdout",
          "text": [
            "Epoch 1/20\n",
            "1125/1125 [==============================] - 4s 3ms/step - loss: 2.0139 - accuracy: 0.4107\n",
            "Epoch 2/20\n",
            "1125/1125 [==============================] - 3s 3ms/step - loss: 1.3448 - accuracy: 0.7252\n",
            "Epoch 3/20\n",
            "1125/1125 [==============================] - 3s 3ms/step - loss: 0.8892 - accuracy: 0.8079\n",
            "Epoch 4/20\n",
            "1125/1125 [==============================] - 3s 3ms/step - loss: 0.6754 - accuracy: 0.8407\n",
            "Epoch 5/20\n",
            "1125/1125 [==============================] - 3s 3ms/step - loss: 0.5660 - accuracy: 0.8597\n",
            "Epoch 6/20\n",
            "1125/1125 [==============================] - 3s 3ms/step - loss: 0.5007 - accuracy: 0.8712\n",
            "Epoch 7/20\n",
            "1125/1125 [==============================] - 3s 3ms/step - loss: 0.4575 - accuracy: 0.8794\n",
            "Epoch 8/20\n",
            "1125/1125 [==============================] - 3s 3ms/step - loss: 0.4267 - accuracy: 0.8849\n",
            "Epoch 9/20\n",
            "1125/1125 [==============================] - 3s 3ms/step - loss: 0.4035 - accuracy: 0.8895\n",
            "Epoch 10/20\n",
            "1125/1125 [==============================] - 3s 3ms/step - loss: 0.3853 - accuracy: 0.8939\n",
            "Epoch 11/20\n",
            "1125/1125 [==============================] - 3s 3ms/step - loss: 0.3705 - accuracy: 0.8970\n",
            "Epoch 12/20\n",
            "1125/1125 [==============================] - 3s 3ms/step - loss: 0.3580 - accuracy: 0.8999\n",
            "Epoch 13/20\n",
            "1125/1125 [==============================] - 3s 3ms/step - loss: 0.3471 - accuracy: 0.9022\n",
            "Epoch 14/20\n",
            "1125/1125 [==============================] - 3s 3ms/step - loss: 0.3379 - accuracy: 0.9042\n",
            "Epoch 15/20\n",
            "1125/1125 [==============================] - 3s 3ms/step - loss: 0.3296 - accuracy: 0.9061\n",
            "Epoch 16/20\n",
            "1125/1125 [==============================] - 3s 3ms/step - loss: 0.3219 - accuracy: 0.9083\n",
            "Epoch 17/20\n",
            "1125/1125 [==============================] - 3s 3ms/step - loss: 0.3152 - accuracy: 0.9102\n",
            "Epoch 18/20\n",
            "1125/1125 [==============================] - 3s 3ms/step - loss: 0.3089 - accuracy: 0.9118\n",
            "Epoch 19/20\n",
            "1125/1125 [==============================] - 3s 3ms/step - loss: 0.3029 - accuracy: 0.9135\n",
            "Epoch 20/20\n",
            "1125/1125 [==============================] - 3s 3ms/step - loss: 0.2977 - accuracy: 0.9149\n",
            "563/563 [==============================] - 1s 2ms/step\n",
            "[CV] END activation_function=sigmoid, n_hidden_neurons=200, optimizer__lr=0.001; total time= 1.4min\n"
          ]
        },
        {
          "output_type": "stream",
          "name": "stderr",
          "text": [
            "/usr/local/lib/python3.7/dist-packages/keras/optimizer_v2/gradient_descent.py:102: UserWarning: The `lr` argument is deprecated, use `learning_rate` instead.\n",
            "  super(SGD, self).__init__(name, **kwargs)\n"
          ]
        },
        {
          "output_type": "stream",
          "name": "stdout",
          "text": [
            "Epoch 1/20\n",
            "1125/1125 [==============================] - 4s 3ms/step - loss: 1.9977 - accuracy: 0.4423\n",
            "Epoch 2/20\n",
            "1125/1125 [==============================] - 3s 3ms/step - loss: 1.3232 - accuracy: 0.7560\n",
            "Epoch 3/20\n",
            "1125/1125 [==============================] - 3s 3ms/step - loss: 0.8754 - accuracy: 0.8229\n",
            "Epoch 4/20\n",
            "1125/1125 [==============================] - 3s 3ms/step - loss: 0.6668 - accuracy: 0.8513\n",
            "Epoch 5/20\n",
            "1125/1125 [==============================] - 3s 3ms/step - loss: 0.5598 - accuracy: 0.8666\n",
            "Epoch 6/20\n",
            "1125/1125 [==============================] - 3s 3ms/step - loss: 0.4957 - accuracy: 0.8771\n",
            "Epoch 7/20\n",
            "1125/1125 [==============================] - 3s 3ms/step - loss: 0.4530 - accuracy: 0.8847\n",
            "Epoch 8/20\n",
            "1125/1125 [==============================] - 3s 3ms/step - loss: 0.4220 - accuracy: 0.8904\n",
            "Epoch 9/20\n",
            "1125/1125 [==============================] - 3s 3ms/step - loss: 0.3987 - accuracy: 0.8954\n",
            "Epoch 10/20\n",
            "1125/1125 [==============================] - 3s 3ms/step - loss: 0.3800 - accuracy: 0.8984\n",
            "Epoch 11/20\n",
            "1125/1125 [==============================] - 3s 3ms/step - loss: 0.3650 - accuracy: 0.9023\n",
            "Epoch 12/20\n",
            "1125/1125 [==============================] - 3s 3ms/step - loss: 0.3523 - accuracy: 0.9050\n",
            "Epoch 13/20\n",
            "1125/1125 [==============================] - 3s 3ms/step - loss: 0.3415 - accuracy: 0.9073\n",
            "Epoch 14/20\n",
            "1125/1125 [==============================] - 3s 3ms/step - loss: 0.3320 - accuracy: 0.9095\n",
            "Epoch 15/20\n",
            "1125/1125 [==============================] - 3s 3ms/step - loss: 0.3235 - accuracy: 0.9113\n",
            "Epoch 16/20\n",
            "1125/1125 [==============================] - 3s 3ms/step - loss: 0.3159 - accuracy: 0.9138\n",
            "Epoch 17/20\n",
            "1125/1125 [==============================] - 3s 3ms/step - loss: 0.3091 - accuracy: 0.9152\n",
            "Epoch 18/20\n",
            "1125/1125 [==============================] - 3s 3ms/step - loss: 0.3027 - accuracy: 0.9164\n",
            "Epoch 19/20\n",
            "1125/1125 [==============================] - 3s 3ms/step - loss: 0.2969 - accuracy: 0.9179\n",
            "Epoch 20/20\n",
            "1125/1125 [==============================] - 3s 3ms/step - loss: 0.2914 - accuracy: 0.9193\n",
            "563/563 [==============================] - 1s 2ms/step\n",
            "[CV] END activation_function=sigmoid, n_hidden_neurons=200, optimizer__lr=0.001; total time= 1.1min\n"
          ]
        },
        {
          "output_type": "stream",
          "name": "stderr",
          "text": [
            "/usr/local/lib/python3.7/dist-packages/keras/optimizer_v2/gradient_descent.py:102: UserWarning: The `lr` argument is deprecated, use `learning_rate` instead.\n",
            "  super(SGD, self).__init__(name, **kwargs)\n"
          ]
        },
        {
          "output_type": "stream",
          "name": "stdout",
          "text": [
            "Epoch 1/20\n",
            "1125/1125 [==============================] - 4s 3ms/step - loss: 0.3512 - accuracy: 0.8954\n",
            "Epoch 2/20\n",
            "1125/1125 [==============================] - 3s 3ms/step - loss: 0.1537 - accuracy: 0.9544\n",
            "Epoch 3/20\n",
            "1125/1125 [==============================] - 3s 3ms/step - loss: 0.1085 - accuracy: 0.9683\n",
            "Epoch 4/20\n",
            "1125/1125 [==============================] - 3s 3ms/step - loss: 0.0810 - accuracy: 0.9765\n",
            "Epoch 5/20\n",
            "1125/1125 [==============================] - 3s 3ms/step - loss: 0.0646 - accuracy: 0.9802\n",
            "Epoch 6/20\n",
            "1125/1125 [==============================] - 3s 3ms/step - loss: 0.0516 - accuracy: 0.9840\n",
            "Epoch 7/20\n",
            "1125/1125 [==============================] - 3s 3ms/step - loss: 0.0413 - accuracy: 0.9879\n",
            "Epoch 8/20\n",
            "1125/1125 [==============================] - 3s 3ms/step - loss: 0.0338 - accuracy: 0.9896\n",
            "Epoch 9/20\n",
            "1125/1125 [==============================] - 3s 3ms/step - loss: 0.0270 - accuracy: 0.9914\n",
            "Epoch 10/20\n",
            "1125/1125 [==============================] - 3s 3ms/step - loss: 0.0207 - accuracy: 0.9946\n",
            "Epoch 11/20\n",
            "1125/1125 [==============================] - 3s 3ms/step - loss: 0.0166 - accuracy: 0.9956\n",
            "Epoch 12/20\n",
            "1125/1125 [==============================] - 3s 3ms/step - loss: 0.0126 - accuracy: 0.9967\n",
            "Epoch 13/20\n",
            "1125/1125 [==============================] - 3s 3ms/step - loss: 0.0099 - accuracy: 0.9977\n",
            "Epoch 14/20\n",
            "1125/1125 [==============================] - 3s 3ms/step - loss: 0.0062 - accuracy: 0.9989\n",
            "Epoch 15/20\n",
            "1125/1125 [==============================] - 3s 3ms/step - loss: 0.0045 - accuracy: 0.9994\n",
            "Epoch 16/20\n",
            "1125/1125 [==============================] - 3s 3ms/step - loss: 0.0029 - accuracy: 0.9998\n",
            "Epoch 17/20\n",
            "1125/1125 [==============================] - 3s 3ms/step - loss: 0.0022 - accuracy: 0.9998\n",
            "Epoch 18/20\n",
            "1125/1125 [==============================] - 3s 3ms/step - loss: 0.0018 - accuracy: 0.9999\n",
            "Epoch 19/20\n",
            "1125/1125 [==============================] - 3s 3ms/step - loss: 0.0015 - accuracy: 0.9999\n",
            "Epoch 20/20\n",
            "1125/1125 [==============================] - 3s 3ms/step - loss: 0.0013 - accuracy: 1.0000\n",
            "563/563 [==============================] - 1s 2ms/step\n",
            "[CV] END activation_function=tanh, n_hidden_neurons=100, optimizer__lr=0.1; total time= 1.4min\n"
          ]
        },
        {
          "output_type": "stream",
          "name": "stderr",
          "text": [
            "/usr/local/lib/python3.7/dist-packages/keras/optimizer_v2/gradient_descent.py:102: UserWarning: The `lr` argument is deprecated, use `learning_rate` instead.\n",
            "  super(SGD, self).__init__(name, **kwargs)\n"
          ]
        },
        {
          "output_type": "stream",
          "name": "stdout",
          "text": [
            "Epoch 1/20\n",
            "1125/1125 [==============================] - 4s 3ms/step - loss: 0.3536 - accuracy: 0.8934\n",
            "Epoch 2/20\n",
            "1125/1125 [==============================] - 3s 3ms/step - loss: 0.1556 - accuracy: 0.9528\n",
            "Epoch 3/20\n",
            "1125/1125 [==============================] - 3s 3ms/step - loss: 0.1108 - accuracy: 0.9649\n",
            "Epoch 4/20\n",
            "1125/1125 [==============================] - 3s 3ms/step - loss: 0.0864 - accuracy: 0.9734\n",
            "Epoch 5/20\n",
            "1125/1125 [==============================] - 3s 3ms/step - loss: 0.0676 - accuracy: 0.9790\n",
            "Epoch 6/20\n",
            "1125/1125 [==============================] - 3s 3ms/step - loss: 0.0561 - accuracy: 0.9818\n",
            "Epoch 7/20\n",
            "1125/1125 [==============================] - 3s 3ms/step - loss: 0.0449 - accuracy: 0.9859\n",
            "Epoch 8/20\n",
            "1125/1125 [==============================] - 3s 3ms/step - loss: 0.0355 - accuracy: 0.9890\n",
            "Epoch 9/20\n",
            "1125/1125 [==============================] - 3s 3ms/step - loss: 0.0282 - accuracy: 0.9908\n",
            "Epoch 10/20\n",
            "1125/1125 [==============================] - 3s 3ms/step - loss: 0.0236 - accuracy: 0.9924\n",
            "Epoch 11/20\n",
            "1125/1125 [==============================] - 3s 3ms/step - loss: 0.0190 - accuracy: 0.9944\n",
            "Epoch 12/20\n",
            "1125/1125 [==============================] - 3s 3ms/step - loss: 0.0149 - accuracy: 0.9960\n",
            "Epoch 13/20\n",
            "1125/1125 [==============================] - 4s 3ms/step - loss: 0.0093 - accuracy: 0.9979\n",
            "Epoch 14/20\n",
            "1125/1125 [==============================] - 3s 3ms/step - loss: 0.0067 - accuracy: 0.9988\n",
            "Epoch 15/20\n",
            "1125/1125 [==============================] - 3s 3ms/step - loss: 0.0063 - accuracy: 0.9991\n",
            "Epoch 16/20\n",
            "1125/1125 [==============================] - 3s 3ms/step - loss: 0.0038 - accuracy: 0.9996\n",
            "Epoch 17/20\n",
            "1125/1125 [==============================] - 3s 3ms/step - loss: 0.0024 - accuracy: 0.9999\n",
            "Epoch 18/20\n",
            "1125/1125 [==============================] - 3s 3ms/step - loss: 0.0017 - accuracy: 0.9999\n",
            "Epoch 19/20\n",
            "1125/1125 [==============================] - 4s 3ms/step - loss: 0.0016 - accuracy: 0.9999\n",
            "Epoch 20/20\n",
            "1125/1125 [==============================] - 4s 3ms/step - loss: 0.0013 - accuracy: 1.0000\n",
            "563/563 [==============================] - 1s 2ms/step\n",
            "[CV] END activation_function=tanh, n_hidden_neurons=100, optimizer__lr=0.1; total time= 1.4min\n"
          ]
        },
        {
          "output_type": "stream",
          "name": "stderr",
          "text": [
            "/usr/local/lib/python3.7/dist-packages/keras/optimizer_v2/gradient_descent.py:102: UserWarning: The `lr` argument is deprecated, use `learning_rate` instead.\n",
            "  super(SGD, self).__init__(name, **kwargs)\n"
          ]
        },
        {
          "output_type": "stream",
          "name": "stdout",
          "text": [
            "Epoch 1/20\n",
            "1125/1125 [==============================] - 4s 3ms/step - loss: 0.3617 - accuracy: 0.8921\n",
            "Epoch 2/20\n",
            "1125/1125 [==============================] - 3s 3ms/step - loss: 0.1566 - accuracy: 0.9523\n",
            "Epoch 3/20\n",
            "1125/1125 [==============================] - 3s 3ms/step - loss: 0.1114 - accuracy: 0.9664\n",
            "Epoch 4/20\n",
            "1125/1125 [==============================] - 3s 3ms/step - loss: 0.0882 - accuracy: 0.9737\n",
            "Epoch 5/20\n",
            "1125/1125 [==============================] - 3s 3ms/step - loss: 0.0673 - accuracy: 0.9795\n",
            "Epoch 6/20\n",
            "1125/1125 [==============================] - 3s 3ms/step - loss: 0.0557 - accuracy: 0.9828\n",
            "Epoch 7/20\n",
            "1125/1125 [==============================] - 3s 3ms/step - loss: 0.0458 - accuracy: 0.9858\n",
            "Epoch 8/20\n",
            "1125/1125 [==============================] - 3s 3ms/step - loss: 0.0351 - accuracy: 0.9895\n",
            "Epoch 9/20\n",
            "1125/1125 [==============================] - 3s 3ms/step - loss: 0.0299 - accuracy: 0.9908\n",
            "Epoch 10/20\n",
            "1125/1125 [==============================] - 3s 3ms/step - loss: 0.0231 - accuracy: 0.9933\n",
            "Epoch 11/20\n",
            "1125/1125 [==============================] - 3s 3ms/step - loss: 0.0174 - accuracy: 0.9954\n",
            "Epoch 12/20\n",
            "1125/1125 [==============================] - 3s 3ms/step - loss: 0.0161 - accuracy: 0.9955\n",
            "Epoch 13/20\n",
            "1125/1125 [==============================] - 3s 3ms/step - loss: 0.0114 - accuracy: 0.9973\n",
            "Epoch 14/20\n",
            "1125/1125 [==============================] - 3s 3ms/step - loss: 0.0092 - accuracy: 0.9979\n",
            "Epoch 15/20\n",
            "1125/1125 [==============================] - 3s 3ms/step - loss: 0.0059 - accuracy: 0.9991\n",
            "Epoch 16/20\n",
            "1125/1125 [==============================] - 3s 3ms/step - loss: 0.0037 - accuracy: 0.9996\n",
            "Epoch 17/20\n",
            "1125/1125 [==============================] - 3s 3ms/step - loss: 0.0029 - accuracy: 0.9997\n",
            "Epoch 18/20\n",
            "1125/1125 [==============================] - 3s 3ms/step - loss: 0.0019 - accuracy: 0.9999\n",
            "Epoch 19/20\n",
            "1125/1125 [==============================] - 3s 3ms/step - loss: 0.0014 - accuracy: 1.0000\n",
            "Epoch 20/20\n",
            "1125/1125 [==============================] - 3s 3ms/step - loss: 0.0012 - accuracy: 1.0000\n",
            "563/563 [==============================] - 1s 2ms/step\n",
            "[CV] END activation_function=tanh, n_hidden_neurons=100, optimizer__lr=0.1; total time= 1.4min\n"
          ]
        },
        {
          "output_type": "stream",
          "name": "stderr",
          "text": [
            "/usr/local/lib/python3.7/dist-packages/keras/optimizer_v2/gradient_descent.py:102: UserWarning: The `lr` argument is deprecated, use `learning_rate` instead.\n",
            "  super(SGD, self).__init__(name, **kwargs)\n"
          ]
        },
        {
          "output_type": "stream",
          "name": "stdout",
          "text": [
            "Epoch 1/20\n",
            "1125/1125 [==============================] - 4s 3ms/step - loss: 0.8407 - accuracy: 0.7860\n",
            "Epoch 2/20\n",
            "1125/1125 [==============================] - 3s 3ms/step - loss: 0.3567 - accuracy: 0.8998\n",
            "Epoch 3/20\n",
            "1125/1125 [==============================] - 3s 3ms/step - loss: 0.3010 - accuracy: 0.9145\n",
            "Epoch 4/20\n",
            "1125/1125 [==============================] - 3s 3ms/step - loss: 0.2674 - accuracy: 0.9242\n",
            "Epoch 5/20\n",
            "1125/1125 [==============================] - 3s 3ms/step - loss: 0.2429 - accuracy: 0.9323\n",
            "Epoch 6/20\n",
            "1125/1125 [==============================] - 3s 3ms/step - loss: 0.2219 - accuracy: 0.9373\n",
            "Epoch 7/20\n",
            "1125/1125 [==============================] - 3s 3ms/step - loss: 0.2044 - accuracy: 0.9425\n",
            "Epoch 8/20\n",
            "1125/1125 [==============================] - 3s 3ms/step - loss: 0.1887 - accuracy: 0.9473\n",
            "Epoch 9/20\n",
            "1125/1125 [==============================] - 3s 3ms/step - loss: 0.1761 - accuracy: 0.9509\n",
            "Epoch 10/20\n",
            "1125/1125 [==============================] - 3s 3ms/step - loss: 0.1641 - accuracy: 0.9541\n",
            "Epoch 11/20\n",
            "1125/1125 [==============================] - 3s 3ms/step - loss: 0.1536 - accuracy: 0.9569\n",
            "Epoch 12/20\n",
            "1125/1125 [==============================] - 3s 3ms/step - loss: 0.1441 - accuracy: 0.9599\n",
            "Epoch 13/20\n",
            "1125/1125 [==============================] - 3s 3ms/step - loss: 0.1356 - accuracy: 0.9617\n",
            "Epoch 14/20\n",
            "1125/1125 [==============================] - 3s 3ms/step - loss: 0.1279 - accuracy: 0.9640\n",
            "Epoch 15/20\n",
            "1125/1125 [==============================] - 3s 3ms/step - loss: 0.1211 - accuracy: 0.9663\n",
            "Epoch 16/20\n",
            "1125/1125 [==============================] - 3s 3ms/step - loss: 0.1144 - accuracy: 0.9682\n",
            "Epoch 17/20\n",
            "1125/1125 [==============================] - 3s 3ms/step - loss: 0.1083 - accuracy: 0.9703\n",
            "Epoch 18/20\n",
            "1125/1125 [==============================] - 3s 3ms/step - loss: 0.1023 - accuracy: 0.9716\n",
            "Epoch 19/20\n",
            "1125/1125 [==============================] - 3s 3ms/step - loss: 0.0974 - accuracy: 0.9728\n",
            "Epoch 20/20\n",
            "1125/1125 [==============================] - 3s 3ms/step - loss: 0.0933 - accuracy: 0.9737\n",
            "563/563 [==============================] - 1s 2ms/step\n",
            "[CV] END activation_function=tanh, n_hidden_neurons=100, optimizer__lr=0.01; total time= 1.1min\n"
          ]
        },
        {
          "output_type": "stream",
          "name": "stderr",
          "text": [
            "/usr/local/lib/python3.7/dist-packages/keras/optimizer_v2/gradient_descent.py:102: UserWarning: The `lr` argument is deprecated, use `learning_rate` instead.\n",
            "  super(SGD, self).__init__(name, **kwargs)\n"
          ]
        },
        {
          "output_type": "stream",
          "name": "stdout",
          "text": [
            "Epoch 1/20\n",
            "1125/1125 [==============================] - 4s 3ms/step - loss: 0.7941 - accuracy: 0.7992\n",
            "Epoch 2/20\n",
            "1125/1125 [==============================] - 3s 3ms/step - loss: 0.3435 - accuracy: 0.9020\n",
            "Epoch 3/20\n",
            "1125/1125 [==============================] - 3s 3ms/step - loss: 0.2883 - accuracy: 0.9164\n",
            "Epoch 4/20\n",
            "1125/1125 [==============================] - 3s 3ms/step - loss: 0.2550 - accuracy: 0.9264\n",
            "Epoch 5/20\n",
            "1125/1125 [==============================] - 3s 3ms/step - loss: 0.2296 - accuracy: 0.9347\n",
            "Epoch 6/20\n",
            "1125/1125 [==============================] - 3s 3ms/step - loss: 0.2093 - accuracy: 0.9392\n",
            "Epoch 7/20\n",
            "1125/1125 [==============================] - 3s 3ms/step - loss: 0.1912 - accuracy: 0.9449\n",
            "Epoch 8/20\n",
            "1125/1125 [==============================] - 3s 3ms/step - loss: 0.1772 - accuracy: 0.9490\n",
            "Epoch 9/20\n",
            "1125/1125 [==============================] - 3s 3ms/step - loss: 0.1644 - accuracy: 0.9530\n",
            "Epoch 10/20\n",
            "1125/1125 [==============================] - 3s 3ms/step - loss: 0.1535 - accuracy: 0.9556\n",
            "Epoch 11/20\n",
            "1125/1125 [==============================] - 3s 3ms/step - loss: 0.1441 - accuracy: 0.9588\n",
            "Epoch 12/20\n",
            "1125/1125 [==============================] - 3s 3ms/step - loss: 0.1357 - accuracy: 0.9614\n",
            "Epoch 13/20\n",
            "1125/1125 [==============================] - 4s 3ms/step - loss: 0.1271 - accuracy: 0.9628\n",
            "Epoch 14/20\n",
            "1125/1125 [==============================] - 3s 3ms/step - loss: 0.1206 - accuracy: 0.9657\n",
            "Epoch 15/20\n",
            "1125/1125 [==============================] - 3s 3ms/step - loss: 0.1145 - accuracy: 0.9671\n",
            "Epoch 16/20\n",
            "1125/1125 [==============================] - 3s 3ms/step - loss: 0.1086 - accuracy: 0.9684\n",
            "Epoch 17/20\n",
            "1125/1125 [==============================] - 3s 3ms/step - loss: 0.1035 - accuracy: 0.9706\n",
            "Epoch 18/20\n",
            "1125/1125 [==============================] - 3s 3ms/step - loss: 0.0977 - accuracy: 0.9716\n",
            "Epoch 19/20\n",
            "1125/1125 [==============================] - 3s 3ms/step - loss: 0.0931 - accuracy: 0.9734\n",
            "Epoch 20/20\n",
            "1125/1125 [==============================] - 3s 3ms/step - loss: 0.0887 - accuracy: 0.9746\n",
            "563/563 [==============================] - 1s 2ms/step\n",
            "[CV] END activation_function=tanh, n_hidden_neurons=100, optimizer__lr=0.01; total time= 1.2min\n"
          ]
        },
        {
          "output_type": "stream",
          "name": "stderr",
          "text": [
            "/usr/local/lib/python3.7/dist-packages/keras/optimizer_v2/gradient_descent.py:102: UserWarning: The `lr` argument is deprecated, use `learning_rate` instead.\n",
            "  super(SGD, self).__init__(name, **kwargs)\n"
          ]
        },
        {
          "output_type": "stream",
          "name": "stdout",
          "text": [
            "Epoch 1/20\n",
            "1125/1125 [==============================] - 4s 3ms/step - loss: 0.8660 - accuracy: 0.7663\n",
            "Epoch 2/20\n",
            "1125/1125 [==============================] - 3s 3ms/step - loss: 0.3658 - accuracy: 0.8969\n",
            "Epoch 3/20\n",
            "1125/1125 [==============================] - 4s 3ms/step - loss: 0.3044 - accuracy: 0.9139\n",
            "Epoch 4/20\n",
            "1125/1125 [==============================] - 4s 3ms/step - loss: 0.2702 - accuracy: 0.9234\n",
            "Epoch 5/20\n",
            "1125/1125 [==============================] - 3s 3ms/step - loss: 0.2445 - accuracy: 0.9302\n",
            "Epoch 6/20\n",
            "1125/1125 [==============================] - 3s 3ms/step - loss: 0.2241 - accuracy: 0.9356\n",
            "Epoch 7/20\n",
            "1125/1125 [==============================] - 3s 3ms/step - loss: 0.2061 - accuracy: 0.9404\n",
            "Epoch 8/20\n",
            "1125/1125 [==============================] - 3s 3ms/step - loss: 0.1915 - accuracy: 0.9453\n",
            "Epoch 9/20\n",
            "1125/1125 [==============================] - 3s 3ms/step - loss: 0.1784 - accuracy: 0.9489\n",
            "Epoch 10/20\n",
            "1125/1125 [==============================] - 3s 3ms/step - loss: 0.1664 - accuracy: 0.9531\n",
            "Epoch 11/20\n",
            "1125/1125 [==============================] - 4s 3ms/step - loss: 0.1563 - accuracy: 0.9556\n",
            "Epoch 12/20\n",
            "1125/1125 [==============================] - 3s 3ms/step - loss: 0.1471 - accuracy: 0.9580\n",
            "Epoch 13/20\n",
            "1125/1125 [==============================] - 3s 3ms/step - loss: 0.1380 - accuracy: 0.9611\n",
            "Epoch 14/20\n",
            "1125/1125 [==============================] - 3s 3ms/step - loss: 0.1309 - accuracy: 0.9635\n",
            "Epoch 15/20\n",
            "1125/1125 [==============================] - 3s 3ms/step - loss: 0.1239 - accuracy: 0.9654\n",
            "Epoch 16/20\n",
            "1125/1125 [==============================] - 3s 3ms/step - loss: 0.1174 - accuracy: 0.9670\n",
            "Epoch 17/20\n",
            "1125/1125 [==============================] - 3s 3ms/step - loss: 0.1112 - accuracy: 0.9691\n",
            "Epoch 18/20\n",
            "1125/1125 [==============================] - 3s 3ms/step - loss: 0.1055 - accuracy: 0.9708\n",
            "Epoch 19/20\n",
            "1125/1125 [==============================] - 3s 3ms/step - loss: 0.1006 - accuracy: 0.9723\n",
            "Epoch 20/20\n",
            "1125/1125 [==============================] - 4s 4ms/step - loss: 0.0958 - accuracy: 0.9734\n",
            "563/563 [==============================] - 1s 2ms/step\n",
            "[CV] END activation_function=tanh, n_hidden_neurons=100, optimizer__lr=0.01; total time= 1.2min\n"
          ]
        },
        {
          "output_type": "stream",
          "name": "stderr",
          "text": [
            "/usr/local/lib/python3.7/dist-packages/keras/optimizer_v2/gradient_descent.py:102: UserWarning: The `lr` argument is deprecated, use `learning_rate` instead.\n",
            "  super(SGD, self).__init__(name, **kwargs)\n"
          ]
        },
        {
          "output_type": "stream",
          "name": "stdout",
          "text": [
            "Epoch 1/20\n",
            "1125/1125 [==============================] - 4s 3ms/step - loss: 2.1536 - accuracy: 0.3133\n",
            "Epoch 2/20\n",
            "1125/1125 [==============================] - 4s 3ms/step - loss: 1.6612 - accuracy: 0.6090\n",
            "Epoch 3/20\n",
            "1125/1125 [==============================] - 4s 3ms/step - loss: 1.1511 - accuracy: 0.7270\n",
            "Epoch 4/20\n",
            "1125/1125 [==============================] - 4s 3ms/step - loss: 0.8537 - accuracy: 0.7877\n",
            "Epoch 5/20\n",
            "1125/1125 [==============================] - 3s 3ms/step - loss: 0.6926 - accuracy: 0.8269\n",
            "Epoch 6/20\n",
            "1125/1125 [==============================] - 3s 3ms/step - loss: 0.5947 - accuracy: 0.8487\n",
            "Epoch 7/20\n",
            "1125/1125 [==============================] - 3s 3ms/step - loss: 0.5305 - accuracy: 0.8631\n",
            "Epoch 8/20\n",
            "1125/1125 [==============================] - 3s 3ms/step - loss: 0.4856 - accuracy: 0.8732\n",
            "Epoch 9/20\n",
            "1125/1125 [==============================] - 3s 3ms/step - loss: 0.4531 - accuracy: 0.8792\n",
            "Epoch 10/20\n",
            "1125/1125 [==============================] - 3s 3ms/step - loss: 0.4281 - accuracy: 0.8845\n",
            "Epoch 11/20\n",
            "1125/1125 [==============================] - 3s 3ms/step - loss: 0.4086 - accuracy: 0.8890\n",
            "Epoch 12/20\n",
            "1125/1125 [==============================] - 3s 3ms/step - loss: 0.3927 - accuracy: 0.8920\n",
            "Epoch 13/20\n",
            "1125/1125 [==============================] - 3s 3ms/step - loss: 0.3795 - accuracy: 0.8955\n",
            "Epoch 14/20\n",
            "1125/1125 [==============================] - 3s 3ms/step - loss: 0.3682 - accuracy: 0.8973\n",
            "Epoch 15/20\n",
            "1125/1125 [==============================] - 3s 3ms/step - loss: 0.3584 - accuracy: 0.8992\n",
            "Epoch 16/20\n",
            "1125/1125 [==============================] - 3s 3ms/step - loss: 0.3495 - accuracy: 0.9019\n",
            "Epoch 17/20\n",
            "1125/1125 [==============================] - 3s 3ms/step - loss: 0.3416 - accuracy: 0.9037\n",
            "Epoch 18/20\n",
            "1125/1125 [==============================] - 3s 3ms/step - loss: 0.3343 - accuracy: 0.9053\n",
            "Epoch 19/20\n",
            "1125/1125 [==============================] - 3s 3ms/step - loss: 0.3277 - accuracy: 0.9071\n",
            "Epoch 20/20\n",
            "1125/1125 [==============================] - 3s 3ms/step - loss: 0.3217 - accuracy: 0.9084\n",
            "563/563 [==============================] - 1s 2ms/step\n",
            "[CV] END activation_function=tanh, n_hidden_neurons=100, optimizer__lr=0.001; total time= 1.2min\n"
          ]
        },
        {
          "output_type": "stream",
          "name": "stderr",
          "text": [
            "/usr/local/lib/python3.7/dist-packages/keras/optimizer_v2/gradient_descent.py:102: UserWarning: The `lr` argument is deprecated, use `learning_rate` instead.\n",
            "  super(SGD, self).__init__(name, **kwargs)\n"
          ]
        },
        {
          "output_type": "stream",
          "name": "stdout",
          "text": [
            "Epoch 1/20\n",
            "1125/1125 [==============================] - 4s 3ms/step - loss: 2.0351 - accuracy: 0.3598\n",
            "Epoch 2/20\n",
            "1125/1125 [==============================] - 3s 3ms/step - loss: 1.4311 - accuracy: 0.7038\n",
            "Epoch 3/20\n",
            "1125/1125 [==============================] - 3s 3ms/step - loss: 0.9461 - accuracy: 0.7988\n",
            "Epoch 4/20\n",
            "1125/1125 [==============================] - 3s 3ms/step - loss: 0.7090 - accuracy: 0.8331\n",
            "Epoch 5/20\n",
            "1125/1125 [==============================] - 3s 3ms/step - loss: 0.5908 - accuracy: 0.8511\n",
            "Epoch 6/20\n",
            "1125/1125 [==============================] - 3s 3ms/step - loss: 0.5211 - accuracy: 0.8645\n",
            "Epoch 7/20\n",
            "1125/1125 [==============================] - 3s 3ms/step - loss: 0.4749 - accuracy: 0.8731\n",
            "Epoch 8/20\n",
            "1125/1125 [==============================] - 3s 3ms/step - loss: 0.4418 - accuracy: 0.8807\n",
            "Epoch 9/20\n",
            "1125/1125 [==============================] - 3s 3ms/step - loss: 0.4169 - accuracy: 0.8859\n",
            "Epoch 10/20\n",
            "1125/1125 [==============================] - 3s 3ms/step - loss: 0.3973 - accuracy: 0.8894\n",
            "Epoch 11/20\n",
            "1125/1125 [==============================] - 3s 3ms/step - loss: 0.3813 - accuracy: 0.8928\n",
            "Epoch 12/20\n",
            "1125/1125 [==============================] - 3s 3ms/step - loss: 0.3680 - accuracy: 0.8963\n",
            "Epoch 13/20\n",
            "1125/1125 [==============================] - 3s 3ms/step - loss: 0.3565 - accuracy: 0.8990\n",
            "Epoch 14/20\n",
            "1125/1125 [==============================] - 3s 3ms/step - loss: 0.3467 - accuracy: 0.9012\n",
            "Epoch 15/20\n",
            "1125/1125 [==============================] - 3s 3ms/step - loss: 0.3381 - accuracy: 0.9036\n",
            "Epoch 16/20\n",
            "1125/1125 [==============================] - 3s 3ms/step - loss: 0.3300 - accuracy: 0.9055\n",
            "Epoch 17/20\n",
            "1125/1125 [==============================] - 3s 3ms/step - loss: 0.3230 - accuracy: 0.9064\n",
            "Epoch 18/20\n",
            "1125/1125 [==============================] - 3s 3ms/step - loss: 0.3165 - accuracy: 0.9085\n",
            "Epoch 19/20\n",
            "1125/1125 [==============================] - 3s 3ms/step - loss: 0.3103 - accuracy: 0.9101\n",
            "Epoch 20/20\n",
            "1125/1125 [==============================] - 3s 3ms/step - loss: 0.3049 - accuracy: 0.9109\n",
            "563/563 [==============================] - 1s 2ms/step\n",
            "[CV] END activation_function=tanh, n_hidden_neurons=100, optimizer__lr=0.001; total time= 1.2min\n"
          ]
        },
        {
          "output_type": "stream",
          "name": "stderr",
          "text": [
            "/usr/local/lib/python3.7/dist-packages/keras/optimizer_v2/gradient_descent.py:102: UserWarning: The `lr` argument is deprecated, use `learning_rate` instead.\n",
            "  super(SGD, self).__init__(name, **kwargs)\n"
          ]
        },
        {
          "output_type": "stream",
          "name": "stdout",
          "text": [
            "Epoch 1/20\n",
            "1125/1125 [==============================] - 4s 3ms/step - loss: 2.0657 - accuracy: 0.3432\n",
            "Epoch 2/20\n",
            "1125/1125 [==============================] - 3s 3ms/step - loss: 1.4962 - accuracy: 0.6765\n",
            "Epoch 3/20\n",
            "1125/1125 [==============================] - 3s 3ms/step - loss: 1.0052 - accuracy: 0.7897\n",
            "Epoch 4/20\n",
            "1125/1125 [==============================] - 3s 3ms/step - loss: 0.7398 - accuracy: 0.8313\n",
            "Epoch 5/20\n",
            "1125/1125 [==============================] - 3s 3ms/step - loss: 0.6072 - accuracy: 0.8520\n",
            "Epoch 6/20\n",
            "1125/1125 [==============================] - 3s 3ms/step - loss: 0.5321 - accuracy: 0.8631\n",
            "Epoch 7/20\n",
            "1125/1125 [==============================] - 3s 3ms/step - loss: 0.4841 - accuracy: 0.8728\n",
            "Epoch 8/20\n",
            "1125/1125 [==============================] - 3s 3ms/step - loss: 0.4504 - accuracy: 0.8794\n",
            "Epoch 9/20\n",
            "1125/1125 [==============================] - 3s 3ms/step - loss: 0.4254 - accuracy: 0.8857\n",
            "Epoch 10/20\n",
            "1125/1125 [==============================] - 3s 3ms/step - loss: 0.4057 - accuracy: 0.8898\n",
            "Epoch 11/20\n",
            "1125/1125 [==============================] - 3s 3ms/step - loss: 0.3898 - accuracy: 0.8936\n",
            "Epoch 12/20\n",
            "1125/1125 [==============================] - 3s 3ms/step - loss: 0.3766 - accuracy: 0.8954\n",
            "Epoch 13/20\n",
            "1125/1125 [==============================] - 3s 3ms/step - loss: 0.3654 - accuracy: 0.8987\n",
            "Epoch 14/20\n",
            "1125/1125 [==============================] - 4s 3ms/step - loss: 0.3558 - accuracy: 0.9006\n",
            "Epoch 15/20\n",
            "1125/1125 [==============================] - 3s 3ms/step - loss: 0.3474 - accuracy: 0.9030\n",
            "Epoch 16/20\n",
            "1125/1125 [==============================] - 4s 3ms/step - loss: 0.3398 - accuracy: 0.9049\n",
            "Epoch 17/20\n",
            "1125/1125 [==============================] - 3s 3ms/step - loss: 0.3332 - accuracy: 0.9059\n",
            "Epoch 18/20\n",
            "1125/1125 [==============================] - 3s 3ms/step - loss: 0.3268 - accuracy: 0.9083\n",
            "Epoch 19/20\n",
            "1125/1125 [==============================] - 3s 3ms/step - loss: 0.3212 - accuracy: 0.9090\n",
            "Epoch 20/20\n",
            "1125/1125 [==============================] - 3s 3ms/step - loss: 0.3161 - accuracy: 0.9103\n",
            "563/563 [==============================] - 1s 2ms/step\n",
            "[CV] END activation_function=tanh, n_hidden_neurons=100, optimizer__lr=0.001; total time= 1.4min\n"
          ]
        },
        {
          "output_type": "stream",
          "name": "stderr",
          "text": [
            "/usr/local/lib/python3.7/dist-packages/keras/optimizer_v2/gradient_descent.py:102: UserWarning: The `lr` argument is deprecated, use `learning_rate` instead.\n",
            "  super(SGD, self).__init__(name, **kwargs)\n"
          ]
        },
        {
          "output_type": "stream",
          "name": "stdout",
          "text": [
            "Epoch 1/20\n",
            "1125/1125 [==============================] - 4s 3ms/step - loss: 0.3359 - accuracy: 0.9003\n",
            "Epoch 2/20\n",
            "1125/1125 [==============================] - 3s 3ms/step - loss: 0.1410 - accuracy: 0.9579\n",
            "Epoch 3/20\n",
            "1125/1125 [==============================] - 3s 3ms/step - loss: 0.0975 - accuracy: 0.9706\n",
            "Epoch 4/20\n",
            "1125/1125 [==============================] - 3s 3ms/step - loss: 0.0717 - accuracy: 0.9783\n",
            "Epoch 5/20\n",
            "1125/1125 [==============================] - 3s 3ms/step - loss: 0.0545 - accuracy: 0.9836\n",
            "Epoch 6/20\n",
            "1125/1125 [==============================] - 4s 3ms/step - loss: 0.0408 - accuracy: 0.9876\n",
            "Epoch 7/20\n",
            "1125/1125 [==============================] - 3s 3ms/step - loss: 0.0303 - accuracy: 0.9910\n",
            "Epoch 8/20\n",
            "1125/1125 [==============================] - 3s 3ms/step - loss: 0.0238 - accuracy: 0.9926\n",
            "Epoch 9/20\n",
            "1125/1125 [==============================] - 3s 3ms/step - loss: 0.0167 - accuracy: 0.9956\n",
            "Epoch 10/20\n",
            "1125/1125 [==============================] - 3s 3ms/step - loss: 0.0118 - accuracy: 0.9974\n",
            "Epoch 11/20\n",
            "1125/1125 [==============================] - 3s 3ms/step - loss: 0.0086 - accuracy: 0.9983\n",
            "Epoch 12/20\n",
            "1125/1125 [==============================] - 3s 3ms/step - loss: 0.0069 - accuracy: 0.9985\n",
            "Epoch 13/20\n",
            "1125/1125 [==============================] - 3s 3ms/step - loss: 0.0041 - accuracy: 0.9997\n",
            "Epoch 14/20\n",
            "1125/1125 [==============================] - 4s 3ms/step - loss: 0.0031 - accuracy: 0.9997\n",
            "Epoch 15/20\n",
            "1125/1125 [==============================] - 3s 3ms/step - loss: 0.0020 - accuracy: 0.9999\n",
            "Epoch 16/20\n",
            "1125/1125 [==============================] - 3s 3ms/step - loss: 0.0016 - accuracy: 0.9999\n",
            "Epoch 17/20\n",
            "1125/1125 [==============================] - 3s 3ms/step - loss: 0.0014 - accuracy: 1.0000\n",
            "Epoch 18/20\n",
            "1125/1125 [==============================] - 3s 3ms/step - loss: 0.0012 - accuracy: 1.0000\n",
            "Epoch 19/20\n",
            "1125/1125 [==============================] - 3s 3ms/step - loss: 0.0010 - accuracy: 1.0000\n",
            "Epoch 20/20\n",
            "1125/1125 [==============================] - 4s 3ms/step - loss: 9.1202e-04 - accuracy: 1.0000\n",
            "563/563 [==============================] - 1s 2ms/step\n",
            "[CV] END activation_function=tanh, n_hidden_neurons=200, optimizer__lr=0.1; total time= 1.4min\n"
          ]
        },
        {
          "output_type": "stream",
          "name": "stderr",
          "text": [
            "/usr/local/lib/python3.7/dist-packages/keras/optimizer_v2/gradient_descent.py:102: UserWarning: The `lr` argument is deprecated, use `learning_rate` instead.\n",
            "  super(SGD, self).__init__(name, **kwargs)\n"
          ]
        },
        {
          "output_type": "stream",
          "name": "stdout",
          "text": [
            "Epoch 1/20\n",
            "1125/1125 [==============================] - 4s 3ms/step - loss: 0.3335 - accuracy: 0.9004\n",
            "Epoch 2/20\n",
            "1125/1125 [==============================] - 4s 3ms/step - loss: 0.1392 - accuracy: 0.9570\n",
            "Epoch 3/20\n",
            "1125/1125 [==============================] - 4s 3ms/step - loss: 0.0951 - accuracy: 0.9704\n",
            "Epoch 4/20\n",
            "1125/1125 [==============================] - 3s 3ms/step - loss: 0.0702 - accuracy: 0.9782\n",
            "Epoch 5/20\n",
            "1125/1125 [==============================] - 3s 3ms/step - loss: 0.0528 - accuracy: 0.9830\n",
            "Epoch 6/20\n",
            "1125/1125 [==============================] - 3s 3ms/step - loss: 0.0397 - accuracy: 0.9872\n",
            "Epoch 7/20\n",
            "1125/1125 [==============================] - 3s 3ms/step - loss: 0.0296 - accuracy: 0.9908\n",
            "Epoch 8/20\n",
            "1125/1125 [==============================] - 3s 3ms/step - loss: 0.0223 - accuracy: 0.9939\n",
            "Epoch 9/20\n",
            "1125/1125 [==============================] - 3s 3ms/step - loss: 0.0167 - accuracy: 0.9953\n",
            "Epoch 10/20\n",
            "1125/1125 [==============================] - 3s 3ms/step - loss: 0.0113 - accuracy: 0.9976\n",
            "Epoch 11/20\n",
            "1125/1125 [==============================] - 4s 3ms/step - loss: 0.0083 - accuracy: 0.9983\n",
            "Epoch 12/20\n",
            "1125/1125 [==============================] - 3s 3ms/step - loss: 0.0057 - accuracy: 0.9991\n",
            "Epoch 13/20\n",
            "1125/1125 [==============================] - 4s 3ms/step - loss: 0.0033 - accuracy: 0.9998\n",
            "Epoch 14/20\n",
            "1125/1125 [==============================] - 4s 3ms/step - loss: 0.0024 - accuracy: 0.9999\n",
            "Epoch 15/20\n",
            "1125/1125 [==============================] - 3s 3ms/step - loss: 0.0019 - accuracy: 1.0000\n",
            "Epoch 16/20\n",
            "1125/1125 [==============================] - 3s 3ms/step - loss: 0.0015 - accuracy: 1.0000\n",
            "Epoch 17/20\n",
            "1125/1125 [==============================] - 3s 3ms/step - loss: 0.0012 - accuracy: 1.0000\n",
            "Epoch 18/20\n",
            "1125/1125 [==============================] - 3s 3ms/step - loss: 0.0011 - accuracy: 1.0000\n",
            "Epoch 19/20\n",
            "1125/1125 [==============================] - 3s 3ms/step - loss: 9.5723e-04 - accuracy: 1.0000\n",
            "Epoch 20/20\n",
            "1125/1125 [==============================] - 3s 3ms/step - loss: 8.7416e-04 - accuracy: 1.0000\n",
            "563/563 [==============================] - 1s 2ms/step\n",
            "[CV] END activation_function=tanh, n_hidden_neurons=200, optimizer__lr=0.1; total time= 1.2min\n"
          ]
        },
        {
          "output_type": "stream",
          "name": "stderr",
          "text": [
            "/usr/local/lib/python3.7/dist-packages/keras/optimizer_v2/gradient_descent.py:102: UserWarning: The `lr` argument is deprecated, use `learning_rate` instead.\n",
            "  super(SGD, self).__init__(name, **kwargs)\n"
          ]
        },
        {
          "output_type": "stream",
          "name": "stdout",
          "text": [
            "Epoch 1/20\n",
            "1125/1125 [==============================] - 4s 3ms/step - loss: 0.3278 - accuracy: 0.9024\n",
            "Epoch 2/20\n",
            "1125/1125 [==============================] - 3s 3ms/step - loss: 0.1420 - accuracy: 0.9574\n",
            "Epoch 3/20\n",
            "1125/1125 [==============================] - 4s 3ms/step - loss: 0.0965 - accuracy: 0.9706\n",
            "Epoch 4/20\n",
            "1125/1125 [==============================] - 4s 3ms/step - loss: 0.0729 - accuracy: 0.9785\n",
            "Epoch 5/20\n",
            "1125/1125 [==============================] - 3s 3ms/step - loss: 0.0527 - accuracy: 0.9841\n",
            "Epoch 6/20\n",
            "1125/1125 [==============================] - 3s 3ms/step - loss: 0.0412 - accuracy: 0.9880\n",
            "Epoch 7/20\n",
            "1125/1125 [==============================] - 3s 3ms/step - loss: 0.0314 - accuracy: 0.9911\n",
            "Epoch 8/20\n",
            "1125/1125 [==============================] - 3s 3ms/step - loss: 0.0228 - accuracy: 0.9942\n",
            "Epoch 9/20\n",
            "1125/1125 [==============================] - 4s 3ms/step - loss: 0.0168 - accuracy: 0.9956\n",
            "Epoch 10/20\n",
            "1125/1125 [==============================] - 4s 3ms/step - loss: 0.0123 - accuracy: 0.9973\n",
            "Epoch 11/20\n",
            "1125/1125 [==============================] - 3s 3ms/step - loss: 0.0087 - accuracy: 0.9984\n",
            "Epoch 12/20\n",
            "1125/1125 [==============================] - 4s 3ms/step - loss: 0.0061 - accuracy: 0.9990\n",
            "Epoch 13/20\n",
            "1125/1125 [==============================] - 3s 3ms/step - loss: 0.0044 - accuracy: 0.9996\n",
            "Epoch 14/20\n",
            "1125/1125 [==============================] - 3s 3ms/step - loss: 0.0027 - accuracy: 0.9999\n",
            "Epoch 15/20\n",
            "1125/1125 [==============================] - 3s 3ms/step - loss: 0.0020 - accuracy: 1.0000\n",
            "Epoch 16/20\n",
            "1125/1125 [==============================] - 3s 3ms/step - loss: 0.0016 - accuracy: 1.0000\n",
            "Epoch 17/20\n",
            "1125/1125 [==============================] - 3s 3ms/step - loss: 0.0013 - accuracy: 1.0000\n",
            "Epoch 18/20\n",
            "1125/1125 [==============================] - 3s 3ms/step - loss: 0.0011 - accuracy: 1.0000\n",
            "Epoch 19/20\n",
            "1125/1125 [==============================] - 3s 3ms/step - loss: 9.9272e-04 - accuracy: 1.0000\n",
            "Epoch 20/20\n",
            "1125/1125 [==============================] - 4s 3ms/step - loss: 9.1685e-04 - accuracy: 1.0000\n",
            "563/563 [==============================] - 1s 2ms/step\n",
            "[CV] END activation_function=tanh, n_hidden_neurons=200, optimizer__lr=0.1; total time= 1.2min\n"
          ]
        },
        {
          "output_type": "stream",
          "name": "stderr",
          "text": [
            "/usr/local/lib/python3.7/dist-packages/keras/optimizer_v2/gradient_descent.py:102: UserWarning: The `lr` argument is deprecated, use `learning_rate` instead.\n",
            "  super(SGD, self).__init__(name, **kwargs)\n"
          ]
        },
        {
          "output_type": "stream",
          "name": "stdout",
          "text": [
            "Epoch 1/20\n",
            "1125/1125 [==============================] - 4s 3ms/step - loss: 0.7877 - accuracy: 0.7991\n",
            "Epoch 2/20\n",
            "1125/1125 [==============================] - 3s 3ms/step - loss: 0.3439 - accuracy: 0.9030\n",
            "Epoch 3/20\n",
            "1125/1125 [==============================] - 3s 3ms/step - loss: 0.2876 - accuracy: 0.9172\n",
            "Epoch 4/20\n",
            "1125/1125 [==============================] - 3s 3ms/step - loss: 0.2523 - accuracy: 0.9282\n",
            "Epoch 5/20\n",
            "1125/1125 [==============================] - 3s 3ms/step - loss: 0.2262 - accuracy: 0.9365\n",
            "Epoch 6/20\n",
            "1125/1125 [==============================] - 3s 3ms/step - loss: 0.2048 - accuracy: 0.9419\n",
            "Epoch 7/20\n",
            "1125/1125 [==============================] - 3s 3ms/step - loss: 0.1872 - accuracy: 0.9464\n",
            "Epoch 8/20\n",
            "1125/1125 [==============================] - 3s 3ms/step - loss: 0.1716 - accuracy: 0.9514\n",
            "Epoch 9/20\n",
            "1125/1125 [==============================] - 4s 3ms/step - loss: 0.1588 - accuracy: 0.9554\n",
            "Epoch 10/20\n",
            "1125/1125 [==============================] - 3s 3ms/step - loss: 0.1474 - accuracy: 0.9586\n",
            "Epoch 11/20\n",
            "1125/1125 [==============================] - 3s 3ms/step - loss: 0.1371 - accuracy: 0.9611\n",
            "Epoch 12/20\n",
            "1125/1125 [==============================] - 3s 3ms/step - loss: 0.1281 - accuracy: 0.9639\n",
            "Epoch 13/20\n",
            "1125/1125 [==============================] - 3s 3ms/step - loss: 0.1201 - accuracy: 0.9660\n",
            "Epoch 14/20\n",
            "1125/1125 [==============================] - 4s 3ms/step - loss: 0.1129 - accuracy: 0.9688\n",
            "Epoch 15/20\n",
            "1125/1125 [==============================] - 4s 3ms/step - loss: 0.1062 - accuracy: 0.9712\n",
            "Epoch 16/20\n",
            "1125/1125 [==============================] - 4s 3ms/step - loss: 0.1000 - accuracy: 0.9725\n",
            "Epoch 17/20\n",
            "1125/1125 [==============================] - 3s 3ms/step - loss: 0.0942 - accuracy: 0.9743\n",
            "Epoch 18/20\n",
            "1125/1125 [==============================] - 3s 3ms/step - loss: 0.0884 - accuracy: 0.9763\n",
            "Epoch 19/20\n",
            "1125/1125 [==============================] - 4s 3ms/step - loss: 0.0840 - accuracy: 0.9769\n",
            "Epoch 20/20\n",
            "1125/1125 [==============================] - 4s 3ms/step - loss: 0.0796 - accuracy: 0.9787\n",
            "563/563 [==============================] - 1s 2ms/step\n",
            "[CV] END activation_function=tanh, n_hidden_neurons=200, optimizer__lr=0.01; total time= 1.2min\n"
          ]
        },
        {
          "output_type": "stream",
          "name": "stderr",
          "text": [
            "/usr/local/lib/python3.7/dist-packages/keras/optimizer_v2/gradient_descent.py:102: UserWarning: The `lr` argument is deprecated, use `learning_rate` instead.\n",
            "  super(SGD, self).__init__(name, **kwargs)\n"
          ]
        },
        {
          "output_type": "stream",
          "name": "stdout",
          "text": [
            "Epoch 1/20\n",
            "1125/1125 [==============================] - 4s 3ms/step - loss: 0.7820 - accuracy: 0.7987\n",
            "Epoch 2/20\n",
            "1125/1125 [==============================] - 4s 3ms/step - loss: 0.3429 - accuracy: 0.9023\n",
            "Epoch 3/20\n",
            "1125/1125 [==============================] - 3s 3ms/step - loss: 0.2879 - accuracy: 0.9169\n",
            "Epoch 4/20\n",
            "1125/1125 [==============================] - 3s 3ms/step - loss: 0.2541 - accuracy: 0.9267\n",
            "Epoch 5/20\n",
            "1125/1125 [==============================] - 3s 3ms/step - loss: 0.2282 - accuracy: 0.9349\n",
            "Epoch 6/20\n",
            "1125/1125 [==============================] - 3s 3ms/step - loss: 0.2072 - accuracy: 0.9405\n",
            "Epoch 7/20\n",
            "1125/1125 [==============================] - 4s 3ms/step - loss: 0.1887 - accuracy: 0.9445\n",
            "Epoch 8/20\n",
            "1125/1125 [==============================] - 3s 3ms/step - loss: 0.1744 - accuracy: 0.9491\n",
            "Epoch 9/20\n",
            "1125/1125 [==============================] - 3s 3ms/step - loss: 0.1612 - accuracy: 0.9538\n",
            "Epoch 10/20\n",
            "1125/1125 [==============================] - 3s 3ms/step - loss: 0.1497 - accuracy: 0.9564\n",
            "Epoch 11/20\n",
            "1125/1125 [==============================] - 3s 3ms/step - loss: 0.1397 - accuracy: 0.9593\n",
            "Epoch 12/20\n",
            "1125/1125 [==============================] - 4s 3ms/step - loss: 0.1308 - accuracy: 0.9622\n",
            "Epoch 13/20\n",
            "1125/1125 [==============================] - 3s 3ms/step - loss: 0.1219 - accuracy: 0.9647\n",
            "Epoch 14/20\n",
            "1125/1125 [==============================] - 3s 3ms/step - loss: 0.1148 - accuracy: 0.9668\n",
            "Epoch 15/20\n",
            "1125/1125 [==============================] - 4s 3ms/step - loss: 0.1079 - accuracy: 0.9693\n",
            "Epoch 16/20\n",
            "1125/1125 [==============================] - 3s 3ms/step - loss: 0.1015 - accuracy: 0.9711\n",
            "Epoch 17/20\n",
            "1125/1125 [==============================] - 3s 3ms/step - loss: 0.0962 - accuracy: 0.9726\n",
            "Epoch 18/20\n",
            "1125/1125 [==============================] - 3s 3ms/step - loss: 0.0902 - accuracy: 0.9743\n",
            "Epoch 19/20\n",
            "1125/1125 [==============================] - 4s 3ms/step - loss: 0.0854 - accuracy: 0.9756\n",
            "Epoch 20/20\n",
            "1125/1125 [==============================] - 3s 3ms/step - loss: 0.0809 - accuracy: 0.9769\n",
            "563/563 [==============================] - 1s 2ms/step\n",
            "[CV] END activation_function=tanh, n_hidden_neurons=200, optimizer__lr=0.01; total time= 1.2min\n"
          ]
        },
        {
          "output_type": "stream",
          "name": "stderr",
          "text": [
            "/usr/local/lib/python3.7/dist-packages/keras/optimizer_v2/gradient_descent.py:102: UserWarning: The `lr` argument is deprecated, use `learning_rate` instead.\n",
            "  super(SGD, self).__init__(name, **kwargs)\n"
          ]
        },
        {
          "output_type": "stream",
          "name": "stdout",
          "text": [
            "Epoch 1/20\n",
            "1125/1125 [==============================] - 4s 3ms/step - loss: 0.8276 - accuracy: 0.7922\n",
            "Epoch 2/20\n",
            "1125/1125 [==============================] - 3s 3ms/step - loss: 0.3417 - accuracy: 0.9033\n",
            "Epoch 3/20\n",
            "1125/1125 [==============================] - 3s 3ms/step - loss: 0.2832 - accuracy: 0.9194\n",
            "Epoch 4/20\n",
            "1125/1125 [==============================] - 3s 3ms/step - loss: 0.2487 - accuracy: 0.9298\n",
            "Epoch 5/20\n",
            "1125/1125 [==============================] - 3s 3ms/step - loss: 0.2228 - accuracy: 0.9384\n",
            "Epoch 6/20\n",
            "1125/1125 [==============================] - 4s 3ms/step - loss: 0.2025 - accuracy: 0.9425\n",
            "Epoch 7/20\n",
            "1125/1125 [==============================] - 4s 3ms/step - loss: 0.1849 - accuracy: 0.9484\n",
            "Epoch 8/20\n",
            "1125/1125 [==============================] - 3s 3ms/step - loss: 0.1709 - accuracy: 0.9525\n",
            "Epoch 9/20\n",
            "1125/1125 [==============================] - 3s 3ms/step - loss: 0.1582 - accuracy: 0.9559\n",
            "Epoch 10/20\n",
            "1125/1125 [==============================] - 3s 3ms/step - loss: 0.1467 - accuracy: 0.9598\n",
            "Epoch 11/20\n",
            "1125/1125 [==============================] - 3s 3ms/step - loss: 0.1370 - accuracy: 0.9621\n",
            "Epoch 12/20\n",
            "1125/1125 [==============================] - 3s 3ms/step - loss: 0.1285 - accuracy: 0.9643\n",
            "Epoch 13/20\n",
            "1125/1125 [==============================] - 3s 3ms/step - loss: 0.1197 - accuracy: 0.9673\n",
            "Epoch 14/20\n",
            "1125/1125 [==============================] - 3s 3ms/step - loss: 0.1126 - accuracy: 0.9696\n",
            "Epoch 15/20\n",
            "1125/1125 [==============================] - 4s 3ms/step - loss: 0.1060 - accuracy: 0.9707\n",
            "Epoch 16/20\n",
            "1125/1125 [==============================] - 4s 3ms/step - loss: 0.0997 - accuracy: 0.9725\n",
            "Epoch 17/20\n",
            "1125/1125 [==============================] - 4s 3ms/step - loss: 0.0937 - accuracy: 0.9749\n",
            "Epoch 18/20\n",
            "1125/1125 [==============================] - 3s 3ms/step - loss: 0.0886 - accuracy: 0.9767\n",
            "Epoch 19/20\n",
            "1125/1125 [==============================] - 3s 3ms/step - loss: 0.0835 - accuracy: 0.9781\n",
            "Epoch 20/20\n",
            "1125/1125 [==============================] - 3s 3ms/step - loss: 0.0789 - accuracy: 0.9787\n",
            "563/563 [==============================] - 1s 2ms/step\n",
            "[CV] END activation_function=tanh, n_hidden_neurons=200, optimizer__lr=0.01; total time= 1.4min\n"
          ]
        },
        {
          "output_type": "stream",
          "name": "stderr",
          "text": [
            "/usr/local/lib/python3.7/dist-packages/keras/optimizer_v2/gradient_descent.py:102: UserWarning: The `lr` argument is deprecated, use `learning_rate` instead.\n",
            "  super(SGD, self).__init__(name, **kwargs)\n"
          ]
        },
        {
          "output_type": "stream",
          "name": "stdout",
          "text": [
            "Epoch 1/20\n",
            "1125/1125 [==============================] - 4s 3ms/step - loss: 2.0701 - accuracy: 0.4096\n",
            "Epoch 2/20\n",
            "1125/1125 [==============================] - 3s 3ms/step - loss: 1.4446 - accuracy: 0.7071\n",
            "Epoch 3/20\n",
            "1125/1125 [==============================] - 3s 3ms/step - loss: 0.9473 - accuracy: 0.7908\n",
            "Epoch 4/20\n",
            "1125/1125 [==============================] - 3s 3ms/step - loss: 0.7097 - accuracy: 0.8306\n",
            "Epoch 5/20\n",
            "1125/1125 [==============================] - 3s 3ms/step - loss: 0.5906 - accuracy: 0.8522\n",
            "Epoch 6/20\n",
            "1125/1125 [==============================] - 3s 3ms/step - loss: 0.5202 - accuracy: 0.8650\n",
            "Epoch 7/20\n",
            "1125/1125 [==============================] - 3s 3ms/step - loss: 0.4738 - accuracy: 0.8752\n",
            "Epoch 8/20\n",
            "1125/1125 [==============================] - 3s 3ms/step - loss: 0.4405 - accuracy: 0.8828\n",
            "Epoch 9/20\n",
            "1125/1125 [==============================] - 3s 3ms/step - loss: 0.4156 - accuracy: 0.8874\n",
            "Epoch 10/20\n",
            "1125/1125 [==============================] - 4s 3ms/step - loss: 0.3957 - accuracy: 0.8911\n",
            "Epoch 11/20\n",
            "1125/1125 [==============================] - 3s 3ms/step - loss: 0.3798 - accuracy: 0.8946\n",
            "Epoch 12/20\n",
            "1125/1125 [==============================] - 3s 3ms/step - loss: 0.3664 - accuracy: 0.8980\n",
            "Epoch 13/20\n",
            "1125/1125 [==============================] - 3s 3ms/step - loss: 0.3550 - accuracy: 0.9006\n",
            "Epoch 14/20\n",
            "1125/1125 [==============================] - 3s 3ms/step - loss: 0.3450 - accuracy: 0.9031\n",
            "Epoch 15/20\n",
            "1125/1125 [==============================] - 3s 3ms/step - loss: 0.3363 - accuracy: 0.9047\n",
            "Epoch 16/20\n",
            "1125/1125 [==============================] - 3s 3ms/step - loss: 0.3283 - accuracy: 0.9069\n",
            "Epoch 17/20\n",
            "1125/1125 [==============================] - 3s 3ms/step - loss: 0.3212 - accuracy: 0.9089\n",
            "Epoch 18/20\n",
            "1125/1125 [==============================] - 3s 3ms/step - loss: 0.3145 - accuracy: 0.9104\n",
            "Epoch 19/20\n",
            "1125/1125 [==============================] - 3s 3ms/step - loss: 0.3084 - accuracy: 0.9120\n",
            "Epoch 20/20\n",
            "1125/1125 [==============================] - 3s 3ms/step - loss: 0.3029 - accuracy: 0.9136\n",
            "563/563 [==============================] - 1s 2ms/step\n",
            "[CV] END activation_function=tanh, n_hidden_neurons=200, optimizer__lr=0.001; total time= 1.2min\n"
          ]
        },
        {
          "output_type": "stream",
          "name": "stderr",
          "text": [
            "/usr/local/lib/python3.7/dist-packages/keras/optimizer_v2/gradient_descent.py:102: UserWarning: The `lr` argument is deprecated, use `learning_rate` instead.\n",
            "  super(SGD, self).__init__(name, **kwargs)\n"
          ]
        },
        {
          "output_type": "stream",
          "name": "stdout",
          "text": [
            "Epoch 1/20\n",
            "1125/1125 [==============================] - 4s 3ms/step - loss: 2.0390 - accuracy: 0.4159\n",
            "Epoch 2/20\n",
            "1125/1125 [==============================] - 3s 3ms/step - loss: 1.3681 - accuracy: 0.7495\n",
            "Epoch 3/20\n",
            "1125/1125 [==============================] - 3s 3ms/step - loss: 0.8938 - accuracy: 0.8122\n",
            "Epoch 4/20\n",
            "1125/1125 [==============================] - 3s 3ms/step - loss: 0.6783 - accuracy: 0.8394\n",
            "Epoch 5/20\n",
            "1125/1125 [==============================] - 3s 3ms/step - loss: 0.5705 - accuracy: 0.8556\n",
            "Epoch 6/20\n",
            "1125/1125 [==============================] - 3s 3ms/step - loss: 0.5061 - accuracy: 0.8686\n",
            "Epoch 7/20\n",
            "1125/1125 [==============================] - 3s 3ms/step - loss: 0.4630 - accuracy: 0.8772\n",
            "Epoch 8/20\n",
            "1125/1125 [==============================] - 3s 3ms/step - loss: 0.4321 - accuracy: 0.8831\n",
            "Epoch 9/20\n",
            "1125/1125 [==============================] - 3s 3ms/step - loss: 0.4086 - accuracy: 0.8874\n",
            "Epoch 10/20\n",
            "1125/1125 [==============================] - 3s 3ms/step - loss: 0.3900 - accuracy: 0.8914\n",
            "Epoch 11/20\n",
            "1125/1125 [==============================] - 3s 3ms/step - loss: 0.3750 - accuracy: 0.8950\n",
            "Epoch 12/20\n",
            "1125/1125 [==============================] - 3s 3ms/step - loss: 0.3623 - accuracy: 0.8981\n",
            "Epoch 13/20\n",
            "1125/1125 [==============================] - 3s 3ms/step - loss: 0.3512 - accuracy: 0.9007\n",
            "Epoch 14/20\n",
            "1125/1125 [==============================] - 3s 3ms/step - loss: 0.3419 - accuracy: 0.9031\n",
            "Epoch 15/20\n",
            "1125/1125 [==============================] - 3s 3ms/step - loss: 0.3335 - accuracy: 0.9057\n",
            "Epoch 16/20\n",
            "1125/1125 [==============================] - 3s 3ms/step - loss: 0.3257 - accuracy: 0.9073\n",
            "Epoch 17/20\n",
            "1125/1125 [==============================] - 3s 3ms/step - loss: 0.3190 - accuracy: 0.9089\n",
            "Epoch 18/20\n",
            "1125/1125 [==============================] - 3s 3ms/step - loss: 0.3127 - accuracy: 0.9102\n",
            "Epoch 19/20\n",
            "1125/1125 [==============================] - 3s 3ms/step - loss: 0.3067 - accuracy: 0.9127\n",
            "Epoch 20/20\n",
            "1125/1125 [==============================] - 3s 3ms/step - loss: 0.3014 - accuracy: 0.9137\n",
            "563/563 [==============================] - 1s 2ms/step\n",
            "[CV] END activation_function=tanh, n_hidden_neurons=200, optimizer__lr=0.001; total time= 1.4min\n"
          ]
        },
        {
          "output_type": "stream",
          "name": "stderr",
          "text": [
            "/usr/local/lib/python3.7/dist-packages/keras/optimizer_v2/gradient_descent.py:102: UserWarning: The `lr` argument is deprecated, use `learning_rate` instead.\n",
            "  super(SGD, self).__init__(name, **kwargs)\n"
          ]
        },
        {
          "output_type": "stream",
          "name": "stdout",
          "text": [
            "Epoch 1/20\n",
            "1125/1125 [==============================] - 4s 3ms/step - loss: 2.0666 - accuracy: 0.3705\n",
            "Epoch 2/20\n",
            "1125/1125 [==============================] - 3s 3ms/step - loss: 1.4346 - accuracy: 0.7269\n",
            "Epoch 3/20\n",
            "1125/1125 [==============================] - 4s 3ms/step - loss: 0.9402 - accuracy: 0.8096\n",
            "Epoch 4/20\n",
            "1125/1125 [==============================] - 4s 3ms/step - loss: 0.6996 - accuracy: 0.8416\n",
            "Epoch 5/20\n",
            "1125/1125 [==============================] - 3s 3ms/step - loss: 0.5802 - accuracy: 0.8596\n",
            "Epoch 6/20\n",
            "1125/1125 [==============================] - 3s 3ms/step - loss: 0.5107 - accuracy: 0.8702\n",
            "Epoch 7/20\n",
            "1125/1125 [==============================] - 3s 3ms/step - loss: 0.4653 - accuracy: 0.8795\n",
            "Epoch 8/20\n",
            "1125/1125 [==============================] - 3s 3ms/step - loss: 0.4331 - accuracy: 0.8848\n",
            "Epoch 9/20\n",
            "1125/1125 [==============================] - 3s 3ms/step - loss: 0.4091 - accuracy: 0.8896\n",
            "Epoch 10/20\n",
            "1125/1125 [==============================] - 4s 3ms/step - loss: 0.3902 - accuracy: 0.8928\n",
            "Epoch 11/20\n",
            "1125/1125 [==============================] - 4s 3ms/step - loss: 0.3750 - accuracy: 0.8964\n",
            "Epoch 12/20\n",
            "1125/1125 [==============================] - 3s 3ms/step - loss: 0.3623 - accuracy: 0.8991\n",
            "Epoch 13/20\n",
            "1125/1125 [==============================] - 4s 3ms/step - loss: 0.3516 - accuracy: 0.9014\n",
            "Epoch 14/20\n",
            "1125/1125 [==============================] - 3s 3ms/step - loss: 0.3422 - accuracy: 0.9047\n",
            "Epoch 15/20\n",
            "1125/1125 [==============================] - 3s 3ms/step - loss: 0.3339 - accuracy: 0.9068\n",
            "Epoch 16/20\n",
            "1125/1125 [==============================] - 3s 3ms/step - loss: 0.3264 - accuracy: 0.9085\n",
            "Epoch 17/20\n",
            "1125/1125 [==============================] - 3s 3ms/step - loss: 0.3197 - accuracy: 0.9101\n",
            "Epoch 18/20\n",
            "1125/1125 [==============================] - 3s 3ms/step - loss: 0.3134 - accuracy: 0.9121\n",
            "Epoch 19/20\n",
            "1125/1125 [==============================] - 3s 3ms/step - loss: 0.3078 - accuracy: 0.9134\n",
            "Epoch 20/20\n",
            "1125/1125 [==============================] - 3s 3ms/step - loss: 0.3025 - accuracy: 0.9147\n",
            "563/563 [==============================] - 1s 2ms/step\n",
            "[CV] END activation_function=tanh, n_hidden_neurons=200, optimizer__lr=0.001; total time= 1.2min\n"
          ]
        },
        {
          "output_type": "stream",
          "name": "stderr",
          "text": [
            "/usr/local/lib/python3.7/dist-packages/keras/optimizer_v2/gradient_descent.py:102: UserWarning: The `lr` argument is deprecated, use `learning_rate` instead.\n",
            "  super(SGD, self).__init__(name, **kwargs)\n"
          ]
        },
        {
          "output_type": "stream",
          "name": "stdout",
          "text": [
            "Epoch 1/20\n",
            "1688/1688 [==============================] - 6s 4ms/step - loss: 0.2802 - accuracy: 0.9169\n",
            "Epoch 2/20\n",
            "1688/1688 [==============================] - 6s 4ms/step - loss: 0.1169 - accuracy: 0.9646\n",
            "Epoch 3/20\n",
            "1688/1688 [==============================] - 6s 4ms/step - loss: 0.0793 - accuracy: 0.9754\n",
            "Epoch 4/20\n",
            "1688/1688 [==============================] - 6s 4ms/step - loss: 0.0590 - accuracy: 0.9814\n",
            "Epoch 5/20\n",
            "1688/1688 [==============================] - 6s 4ms/step - loss: 0.0444 - accuracy: 0.9862\n",
            "Epoch 6/20\n",
            "1688/1688 [==============================] - 6s 4ms/step - loss: 0.0346 - accuracy: 0.9892\n",
            "Epoch 7/20\n",
            "1688/1688 [==============================] - 6s 4ms/step - loss: 0.0255 - accuracy: 0.9922\n",
            "Epoch 8/20\n",
            "1688/1688 [==============================] - 6s 4ms/step - loss: 0.0196 - accuracy: 0.9943\n",
            "Epoch 9/20\n",
            "1688/1688 [==============================] - 6s 4ms/step - loss: 0.0138 - accuracy: 0.9963\n",
            "Epoch 10/20\n",
            "1688/1688 [==============================] - 6s 4ms/step - loss: 0.0103 - accuracy: 0.9976\n",
            "Epoch 11/20\n",
            "1688/1688 [==============================] - 6s 4ms/step - loss: 0.0076 - accuracy: 0.9982\n",
            "Epoch 12/20\n",
            "1688/1688 [==============================] - 6s 4ms/step - loss: 0.0053 - accuracy: 0.9991\n",
            "Epoch 13/20\n",
            "1688/1688 [==============================] - 6s 4ms/step - loss: 0.0040 - accuracy: 0.9992\n",
            "Epoch 14/20\n",
            "1688/1688 [==============================] - 6s 4ms/step - loss: 0.0025 - accuracy: 0.9997\n",
            "Epoch 15/20\n",
            "1688/1688 [==============================] - 6s 4ms/step - loss: 0.0016 - accuracy: 0.9999\n",
            "Epoch 16/20\n",
            "1688/1688 [==============================] - 6s 4ms/step - loss: 0.0012 - accuracy: 1.0000\n",
            "Epoch 17/20\n",
            "1688/1688 [==============================] - 6s 4ms/step - loss: 0.0010 - accuracy: 1.0000\n",
            "Epoch 18/20\n",
            "1688/1688 [==============================] - 6s 4ms/step - loss: 8.3643e-04 - accuracy: 1.0000\n",
            "Epoch 19/20\n",
            "1688/1688 [==============================] - 6s 4ms/step - loss: 7.5387e-04 - accuracy: 1.0000\n",
            "Epoch 20/20\n",
            "1688/1688 [==============================] - 6s 4ms/step - loss: 6.5531e-04 - accuracy: 1.0000\n"
          ]
        },
        {
          "output_type": "execute_result",
          "data": {
            "text/plain": [
              "GridSearchCV(cv=3,\n",
              "             estimator=KerasClassifier(activation_function='relu', loss='sparse_categorical_crossentropy', metrics=['accuracy'], model=<function build_mlp at 0x7f7de24aaef0>, n_hidden_layers=2, n_hidden_neurons=50, optimizer='sgd', optimizer__lr=0.01),\n",
              "             param_grid={'activation_function': ['relu', 'sigmoid', 'tanh'],\n",
              "                         'n_hidden_neurons': [100, 200],\n",
              "                         'optimizer__lr': [0.1, 0.01, 0.001]},\n",
              "             verbose=2)"
            ]
          },
          "metadata": {},
          "execution_count": 63
        }
      ],
      "source": [
        "\"\"\"This cell has a long runtime. Not recommended during lab.\"\"\"\n",
        "from sklearn.model_selection import GridSearchCV\n",
        "\n",
        "param_grid = {\n",
        "    \"n_hidden_neurons\": [100, 200],\n",
        "    \"optimizer__lr\": [0.1, 0.01, 0.001],\n",
        "    \"activation_function\": [\"relu\", \"sigmoid\", \"tanh\"]\n",
        "}\n",
        "\n",
        "grid_search_cv = GridSearchCV(keras_classifier, param_grid, cv=3, verbose=2)\n",
        "grid_search_cv.fit(X_train, y_train, epochs=20)"
      ]
    },
    {
      "cell_type": "code",
      "execution_count": 66,
      "id": "016f0a3d",
      "metadata": {
        "colab": {
          "base_uri": "https://localhost:8080/"
        },
        "id": "016f0a3d",
        "outputId": "8fa5f636-072f-4d29-e6f7-c8f0946f12b3"
      },
      "outputs": [
        {
          "output_type": "stream",
          "name": "stdout",
          "text": [
            "{'activation_function': 'sigmoid', 'n_hidden_neurons': 200, 'optimizer__lr': 0.1}\n"
          ]
        }
      ],
      "source": [
        "print(grid_search_cv.best_params_)\n",
        "best_model = grid_search_cv.best_estimator_.model"
      ]
    },
    {
      "cell_type": "markdown",
      "id": "346c7dbe",
      "metadata": {
        "id": "346c7dbe"
      },
      "source": [
        "For even larger models than the MLPs we have considered here, exhaustive grid search and cross validation quickly become infeasible. Other than using more powerful hardware, one approach is to run a broad initial search using the validation set, and then narrow the search space once appropriate starting parameters are identified. There also exist many algorithsm to more efficiently search the hyperparameter space such as Bayesian Search. Ultimately, however, there is no escpaing neural network's need for computation power and their long runtimes. This is one reason why neural networks are not always the most appropriate solution to your problem."
      ]
    },
    {
      "cell_type": "markdown",
      "id": "c61c87df",
      "metadata": {
        "id": "c61c87df"
      },
      "source": [
        "## 5. Task - Using an MLP for Regression\n",
        "\n",
        "Today we have demonstrated how to create an image classifier MLP. Beyond multi-class classification problems, MLPs can also be used to solve other types of problems, such as regression and binary classification.\n",
        "\n",
        "To create an MLP for one of these different problems, you will need to change the output encoding.\n",
        "\n",
        "For example, a binary classifier should have 1 output neuron and use a logistic output layer activation (values close to 0 represent class 0, values close to 1 represent class 1).\n",
        "\n",
        "For a regression problem, there should be one output neuron per prediction required. No output activation is necessarily required, but ReLU may be used if the output must be positive, and sigmoid/tanh can be used for bounded outputs. The other change for regression problems is the loss function (cross entropy is not appropriate for regression). Mean squared error (MSE) ([Keras documentation](https://keras.io/api/losses/)) is often used."
      ]
    },
    {
      "cell_type": "markdown",
      "id": "af4404a9",
      "metadata": {
        "id": "af4404a9"
      },
      "source": [
        "Below we have loaded and preprocessed the Boston Housing dataset, which contains 13 numerical attibutes of houses of Boston suburbs in the late 1970s. The target variable is the house price in thousands of dollars. For more details on the actual attributes, you can view this [link](http://lib.stat.cmu.edu/datasets/boston)."
      ]
    },
    {
      "cell_type": "code",
      "execution_count": 68,
      "id": "e481c28a",
      "metadata": {
        "colab": {
          "base_uri": "https://localhost:8080/"
        },
        "id": "e481c28a",
        "outputId": "18ca8e63-deae-495a-d2f8-e9b5fcb149b9"
      },
      "outputs": [
        {
          "output_type": "stream",
          "name": "stdout",
          "text": [
            "Downloading data from https://storage.googleapis.com/tensorflow/tf-keras-datasets/boston_housing.npz\n",
            "57344/57026 [==============================] - 0s 0us/step\n",
            "65536/57026 [==================================] - 0s 0us/step\n"
          ]
        }
      ],
      "source": [
        "# Load the Boston Housing data\n",
        "(X_train_full, y_train_full), (X_test, y_test) = keras.datasets.boston_housing.load_data()"
      ]
    },
    {
      "cell_type": "code",
      "execution_count": 69,
      "id": "74261d07",
      "metadata": {
        "colab": {
          "base_uri": "https://localhost:8080/"
        },
        "id": "74261d07",
        "outputId": "200ddd04-8b56-42c1-c4cf-9df70142d3ff"
      },
      "outputs": [
        {
          "output_type": "stream",
          "name": "stdout",
          "text": [
            "Shape of X_train_full: (404, 13)\n",
            "Shape of y_train_full: (404,)\n",
            "Shape of X_test: (102, 13)\n",
            "Shape of y_test: (102,)\n"
          ]
        }
      ],
      "source": [
        "print(f\"Shape of X_train_full: {X_train_full.shape}\")\n",
        "print(f\"Shape of y_train_full: {y_train_full.shape}\")\n",
        "print(f\"Shape of X_test: {X_test.shape}\")\n",
        "print(f\"Shape of y_test: {y_test.shape}\")"
      ]
    },
    {
      "cell_type": "code",
      "execution_count": 70,
      "id": "a957098e",
      "metadata": {
        "id": "a957098e"
      },
      "outputs": [],
      "source": [
        "np.random.seed(42)\n",
        "tf.random.set_seed(42)\n",
        "keras.backend.clear_session()"
      ]
    },
    {
      "cell_type": "code",
      "execution_count": 71,
      "id": "f64c8b29",
      "metadata": {
        "id": "f64c8b29"
      },
      "outputs": [],
      "source": [
        "from sklearn.preprocessing import StandardScaler\n",
        "\n",
        "# Create a validation set\n",
        "X_train, X_valid, y_train, y_valid = train_test_split(X_train_full, y_train_full, random_state=42)\n",
        "\n",
        "# Standardise the data\n",
        "scaler = StandardScaler()\n",
        "X_train = scaler.fit_transform(X_train)\n",
        "X_valid = scaler.transform(X_valid)\n",
        "X_test = scaler.transform(X_test)"
      ]
    },
    {
      "cell_type": "markdown",
      "id": "2f8e628d",
      "metadata": {
        "id": "2f8e628d"
      },
      "source": [
        "### Task\n",
        "Define, train and evaluate a regression MLP on this dataset. To achieve this, you will need to:\n",
        "- Remember to adjust the input shape and output layer appropriately for this dataset\n",
        "- Compile the model with an appropriate loss function\n",
        "- Interpret the evaluation, since for this regression problem accuracy is not a valid metric"
      ]
    },
    {
      "cell_type": "markdown",
      "id": "b6ff31b1",
      "metadata": {
        "id": "b6ff31b1"
      },
      "source": [
        "### Solution:\n",
        "\n",
        "This is one possible simple solution using the same hidden layer structure as above."
      ]
    },
    {
      "cell_type": "code",
      "execution_count": 72,
      "id": "dd0991c9",
      "metadata": {
        "id": "dd0991c9"
      },
      "outputs": [],
      "source": [
        "# Define our Keras model with appropriate input size and output\n",
        "model = keras.Sequential([\n",
        "    keras.layers.Dense(300, activation=\"relu\", input_shape=X_train.shape[1:]),\n",
        "    keras.layers.Dense(100, activation=\"relu\"),\n",
        "    keras.layers.Dense(1)\n",
        "])\n",
        "\n",
        "# Compile model with MSE loss\n",
        "model.compile(loss=\"mean_squared_error\", optimizer=keras.optimizers.SGD(learning_rate=1e-3))"
      ]
    },
    {
      "cell_type": "code",
      "execution_count": 73,
      "id": "876bc46e",
      "metadata": {
        "colab": {
          "base_uri": "https://localhost:8080/"
        },
        "id": "876bc46e",
        "outputId": "d2ca024a-3507-462d-f178-49a64fd67a31"
      },
      "outputs": [
        {
          "output_type": "stream",
          "name": "stdout",
          "text": [
            "Epoch 1/20\n",
            "10/10 [==============================] - 1s 22ms/step - loss: 547.7675 - val_loss: 330.2329\n",
            "Epoch 2/20\n",
            "10/10 [==============================] - 0s 7ms/step - loss: 211.8402 - val_loss: 63.3655\n",
            "Epoch 3/20\n",
            "10/10 [==============================] - 0s 8ms/step - loss: 49.4029 - val_loss: 32.2598\n",
            "Epoch 4/20\n",
            "10/10 [==============================] - 0s 8ms/step - loss: 31.1562 - val_loss: 25.3474\n",
            "Epoch 5/20\n",
            "10/10 [==============================] - 0s 8ms/step - loss: 25.2875 - val_loss: 20.0847\n",
            "Epoch 6/20\n",
            "10/10 [==============================] - 0s 9ms/step - loss: 22.2691 - val_loss: 17.7285\n",
            "Epoch 7/20\n",
            "10/10 [==============================] - 0s 7ms/step - loss: 20.0409 - val_loss: 15.9388\n",
            "Epoch 8/20\n",
            "10/10 [==============================] - 0s 7ms/step - loss: 18.2024 - val_loss: 14.6661\n",
            "Epoch 9/20\n",
            "10/10 [==============================] - 0s 8ms/step - loss: 17.1464 - val_loss: 13.4113\n",
            "Epoch 10/20\n",
            "10/10 [==============================] - 0s 7ms/step - loss: 16.0479 - val_loss: 12.6765\n",
            "Epoch 11/20\n",
            "10/10 [==============================] - 0s 8ms/step - loss: 15.2514 - val_loss: 11.9131\n",
            "Epoch 12/20\n",
            "10/10 [==============================] - 0s 6ms/step - loss: 14.6534 - val_loss: 11.6748\n",
            "Epoch 13/20\n",
            "10/10 [==============================] - 0s 8ms/step - loss: 13.7723 - val_loss: 10.6946\n",
            "Epoch 14/20\n",
            "10/10 [==============================] - 0s 6ms/step - loss: 13.1478 - val_loss: 10.3933\n",
            "Epoch 15/20\n",
            "10/10 [==============================] - 0s 7ms/step - loss: 12.8889 - val_loss: 10.0510\n",
            "Epoch 16/20\n",
            "10/10 [==============================] - 0s 8ms/step - loss: 11.9329 - val_loss: 10.9085\n",
            "Epoch 17/20\n",
            "10/10 [==============================] - 0s 7ms/step - loss: 11.8309 - val_loss: 9.6554\n",
            "Epoch 18/20\n",
            "10/10 [==============================] - 0s 6ms/step - loss: 11.1047 - val_loss: 10.4408\n",
            "Epoch 19/20\n",
            "10/10 [==============================] - 0s 8ms/step - loss: 11.1498 - val_loss: 9.3134\n",
            "Epoch 20/20\n",
            "10/10 [==============================] - 0s 8ms/step - loss: 10.5452 - val_loss: 11.1688\n"
          ]
        }
      ],
      "source": [
        "# Train the model\n",
        "history = model.fit(X_train, y_train, epochs=20, validation_data=(X_valid, y_valid))"
      ]
    },
    {
      "cell_type": "code",
      "execution_count": 74,
      "id": "caf6c20b",
      "metadata": {
        "colab": {
          "base_uri": "https://localhost:8080/"
        },
        "id": "caf6c20b",
        "outputId": "e699464e-1673-4204-8c45-272765ecafce"
      },
      "outputs": [
        {
          "output_type": "stream",
          "name": "stdout",
          "text": [
            "4/4 [==============================] - 0s 4ms/step - loss: 23.4793\n"
          ]
        }
      ],
      "source": [
        "# Evaluate the model using MSE as a metric\n",
        "mse_test = model.evaluate(X_test, y_test)"
      ]
    },
    {
      "cell_type": "code",
      "execution_count": 75,
      "id": "a5aaabff",
      "metadata": {
        "colab": {
          "base_uri": "https://localhost:8080/"
        },
        "id": "a5aaabff",
        "outputId": "c717f5d3-32cb-45d8-fd77-2d712254874e"
      },
      "outputs": [
        {
          "output_type": "stream",
          "name": "stdout",
          "text": [
            "Model prediction: 9.95; True value: 7.2\n",
            "Model prediction: 17.18; True value: 18.8\n",
            "Model prediction: 21.42; True value: 19.0\n"
          ]
        }
      ],
      "source": [
        "# Examine several model predictions\n",
        "y_pred = model.predict(X_test[:3])\n",
        "\n",
        "for i in range(3):\n",
        "    print(f\"Model prediction: {y_pred[i][0]:.2f}; True value: {y_test[i]}\")"
      ]
    },
    {
      "cell_type": "markdown",
      "id": "0d08bbda",
      "metadata": {
        "id": "0d08bbda"
      },
      "source": [
        "## 6. Summary"
      ]
    },
    {
      "cell_type": "markdown",
      "id": "b58584ac",
      "metadata": {
        "id": "b58584ac"
      },
      "source": [
        "Today, we have only scratched the surface of Keras' functionality. It is a rich library with lots of possible customisation, and a 'Functional API' ([documentation](https://keras.io/guides/functional_api/)) to create more complex models. Nevertheless, hopefully this provides a springboard for your further study and utilisation of deep learning libraries."
      ]
    },
    {
      "cell_type": "code",
      "execution_count": null,
      "id": "f2f70b98",
      "metadata": {
        "id": "f2f70b98"
      },
      "outputs": [],
      "source": [
        "model = keras.models.Sequential([\n",
        "    keras.layers.Flatten(input_shape=[28, 28]),\n",
        "    keras.layers.Dense(300, activation=\"tanh\"),\n",
        "    keras.layers.Dense(100, activation=\"tanh\"),\n",
        "    keras.layers.Dense(10, activation=\"softmax\")\n",
        "])\n",
        "\n",
        "opt = keras.optimizers.SGD(learning_rate=5e-2)\n",
        "model.compile(loss='sparse_categorical_crossentropy',\n",
        "              optimizer=opt,\n",
        "              metrics=['accuracy'])\n",
        "\n",
        "history = model.fit(X_train, y_train, epochs=20,\n",
        "                    validation_data=(X_valid, y_valid))\n",
        "\n",
        "loss, accuracy = model.evaluate(X_test, y_test)\n",
        "print(f\"Accuracy on test data: {accuracy:.4f}\")"
      ]
    },
    {
      "cell_type": "markdown",
      "id": "a582db77",
      "metadata": {
        "id": "a582db77"
      },
      "source": [
        "## Acknowledgements\n",
        "\n",
        "This tutorial is based on:\n",
        "\n",
        "Aurelien Geron (2019). Hands-on Machine Learning with Scikit-Learn, Keras and TensorFlow, O'Reilly."
      ]
    }
  ],
  "metadata": {
    "kernelspec": {
      "display_name": "Python 3 (ipykernel)",
      "language": "python",
      "name": "python3"
    },
    "language_info": {
      "codemirror_mode": {
        "name": "ipython",
        "version": 3
      },
      "file_extension": ".py",
      "mimetype": "text/x-python",
      "name": "python",
      "nbconvert_exporter": "python",
      "pygments_lexer": "ipython3",
      "version": "3.8.5"
    },
    "colab": {
      "name": "w7-new-solutions.ipynb",
      "provenance": [],
      "collapsed_sections": [
        "1bc99a5c",
        "564b6dde",
        "4a1825c9",
        "89db6122",
        "2b825979",
        "3f3c9c77",
        "2f8e628d"
      ]
    },
    "accelerator": "GPU"
  },
  "nbformat": 4,
  "nbformat_minor": 5
}